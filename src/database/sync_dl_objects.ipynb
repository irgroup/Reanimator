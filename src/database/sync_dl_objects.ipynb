{
 "cells": [
  {
   "cell_type": "code",
   "execution_count": 1,
   "metadata": {},
   "outputs": [],
   "source": [
    "import os\n",
    "from tqdm import tqdm\n",
    "import glob\n",
    "import json\n",
    "from database_setup import setup_engine_session, add_docling_objects_to_database, safe_docling_obj_to_folder\n",
    "from dotenv import dotenv_values\n",
    "\n",
    "from docling_obj import Docling_Object\n",
    "\n",
    "db_vals = dotenv_values(\"/workspace/src/.env\")\n",
    "\n",
    "session = setup_engine_session(db_vals['USER'], db_vals['PASSWORD'], db_vals['ADDRESS'], db_vals['PORT'], \"docling_obj\", echo=False, Base=Docling_Object)"
   ]
  },
  {
   "cell_type": "code",
   "execution_count": null,
   "metadata": {},
   "outputs": [],
   "source": [
    "add_docling_objects_to_database(docling_out=\"/workspace/src/docling_out\", session=session, top_k=None)\n"
   ]
  },
  {
   "cell_type": "code",
   "execution_count": null,
   "metadata": {},
   "outputs": [],
   "source": [
    "safe_docling_obj_to_folder(docling_out=\"/workspace/src/docling_out\", session=session)"
   ]
  },
  {
   "cell_type": "code",
   "execution_count": 34,
   "metadata": {},
   "outputs": [],
   "source": [
    "from docling_core.types.doc import DoclingDocument"
   ]
  },
  {
   "cell_type": "code",
   "execution_count": 36,
   "metadata": {},
   "outputs": [],
   "source": [
    "doc1 = DoclingDocument.load_from_json(\"/workspace/src/docling_out/10.1007$978-3-642-33108-4_10.json\")"
   ]
  }
 ],
 "metadata": {
  "kernelspec": {
   "display_name": "Python 3",
   "language": "python",
   "name": "python3"
  },
  "language_info": {
   "codemirror_mode": {
    "name": "ipython",
    "version": 3
   },
   "file_extension": ".py",
   "mimetype": "text/x-python",
   "name": "python",
   "nbconvert_exporter": "python",
   "pygments_lexer": "ipython3",
   "version": "3.10.12"
  }
 },
 "nbformat": 4,
 "nbformat_minor": 2
}
