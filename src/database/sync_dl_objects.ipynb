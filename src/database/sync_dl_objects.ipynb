{
 "cells": [
  {
   "cell_type": "code",
   "execution_count": 3,
   "metadata": {},
   "outputs": [
    {
     "ename": "SyntaxError",
     "evalue": "invalid syntax. Perhaps you forgot a comma? (database_setup.py, line 102)",
     "output_type": "error",
     "traceback": [
      "Traceback \u001b[0;36m(most recent call last)\u001b[0m:\n",
      "\u001b[0m  File \u001b[1;32m~/.local/lib/python3.10/site-packages/IPython/core/interactiveshell.py:3577\u001b[0m in \u001b[1;35mrun_code\u001b[0m\n    exec(code_obj, self.user_global_ns, self.user_ns)\u001b[0m\n",
      "\u001b[0;36m  Cell \u001b[0;32mIn[3], line 5\u001b[0;36m\n\u001b[0;31m    from database_setup import setup_engine_session, add_docling_objects_to_database, safe_docling_obj_to_folder\u001b[0;36m\n",
      "\u001b[0;36m  File \u001b[0;32m/workspace/src/database/database_setup.py:102\u001b[0;36m\u001b[0m\n\u001b[0;31m    header = table.export_to_dataframe().columns.to_list()\u001b[0m\n\u001b[0m             ^\u001b[0m\n\u001b[0;31mSyntaxError\u001b[0m\u001b[0;31m:\u001b[0m invalid syntax. Perhaps you forgot a comma?\n"
     ]
    }
   ],
   "source": [
    "import os\n",
    "from tqdm import tqdm\n",
    "import glob\n",
    "import json\n",
    "from database_setup import setup_engine_session, add_docling_objects_to_database, safe_docling_obj_to_folder\n",
    "from dotenv import dotenv_values\n",
    "\n",
    "from docling_obj import Docling_Object\n",
    "\n",
    "db_vals = dotenv_values(\"/workspace/src/.env\")\n",
    "\n",
    "session = setup_engine_session(db_vals['USER'], db_vals['PASSWORD'], db_vals['ADDRESS'], db_vals['PORT'], \"docling_obj\", echo=False, Base=Docling_Object)"
   ]
  },
  {
   "cell_type": "code",
   "execution_count": null,
   "metadata": {},
   "outputs": [],
   "source": [
    "add_docling_objects_to_database(docling_out=\"/workspace/src/docling_out\", session=session, top_k=None)\n"
   ]
  },
  {
   "cell_type": "code",
   "execution_count": null,
   "metadata": {},
   "outputs": [],
   "source": [
    "safe_docling_obj_to_folder(docling_out=\"/workspace/src/docling_out\", session=session)"
   ]
  },
  {
   "cell_type": "code",
   "execution_count": 34,
   "metadata": {},
   "outputs": [],
   "source": [
    "from docling_core.types.doc import DoclingDocument"
   ]
  },
  {
   "cell_type": "code",
   "execution_count": 36,
   "metadata": {},
   "outputs": [],
   "source": [
    "doc1 = DoclingDocument.load_from_json(\"/workspace/src/docling_out/10.1007$978-3-642-33108-4_10.json\")"
   ]
  }
 ],
 "metadata": {
  "kernelspec": {
   "display_name": "Python 3",
   "language": "python",
   "name": "python3"
  },
  "language_info": {
   "codemirror_mode": {
    "name": "ipython",
    "version": 3
   },
   "file_extension": ".py",
   "mimetype": "text/x-python",
   "name": "python",
   "nbconvert_exporter": "python",
   "pygments_lexer": "ipython3",
   "version": "3.10.12"
  }
 },
 "nbformat": 4,
 "nbformat_minor": 2
}
