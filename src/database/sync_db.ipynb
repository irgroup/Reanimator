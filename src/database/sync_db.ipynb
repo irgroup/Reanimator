{
 "cells": [
  {
   "cell_type": "code",
   "execution_count": 1,
   "metadata": {},
   "outputs": [
    {
     "ename": "KeyError",
     "evalue": "'USER'",
     "output_type": "error",
     "traceback": [
      "\u001b[0;31m---------------------------------------------------------------------------\u001b[0m",
      "\u001b[0;31mKeyError\u001b[0m                                  Traceback (most recent call last)",
      "Cell \u001b[0;32mIn[1], line 8\u001b[0m\n\u001b[1;32m      5\u001b[0m \u001b[38;5;28;01mfrom\u001b[39;00m \u001b[38;5;21;01mmodel\u001b[39;00m \u001b[38;5;28;01mimport\u001b[39;00m Document\n\u001b[1;32m      7\u001b[0m db_vals \u001b[38;5;241m=\u001b[39m dotenv_values(\u001b[38;5;124m\"\u001b[39m\u001b[38;5;124m/workspace/.env\u001b[39m\u001b[38;5;124m\"\u001b[39m)\n\u001b[0;32m----> 8\u001b[0m session \u001b[38;5;241m=\u001b[39m setup_engine_session(\u001b[43mdb_vals\u001b[49m\u001b[43m[\u001b[49m\u001b[38;5;124;43m'\u001b[39;49m\u001b[38;5;124;43mUSER\u001b[39;49m\u001b[38;5;124;43m'\u001b[39;49m\u001b[43m]\u001b[49m, db_vals[\u001b[38;5;124m'\u001b[39m\u001b[38;5;124mPASSWORD\u001b[39m\u001b[38;5;124m'\u001b[39m], db_vals[\u001b[38;5;124m'\u001b[39m\u001b[38;5;124mADDRESS\u001b[39m\u001b[38;5;124m'\u001b[39m], db_vals[\u001b[38;5;124m'\u001b[39m\u001b[38;5;124mPORT\u001b[39m\u001b[38;5;124m'\u001b[39m], db_vals[\u001b[38;5;124m'\u001b[39m\u001b[38;5;124mDB\u001b[39m\u001b[38;5;124m'\u001b[39m], echo\u001b[38;5;241m=\u001b[39m\u001b[38;5;28;01mFalse\u001b[39;00m)\n",
      "\u001b[0;31mKeyError\u001b[0m: 'USER'"
     ]
    }
   ],
   "source": [
    "import os\n",
    "from database_setup import setup_engine_session, is_sane, add_pdfs_to_database, save_pdfs_to_folder\n",
    "from dotenv import dotenv_values\n",
    "\n",
    "from model import Document\n",
    "\n",
    "db_vals = dotenv_values(\"/workspace/src/.env\")\n",
    "session = setup_engine_session(db_vals['USER'], db_vals['PASSWORD'], db_vals['ADDRESS'], db_vals['PORT'], db_vals['DB'], echo=False)"
   ]
  },
  {
   "cell_type": "code",
   "execution_count": null,
   "metadata": {},
   "outputs": [],
   "source": [
    "add_pdfs_to_database(\"/workspace/pdfs\", session, omit_bytes=False, first_n=1000)"
   ]
  },
  {
   "cell_type": "code",
   "execution_count": null,
   "metadata": {},
   "outputs": [],
   "source": [
    "save_pdfs_to_folder(\"/workspace/pdfs\", session)"
   ]
  }
 ],
 "metadata": {
  "kernelspec": {
   "display_name": "Python 3",
   "language": "python",
   "name": "python3"
  },
  "language_info": {
   "codemirror_mode": {
    "name": "ipython",
    "version": 3
   },
   "file_extension": ".py",
   "mimetype": "text/x-python",
   "name": "python",
   "nbconvert_exporter": "python",
   "pygments_lexer": "ipython3",
   "version": "3.10.12"
  }
 },
 "nbformat": 4,
 "nbformat_minor": 2
}
