{
 "cells": [
  {
   "cell_type": "code",
   "execution_count": 1,
   "metadata": {},
   "outputs": [],
   "source": [
    "import os\n",
    "from database_setup import setup_engine_session, is_sane, add_pdfs_to_database, save_pdfs_to_folder\n",
    "from dotenv import dotenv_values\n",
    "\n",
    "from model import Document\n",
    "\n",
    "db_vals = dotenv_values(\"/workspace/src/.env\")\n",
    "session = setup_engine_session(db_vals['USER'], db_vals['PASSWORD'], db_vals['ADDRESS'], db_vals['PORT'], db_vals['DB'], echo=False)"
   ]
  },
  {
   "cell_type": "code",
   "execution_count": 2,
   "metadata": {},
   "outputs": [
    {
     "name": "stderr",
     "output_type": "stream",
     "text": [
      "Processing PDFs:  62%|██████▏   | 40480/65363 [11:22<7:51:38,  1.14s/it] Overwriting cache for 0 1528\n",
      "Processing PDFs:  66%|██████▋   | 43360/65363 [51:00<3:56:16,  1.55it/s] XRef object at 4057 can not be read, some object may be missing\n",
      "Processing PDFs:  76%|███████▌  | 49410/65363 [1:45:13<2:27:31,  1.80it/s]Invalid parent xref., rebuild xref\n",
      "Processing PDFs:  86%|████████▌ | 55890/65363 [2:50:08<1:55:05,  1.37it/s] incorrect startxref pointer(1)\n",
      "Processing PDFs: 100%|██████████| 65363/65363 [4:22:07<00:00,  4.16it/s]  \n"
     ]
    },
    {
     "name": "stdout",
     "output_type": "stream",
     "text": [
      "All PDFs have been added to the database.\n"
     ]
    }
   ],
   "source": [
    "add_pdfs_to_database(\"/workspace/src/pdfs\", session, omit_bytes=False, first_n=None)"
   ]
  },
  {
   "cell_type": "code",
   "execution_count": null,
   "metadata": {},
   "outputs": [],
   "source": [
    "save_pdfs_to_folder(\"/workspace/pdfs\", session)"
   ]
  }
 ],
 "metadata": {
  "kernelspec": {
   "display_name": "Python 3",
   "language": "python",
   "name": "python3"
  },
  "language_info": {
   "codemirror_mode": {
    "name": "ipython",
    "version": 3
   },
   "file_extension": ".py",
   "mimetype": "text/x-python",
   "name": "python",
   "nbconvert_exporter": "python",
   "pygments_lexer": "ipython3",
   "version": "3.10.12"
  }
 },
 "nbformat": 4,
 "nbformat_minor": 2
}
