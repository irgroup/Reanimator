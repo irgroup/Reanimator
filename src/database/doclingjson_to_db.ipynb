{
 "cells": [
  {
   "cell_type": "code",
   "execution_count": 1,
   "metadata": {},
   "outputs": [],
   "source": [
    "from database_setup import *\n",
    "from model import *\n",
    "\n",
    "from docling.document_converter import DocumentConverter, PdfFormatOption\n",
    "from docling.datamodel.pipeline_options import PdfPipelineOptions, TableFormerMode\n",
    "from docling.datamodel.base_models import InputFormat\n",
    "from docling_core.types.doc import DoclingDocument\n"
   ]
  },
  {
   "cell_type": "code",
   "execution_count": 2,
   "metadata": {},
   "outputs": [],
   "source": [
    "docling_docs = sorted(glob.glob(\"/workspace/src/docling_out/*\"))[:50]"
   ]
  },
  {
   "cell_type": "code",
   "execution_count": 3,
   "metadata": {},
   "outputs": [
    {
     "data": {
      "text/plain": [
       "'/workspace/src/docling_out/10.1002$hed.26257.json'"
      ]
     },
     "execution_count": 3,
     "metadata": {},
     "output_type": "execute_result"
    }
   ],
   "source": [
    "docling_docs[1]"
   ]
  },
  {
   "cell_type": "code",
   "execution_count": 4,
   "metadata": {},
   "outputs": [],
   "source": [
    "x = extract_data_from_json_docling(docling_docs[3])"
   ]
  },
  {
   "cell_type": "code",
   "execution_count": 5,
   "metadata": {},
   "outputs": [],
   "source": [
    "db_vals = dotenv_values(\"/workspace/src/.env\")\n",
    "session = setup_engine_session(db_vals['USER'], db_vals['PASSWORD'], db_vals['ADDRESS'], db_vals['PORT'], db_vals['DB'], echo=False)"
   ]
  },
  {
   "cell_type": "code",
   "execution_count": 6,
   "metadata": {},
   "outputs": [
    {
     "name": "stderr",
     "output_type": "stream",
     "text": [
      "Overall Progress:   2%|▏         | 1/50 [00:11<09:32, 11.69s/it]ERROR:root:Error committing session: (psycopg2.errors.UndefinedColumn) column \"pdf\" of relation \"document\" does not exist\n",
      "LINE 1: INSERT INTO document (doi, title, publication_id, pdf, pdf_i...\n",
      "                                                          ^\n",
      "\n",
      "[SQL: INSERT INTO document (doi, title, publication_id, pdf, pdf_is_sane) VALUES (%(doi__0)s, %(title__0)s, %(publication_id__0)s, %(pdf__0)s, %(pdf_is_sane__0)s), (%(doi__1)s, %(title__1)s, %(publication_id__1)s, %(pdf__1)s, %(pdf_is_sane__1)s), (%(doi__2 ... 553 characters truncated ... pdf_is_sane__8)s), (%(doi__9)s, %(title__9)s, %(publication_id__9)s, %(pdf__9)s, %(pdf_is_sane__9)s)]\n",
      "[parameters: {'title__0': '', 'publication_id__0': 101, 'pdf_is_sane__0': False, 'pdf__0': None, 'doi__0': '10.1002$ajh.21743', 'title__1': '', 'publication_id__1': 102, 'pdf_is_sane__1': False, 'pdf__1': None, 'doi__1': '10.1002$hed.26257', 'title__2': '', 'publication_id__2': 103, 'pdf_is_sane__2': False, 'pdf__2': None, 'doi__2': '10.1002$jccs.200400134', 'title__3': '', 'publication_id__3': 104, 'pdf_is_sane__3': False, 'pdf__3': None, 'doi__3': '10.1002$jmv.20953', 'title__4': '', 'publication_id__4': 105, 'pdf_is_sane__4': False, 'pdf__4': None, 'doi__4': '10.1002$jmv.26027', 'title__5': '', 'publication_id__5': 106, 'pdf_is_sane__5': False, 'pdf__5': None, 'doi__5': '10.1002$jmv.26063', 'title__6': '', 'publication_id__6': 107, 'pdf_is_sane__6': False, 'pdf__6': None, 'doi__6': '10.1002$med.20023', 'title__7': '', 'publication_id__7': 108, 'pdf_is_sane__7': False, 'pdf__7': None, 'doi__7': '10.1002$pbc.28435', 'title__8': '', 'publication_id__8': 109, 'pdf_is_sane__8': False, 'pdf__8': None, 'doi__8': '10.1002$pmic.201000139', 'title__9': '', 'publication_id__9': 110, 'pdf_is_sane__9': False, 'pdf__9': None, 'doi__9': '10.1002$rmv.1903'}]\n",
      "(Background on this error at: https://sqlalche.me/e/20/f405)\n",
      "Overall Progress:  22%|██▏       | 11/50 [00:23<01:12,  1.86s/it]ERROR:root:Error committing session: (psycopg2.errors.UndefinedColumn) column \"pdf\" of relation \"document\" does not exist\n",
      "LINE 1: INSERT INTO document (doi, title, publication_id, pdf, pdf_i...\n",
      "                                                          ^\n",
      "\n",
      "[SQL: INSERT INTO document (doi, title, publication_id, pdf, pdf_is_sane) VALUES (%(doi__0)s, %(title__0)s, %(publication_id__0)s, %(pdf__0)s, %(pdf_is_sane__0)s), (%(doi__1)s, %(title__1)s, %(publication_id__1)s, %(pdf__1)s, %(pdf_is_sane__1)s), (%(doi__2 ... 553 characters truncated ... pdf_is_sane__8)s), (%(doi__9)s, %(title__9)s, %(publication_id__9)s, %(pdf__9)s, %(pdf_is_sane__9)s)]\n",
      "[parameters: {'title__0': '', 'publication_id__0': 111, 'pdf_is_sane__0': False, 'pdf__0': None, 'doi__0': '10.1007$82_2011_198', 'title__1': '', 'publication_id__1': 112, 'pdf_is_sane__1': False, 'pdf__1': None, 'doi__1': '10.1007$978-0-387-35145-2_3', 'title__2': '', 'publication_id__2': 113, 'pdf_is_sane__2': False, 'pdf__2': None, 'doi__2': '10.1007$978-0-387-71376-2_6', 'title__3': '', 'publication_id__3': 114, 'pdf_is_sane__3': False, 'pdf__3': None, 'doi__3': '10.1007$978-0-387-79840-0_21', 'title__4': '', 'publication_id__4': 115, 'pdf_is_sane__4': False, 'pdf__4': None, 'doi__4': '10.1007$978-1-4020-6106-6_5', 'title__5': '', 'publication_id__5': 116, 'pdf_is_sane__5': False, 'pdf__5': None, 'doi__5': '10.1007$978-1-4939-0265-1_5', 'title__6': '', 'publication_id__6': 117, 'pdf_is_sane__6': False, 'pdf__6': None, 'doi__6': '10.1007$978-3-030-04477-0_12', 'title__7': '', 'publication_id__7': 118, 'pdf_is_sane__7': False, 'pdf__7': None, 'doi__7': '10.1007$978-3-030-26664-6_5', 'title__8': '', 'publication_id__8': 119, 'pdf_is_sane__8': False, 'pdf__8': None, 'doi__8': '10.1007$978-3-030-41395-8_10', 'title__9': '', 'publication_id__9': 120, 'pdf_is_sane__9': False, 'pdf__9': None, 'doi__9': '10.1007$978-3-030-44470-9_16'}]\n",
      "(Background on this error at: https://sqlalche.me/e/20/f405)\n",
      "Overall Progress:  42%|████▏     | 21/50 [00:34<00:42,  1.46s/it]ERROR:root:Error committing session: (psycopg2.errors.UndefinedColumn) column \"pdf\" of relation \"document\" does not exist\n",
      "LINE 1: INSERT INTO document (doi, title, publication_id, pdf, pdf_i...\n",
      "                                                          ^\n",
      "\n",
      "[SQL: INSERT INTO document (doi, title, publication_id, pdf, pdf_is_sane) VALUES (%(doi__0)s, %(title__0)s, %(publication_id__0)s, %(pdf__0)s, %(pdf_is_sane__0)s), (%(doi__1)s, %(title__1)s, %(publication_id__1)s, %(pdf__1)s, %(pdf_is_sane__1)s), (%(doi__2 ... 553 characters truncated ... pdf_is_sane__8)s), (%(doi__9)s, %(title__9)s, %(publication_id__9)s, %(pdf__9)s, %(pdf_is_sane__9)s)]\n",
      "[parameters: {'title__0': '', 'publication_id__0': 121, 'pdf_is_sane__0': False, 'pdf__0': None, 'doi__0': '10.1007$978-3-030-45002-1_37', 'title__1': '', 'publication_id__1': 122, 'pdf_is_sane__1': False, 'pdf__1': None, 'doi__1': '10.1007$978-3-030-45442-5_67', 'title__2': '', 'publication_id__2': 123, 'pdf_is_sane__2': False, 'pdf__2': None, 'doi__2': '10.1007$978-3-030-49161-1_13', 'title__3': '', 'publication_id__3': 124, 'pdf_is_sane__3': False, 'pdf__3': None, 'doi__3': '10.1007$978-3-030-49161-1_27', 'title__4': '', 'publication_id__4': 125, 'pdf_is_sane__4': False, 'pdf__4': None, 'doi__4': '10.1007$978-3-030-49264-9_32', 'title__5': '', 'publication_id__5': 126, 'pdf_is_sane__5': False, 'pdf__5': None, 'doi__5': '10.1007$978-3-030-50153-2_57', 'title__6': '', 'publication_id__6': 127, 'pdf_is_sane__6': False, 'pdf__6': None, 'doi__6': '10.1007$978-3-030-50417-5_38', 'title__7': '', 'publication_id__7': 128, 'pdf_is_sane__7': False, 'pdf__7': None, 'doi__7': '10.1007$978-3-030-51517-1_6', 'title__8': '', 'publication_id__8': 129, 'pdf_is_sane__8': False, 'pdf__8': None, 'doi__8': '10.1007$978-3-030-51924-7_3', 'title__9': '', 'publication_id__9': 130, 'pdf_is_sane__9': False, 'pdf__9': None, 'doi__9': '10.1007$978-3-030-51935-3_18'}]\n",
      "(Background on this error at: https://sqlalche.me/e/20/f405)\n",
      "Overall Progress:  62%|██████▏   | 31/50 [00:46<00:25,  1.33s/it]ERROR:root:Error committing session: (psycopg2.errors.UndefinedColumn) column \"pdf\" of relation \"document\" does not exist\n",
      "LINE 1: INSERT INTO document (doi, title, publication_id, pdf, pdf_i...\n",
      "                                                          ^\n",
      "\n",
      "[SQL: INSERT INTO document (doi, title, publication_id, pdf, pdf_is_sane) VALUES (%(doi__0)s, %(title__0)s, %(publication_id__0)s, %(pdf__0)s, %(pdf_is_sane__0)s), (%(doi__1)s, %(title__1)s, %(publication_id__1)s, %(pdf__1)s, %(pdf_is_sane__1)s), (%(doi__2 ... 553 characters truncated ... pdf_is_sane__8)s), (%(doi__9)s, %(title__9)s, %(publication_id__9)s, %(pdf__9)s, %(pdf_is_sane__9)s)]\n",
      "[parameters: {'title__0': '', 'publication_id__0': 131, 'pdf_is_sane__0': False, 'pdf__0': None, 'doi__0': '10.1007$978-3-030-51935-3_37', 'title__1': '', 'publication_id__1': 132, 'pdf_is_sane__1': False, 'pdf__1': None, 'doi__1': '10.1007$978-3-030-52237-7_44', 'title__2': '', 'publication_id__2': 133, 'pdf_is_sane__2': False, 'pdf__2': None, 'doi__2': '10.1007$978-3-319-12003-4_3', 'title__3': '', 'publication_id__3': 134, 'pdf_is_sane__3': False, 'pdf__3': None, 'doi__3': '10.1007$978-3-319-99921-0_82', 'title__4': '', 'publication_id__4': 135, 'pdf_is_sane__4': False, 'pdf__4': None, 'doi__4': '10.1007$978-3-540-73766-7_7', 'title__5': '', 'publication_id__5': 136, 'pdf_is_sane__5': False, 'pdf__5': None, 'doi__5': '10.1007$978-3-642-01219-8_22', 'title__6': '', 'publication_id__6': 137, 'pdf_is_sane__6': False, 'pdf__6': None, 'doi__6': '10.1007$978-3-642-02202-9_70', 'title__7': '', 'publication_id__7': 138, 'pdf_is_sane__7': False, 'pdf__7': None, 'doi__7': '10.1007$978-3-642-34827-3_26', 'title__8': '', 'publication_id__8': 139, 'pdf_is_sane__8': False, 'pdf__8': None, 'doi__8': '10.1007$978-3-642-37609-2_1', 'title__9': '', 'publication_id__9': 140, 'pdf_is_sane__9': False, 'pdf__9': None, 'doi__9': '10.1007$978-3-658-29433-5_4'}]\n",
      "(Background on this error at: https://sqlalche.me/e/20/f405)\n",
      "Overall Progress:  82%|████████▏ | 41/50 [00:58<00:11,  1.28s/it]ERROR:root:Error committing session: (psycopg2.errors.UndefinedColumn) column \"pdf\" of relation \"document\" does not exist\n",
      "LINE 1: INSERT INTO document (doi, title, publication_id, pdf, pdf_i...\n",
      "                                                          ^\n",
      "\n",
      "[SQL: INSERT INTO document (doi, title, publication_id, pdf, pdf_is_sane) VALUES (%(doi__0)s, %(title__0)s, %(publication_id__0)s, %(pdf__0)s, %(pdf_is_sane__0)s), (%(doi__1)s, %(title__1)s, %(publication_id__1)s, %(pdf__1)s, %(pdf_is_sane__1)s), (%(doi__2 ... 553 characters truncated ... pdf_is_sane__8)s), (%(doi__9)s, %(title__9)s, %(publication_id__9)s, %(pdf__9)s, %(pdf_is_sane__9)s)]\n",
      "[parameters: {'title__0': '', 'publication_id__0': 141, 'pdf_is_sane__0': False, 'pdf__0': None, 'doi__0': '10.1007$978-3-658-30545-1_6', 'title__1': '', 'publication_id__1': 142, 'pdf_is_sane__1': False, 'pdf__1': None, 'doi__1': '10.1007$978-3-662-53557-8_28', 'title__2': '', 'publication_id__2': 143, 'pdf_is_sane__2': False, 'pdf__2': None, 'doi__2': '10.1007$978-3-662-57295-5_4', 'title__3': '', 'publication_id__3': 144, 'pdf_is_sane__3': False, 'pdf__3': None, 'doi__3': '10.1007$bf01310740', 'title__4': '', 'publication_id__4': 145, 'pdf_is_sane__4': False, 'pdf__4': None, 'doi__4': '10.1007$bf01311068', 'title__5': '', 'publication_id__5': 146, 'pdf_is_sane__5': False, 'pdf__5': None, 'doi__5': '10.1007$bf01317493', 'title__6': '', 'publication_id__6': 147, 'pdf_is_sane__6': False, 'pdf__6': None, 'doi__6': '10.1007$s00066-020-01634-8', 'title__7': '', 'publication_id__7': 148, 'pdf_is_sane__7': False, 'pdf__7': None, 'doi__7': '10.1007$s00127-013-0688-9', 'title__8': '', 'publication_id__8': 149, 'pdf_is_sane__8': False, 'pdf__8': None, 'doi__8': '10.1007$s00134-004-2409-z', 'title__9': '', 'publication_id__9': 150, 'pdf_is_sane__9': False, 'pdf__9': None, 'doi__9': '10.1007$s00134-011-2339-5'}]\n",
      "(Background on this error at: https://sqlalche.me/e/20/f405)\n",
      "Overall Progress: 100%|██████████| 50/50 [00:58<00:00,  1.17s/it]\n"
     ]
    }
   ],
   "source": [
    "parallel_extract_data(docling_docs, model, session, num_workers=None, batch_size = 10)"
   ]
  },
  {
   "cell_type": "code",
   "execution_count": null,
   "metadata": {},
   "outputs": [],
   "source": []
  }
 ],
 "metadata": {
  "kernelspec": {
   "display_name": "Python 3",
   "language": "python",
   "name": "python3"
  },
  "language_info": {
   "codemirror_mode": {
    "name": "ipython",
    "version": 3
   },
   "file_extension": ".py",
   "mimetype": "text/x-python",
   "name": "python",
   "nbconvert_exporter": "python",
   "pygments_lexer": "ipython3",
   "version": "3.10.12"
  },
  "orig_nbformat": 4
 },
 "nbformat": 4,
 "nbformat_minor": 2
}
