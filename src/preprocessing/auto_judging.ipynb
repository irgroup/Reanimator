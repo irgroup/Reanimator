{
 "cells": [
  {
   "cell_type": "code",
   "execution_count": 1,
   "metadata": {},
   "outputs": [],
   "source": [
    "import sys\n",
    "sys.path.append('/workspace/src/')"
   ]
  },
  {
   "cell_type": "code",
   "execution_count": null,
   "metadata": {},
   "outputs": [],
   "source": [
    "from dotenv import dotenv_values, load_dotenv\n",
    "from umbrela.gpt_judge import GPTJudge\n",
    "import pickle\n",
    "\n",
    "import json\n",
    "from tqdm import tqdm\n",
    "\n",
    "from preprocessing.utils import parallel_process_topics\n",
    "\n",
    "db_vals = dotenv_values(\"/workspace/src/.env\")\n",
    "load_dotenv()"
   ]
  },
  {
   "cell_type": "code",
   "execution_count": null,
   "metadata": {},
   "outputs": [],
   "source": [
    "#MODEL_NAME=\"gpt-4o-mini\"\n",
    "MODEL_NAME=\"gpt-4o-2024-11-20\"\n",
    "#RETRIEVER=\"cosine\"\n",
    "RETRIEVER=\"bm25\""
   ]
  },
  {
   "cell_type": "code",
   "execution_count": null,
   "metadata": {},
   "outputs": [],
   "source": [
    "judge_gpt = GPTJudge(qrel=\"test_qrels\", prompt_type=\"bing\", engine=MODEL_NAME)\n",
    "topics = pickle.load(open(\"/workspace/src/data/topics.pkl\", \"rb\"))"
   ]
  },
  {
   "cell_type": "code",
   "execution_count": 4,
   "metadata": {},
   "outputs": [],
   "source": [
    "pooling_results_bm25 = pickle.load(open(f\"/workspace/src/data/pooling_results_{RETRIEVER}.pkl\", \"rb\"))"
   ]
  },
  {
   "cell_type": "code",
   "execution_count": null,
   "metadata": {},
   "outputs": [],
   "source": [
    "all_judgments =parallel_process_topics(topics, pooling_results_bm25, judge_gpt, max_workers=20)"
   ]
  },
  {
   "cell_type": "code",
   "execution_count": null,
   "metadata": {},
   "outputs": [],
   "source": [
    "with open(f'/workspace/src/data/qrels_bm25_{MODEL_NAME}.json', 'w', encoding='utf-8') as json_file:\n",
    "    json.dump(all_judgments, json_file, ensure_ascii=False, indent=4)\n",
    "\n",
    "print(\"Auto qrels saved\")"
   ]
  }
 ],
 "metadata": {
  "kernelspec": {
   "display_name": "Python 3",
   "language": "python",
   "name": "python3"
  },
  "language_info": {
   "codemirror_mode": {
    "name": "ipython",
    "version": 3
   },
   "file_extension": ".py",
   "mimetype": "text/x-python",
   "name": "python",
   "nbconvert_exporter": "python",
   "pygments_lexer": "ipython3",
   "version": "3.10.12"
  }
 },
 "nbformat": 4,
 "nbformat_minor": 2
}
