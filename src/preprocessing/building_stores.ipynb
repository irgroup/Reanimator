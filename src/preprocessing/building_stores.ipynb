{
 "cells": [
  {
   "cell_type": "code",
   "execution_count": 1,
   "metadata": {},
   "outputs": [],
   "source": [
    "import sys\n",
    "sys.path.append('/workspace/src/')"
   ]
  },
  {
   "cell_type": "code",
   "execution_count": 2,
   "metadata": {},
   "outputs": [
    {
     "name": "stderr",
     "output_type": "stream",
     "text": [
      "WARNING: Using incubator modules: jdk.incubator.vector\n",
      "[nltk_data] Downloading package punkt_tab to /root/nltk_data...\n",
      "[nltk_data]   Package punkt_tab is already up-to-date!\n"
     ]
    }
   ],
   "source": [
    "#get text chunks to index\n",
    "from dotenv import dotenv_values, load_dotenv\n",
    "from sqlalchemy import create_engine\n",
    "from sqlalchemy.orm import Session\n",
    "\n",
    "import pickle\n",
    "from tqdm import tqdm\n",
    "import os\n",
    "import pandas as pd\n",
    "\n",
    "import langchain_core.documents\n",
    "from langchain_community.retrievers import BM25Retriever\n",
    "from database.model import Base, Document, Table\n",
    "from database.chunk_model import Chunk_Base, Chunk\n",
    "\n",
    "from preprocessing.utils import create_vectorstore, load_vectorstore, process_pickle_embeddings_in_chunks\n",
    "import nltk\n",
    "from nltk.tokenize import word_tokenize\n",
    "\n",
    "nltk.download(\"punkt_tab\")\n",
    "db_vals = dotenv_values(\"/workspace/src/.env\")\n"
   ]
  },
  {
   "cell_type": "code",
   "execution_count": 3,
   "metadata": {},
   "outputs": [],
   "source": [
    "chunk_engine = create_engine(f\"postgresql+psycopg2://{db_vals['USER']}:{db_vals['PASSWORD']}@{db_vals['ADDRESS']}:{db_vals['PORT']}/cord19chunks\", echo=False)\n",
    "chunk_session = Session(chunk_engine)"
   ]
  },
  {
   "cell_type": "code",
   "execution_count": 24,
   "metadata": {},
   "outputs": [
    {
     "name": "stderr",
     "output_type": "stream",
     "text": [
      "/workspace/src/preprocessing/utils.py:57: LangChainDeprecationWarning: The class `OpenAIEmbeddings` was deprecated in LangChain 0.0.9 and will be removed in 1.0. An updated version of the class exists in the :class:`~langchain-openai package and should be used instead. To use it run `pip install -U :class:`~langchain-openai` and import as `from :class:`~langchain_openai import OpenAIEmbeddings``.\n",
      "  embedding = OpenAIEmbeddings(model=embedding_model)\n"
     ]
    },
    {
     "data": {
      "application/vnd.jupyter.widget-view+json": {
       "model_id": "5fcac4b47216418d817d39998e6c2b3d",
       "version_major": 2,
       "version_minor": 0
      },
      "text/plain": [
       "0it [00:00, ?it/s]"
      ]
     },
     "metadata": {},
     "output_type": "display_data"
    },
    {
     "ename": "ValueError",
     "evalue": "Expected Embedings to be non-empty list or numpy array, got [] in upsert.",
     "output_type": "error",
     "traceback": [
      "\u001b[0;31m---------------------------------------------------------------------------\u001b[0m",
      "\u001b[0;31mValueError\u001b[0m                                Traceback (most recent call last)",
      "File \u001b[0;32m/usr/local/lib/python3.10/dist-packages/chromadb/api/models/CollectionCommon.py:90\u001b[0m, in \u001b[0;36mvalidation_context.<locals>.decorator.<locals>.wrapper\u001b[0;34m(self, *args, **kwargs)\u001b[0m\n\u001b[1;32m     89\u001b[0m \u001b[38;5;28;01mtry\u001b[39;00m:\n\u001b[0;32m---> 90\u001b[0m     \u001b[38;5;28;01mreturn\u001b[39;00m \u001b[43mfunc\u001b[49m\u001b[43m(\u001b[49m\u001b[38;5;28;43mself\u001b[39;49m\u001b[43m,\u001b[49m\u001b[43m \u001b[49m\u001b[38;5;241;43m*\u001b[39;49m\u001b[43margs\u001b[49m\u001b[43m,\u001b[49m\u001b[43m \u001b[49m\u001b[38;5;241;43m*\u001b[39;49m\u001b[38;5;241;43m*\u001b[39;49m\u001b[43mkwargs\u001b[49m\u001b[43m)\u001b[49m\n\u001b[1;32m     91\u001b[0m \u001b[38;5;28;01mexcept\u001b[39;00m \u001b[38;5;167;01mException\u001b[39;00m \u001b[38;5;28;01mas\u001b[39;00m e:\n",
      "File \u001b[0;32m/usr/local/lib/python3.10/dist-packages/chromadb/api/models/CollectionCommon.py:389\u001b[0m, in \u001b[0;36mCollectionCommon._validate_and_prepare_upsert_request\u001b[0;34m(self, ids, embeddings, metadatas, documents, images, uris)\u001b[0m\n\u001b[1;32m    373\u001b[0m \u001b[38;5;129m@validation_context\u001b[39m(\u001b[38;5;124m\"\u001b[39m\u001b[38;5;124mupsert\u001b[39m\u001b[38;5;124m\"\u001b[39m)\n\u001b[1;32m    374\u001b[0m \u001b[38;5;28;01mdef\u001b[39;00m \u001b[38;5;21m_validate_and_prepare_upsert_request\u001b[39m(\n\u001b[1;32m    375\u001b[0m     \u001b[38;5;28mself\u001b[39m,\n\u001b[0;32m   (...)\u001b[0m\n\u001b[1;32m    387\u001b[0m ) \u001b[38;5;241m-\u001b[39m\u001b[38;5;241m>\u001b[39m UpsertRequest:\n\u001b[1;32m    388\u001b[0m     \u001b[38;5;66;03m# Unpack\u001b[39;00m\n\u001b[0;32m--> 389\u001b[0m     upsert_records \u001b[38;5;241m=\u001b[39m \u001b[43mnormalize_insert_record_set\u001b[49m\u001b[43m(\u001b[49m\n\u001b[1;32m    390\u001b[0m \u001b[43m        \u001b[49m\u001b[43mids\u001b[49m\u001b[38;5;241;43m=\u001b[39;49m\u001b[43mids\u001b[49m\u001b[43m,\u001b[49m\n\u001b[1;32m    391\u001b[0m \u001b[43m        \u001b[49m\u001b[43membeddings\u001b[49m\u001b[38;5;241;43m=\u001b[39;49m\u001b[43membeddings\u001b[49m\u001b[43m,\u001b[49m\n\u001b[1;32m    392\u001b[0m \u001b[43m        \u001b[49m\u001b[43mmetadatas\u001b[49m\u001b[38;5;241;43m=\u001b[39;49m\u001b[43mmetadatas\u001b[49m\u001b[43m,\u001b[49m\n\u001b[1;32m    393\u001b[0m \u001b[43m        \u001b[49m\u001b[43mdocuments\u001b[49m\u001b[38;5;241;43m=\u001b[39;49m\u001b[43mdocuments\u001b[49m\u001b[43m,\u001b[49m\n\u001b[1;32m    394\u001b[0m \u001b[43m        \u001b[49m\u001b[43mimages\u001b[49m\u001b[38;5;241;43m=\u001b[39;49m\u001b[43mimages\u001b[49m\u001b[43m,\u001b[49m\n\u001b[1;32m    395\u001b[0m \u001b[43m        \u001b[49m\u001b[43muris\u001b[49m\u001b[38;5;241;43m=\u001b[39;49m\u001b[43muris\u001b[49m\u001b[43m,\u001b[49m\n\u001b[1;32m    396\u001b[0m \u001b[43m    \u001b[49m\u001b[43m)\u001b[49m\n\u001b[1;32m    398\u001b[0m     \u001b[38;5;66;03m# Validate\u001b[39;00m\n",
      "File \u001b[0;32m/usr/local/lib/python3.10/dist-packages/chromadb/api/types.py:187\u001b[0m, in \u001b[0;36mnormalize_insert_record_set\u001b[0;34m(ids, embeddings, metadatas, documents, images, uris)\u001b[0m\n\u001b[1;32m    184\u001b[0m \u001b[38;5;250m\u001b[39m\u001b[38;5;124;03m\"\"\"\u001b[39;00m\n\u001b[1;32m    185\u001b[0m \u001b[38;5;124;03mUnpacks and normalizes the fields of an InsertRecordSet.\u001b[39;00m\n\u001b[1;32m    186\u001b[0m \u001b[38;5;124;03m\"\"\"\u001b[39;00m\n\u001b[0;32m--> 187\u001b[0m base_record_set \u001b[38;5;241m=\u001b[39m \u001b[43mnormalize_base_record_set\u001b[49m\u001b[43m(\u001b[49m\n\u001b[1;32m    188\u001b[0m \u001b[43m    \u001b[49m\u001b[43membeddings\u001b[49m\u001b[38;5;241;43m=\u001b[39;49m\u001b[43membeddings\u001b[49m\u001b[43m,\u001b[49m\u001b[43m \u001b[49m\u001b[43mdocuments\u001b[49m\u001b[38;5;241;43m=\u001b[39;49m\u001b[43mdocuments\u001b[49m\u001b[43m,\u001b[49m\u001b[43m \u001b[49m\u001b[43mimages\u001b[49m\u001b[38;5;241;43m=\u001b[39;49m\u001b[43mimages\u001b[49m\u001b[43m,\u001b[49m\u001b[43m \u001b[49m\u001b[43muris\u001b[49m\u001b[38;5;241;43m=\u001b[39;49m\u001b[43muris\u001b[49m\n\u001b[1;32m    189\u001b[0m \u001b[43m\u001b[49m\u001b[43m)\u001b[49m\n\u001b[1;32m    191\u001b[0m \u001b[38;5;28;01mreturn\u001b[39;00m InsertRecordSet(\n\u001b[1;32m    192\u001b[0m     ids\u001b[38;5;241m=\u001b[39mcast(IDs, maybe_cast_one_to_many(ids)),\n\u001b[1;32m    193\u001b[0m     metadatas\u001b[38;5;241m=\u001b[39mmaybe_cast_one_to_many(metadatas),\n\u001b[0;32m   (...)\u001b[0m\n\u001b[1;32m    197\u001b[0m     uris\u001b[38;5;241m=\u001b[39mbase_record_set[\u001b[38;5;124m\"\u001b[39m\u001b[38;5;124muris\u001b[39m\u001b[38;5;124m\"\u001b[39m],\n\u001b[1;32m    198\u001b[0m )\n",
      "File \u001b[0;32m/usr/local/lib/python3.10/dist-packages/chromadb/api/types.py:164\u001b[0m, in \u001b[0;36mnormalize_base_record_set\u001b[0;34m(embeddings, documents, images, uris)\u001b[0m\n\u001b[1;32m    159\u001b[0m \u001b[38;5;250m\u001b[39m\u001b[38;5;124;03m\"\"\"\u001b[39;00m\n\u001b[1;32m    160\u001b[0m \u001b[38;5;124;03mUnpacks and normalizes the fields of a BaseRecordSet.\u001b[39;00m\n\u001b[1;32m    161\u001b[0m \u001b[38;5;124;03m\"\"\"\u001b[39;00m\n\u001b[1;32m    163\u001b[0m \u001b[38;5;28;01mreturn\u001b[39;00m BaseRecordSet(\n\u001b[0;32m--> 164\u001b[0m     embeddings\u001b[38;5;241m=\u001b[39m\u001b[43mnormalize_embeddings\u001b[49m\u001b[43m(\u001b[49m\u001b[43membeddings\u001b[49m\u001b[43m)\u001b[49m,\n\u001b[1;32m    165\u001b[0m     documents\u001b[38;5;241m=\u001b[39mmaybe_cast_one_to_many(documents),\n\u001b[1;32m    166\u001b[0m     images\u001b[38;5;241m=\u001b[39mmaybe_cast_one_to_many(images),\n\u001b[1;32m    167\u001b[0m     uris\u001b[38;5;241m=\u001b[39mmaybe_cast_one_to_many(uris),\n\u001b[1;32m    168\u001b[0m )\n",
      "File \u001b[0;32m/usr/local/lib/python3.10/dist-packages/chromadb/api/types.py:61\u001b[0m, in \u001b[0;36mnormalize_embeddings\u001b[0;34m(target)\u001b[0m\n\u001b[1;32m     60\u001b[0m \u001b[38;5;28;01mif\u001b[39;00m \u001b[38;5;28mlen\u001b[39m(target) \u001b[38;5;241m==\u001b[39m \u001b[38;5;241m0\u001b[39m:\n\u001b[0;32m---> 61\u001b[0m     \u001b[38;5;28;01mraise\u001b[39;00m \u001b[38;5;167;01mValueError\u001b[39;00m(\n\u001b[1;32m     62\u001b[0m         \u001b[38;5;124mf\u001b[39m\u001b[38;5;124m\"\u001b[39m\u001b[38;5;124mExpected Embedings to be non-empty list or numpy array, got \u001b[39m\u001b[38;5;132;01m{\u001b[39;00mtarget\u001b[38;5;132;01m}\u001b[39;00m\u001b[38;5;124m\"\u001b[39m\n\u001b[1;32m     63\u001b[0m     )\n\u001b[1;32m     65\u001b[0m \u001b[38;5;28;01mif\u001b[39;00m \u001b[38;5;28misinstance\u001b[39m(target, \u001b[38;5;28mlist\u001b[39m):\n\u001b[1;32m     66\u001b[0m     \u001b[38;5;66;03m# One PyEmbedding\u001b[39;00m\n",
      "\u001b[0;31mValueError\u001b[0m: Expected Embedings to be non-empty list or numpy array, got []",
      "\nDuring handling of the above exception, another exception occurred:\n",
      "\u001b[0;31mValueError\u001b[0m                                Traceback (most recent call last)",
      "Cell \u001b[0;32mIn[24], line 2\u001b[0m\n\u001b[1;32m      1\u001b[0m \u001b[38;5;66;03m#building vector store\u001b[39;00m\n\u001b[0;32m----> 2\u001b[0m vectorstore \u001b[38;5;241m=\u001b[39m \u001b[43mcreate_vectorstore\u001b[49m\u001b[43m(\u001b[49m\u001b[43mchunks\u001b[49m\u001b[38;5;241;43m=\u001b[39;49m\u001b[43m[\u001b[49m\u001b[43m]\u001b[49m\u001b[43m,\u001b[49m\u001b[43m \u001b[49m\u001b[43msave_path\u001b[49m\u001b[38;5;241;43m=\u001b[39;49m\u001b[38;5;124;43m\"\u001b[39;49m\u001b[38;5;124;43mvectorstore_small\u001b[39;49m\u001b[38;5;124;43m\"\u001b[39;49m\u001b[43m)\u001b[49m\n\u001b[1;32m      4\u001b[0m \u001b[38;5;66;03m#vectorstore = load_vectorstore(\"/workspace/src/preprocessing/vectorstores/chromadb_store\")\u001b[39;00m\n",
      "File \u001b[0;32m/workspace/src/preprocessing/utils.py:69\u001b[0m, in \u001b[0;36mcreate_vectorstore\u001b[0;34m(chunks, embedding_model, db_backend, save_path)\u001b[0m\n\u001b[1;32m     66\u001b[0m     vectorstore\u001b[38;5;241m.\u001b[39msave_local(os\u001b[38;5;241m.\u001b[39mpath\u001b[38;5;241m.\u001b[39mjoin(save_path, \u001b[38;5;124m\"\u001b[39m\u001b[38;5;124mtext_plus_table_vectorstore\u001b[39m\u001b[38;5;124m\"\u001b[39m))\n\u001b[1;32m     68\u001b[0m \u001b[38;5;28;01melif\u001b[39;00m db_backend\u001b[38;5;241m.\u001b[39mlower() \u001b[38;5;241m==\u001b[39m \u001b[38;5;124m\"\u001b[39m\u001b[38;5;124mchromadb\u001b[39m\u001b[38;5;124m\"\u001b[39m:\n\u001b[0;32m---> 69\u001b[0m     vectorstore \u001b[38;5;241m=\u001b[39m \u001b[43mChroma\u001b[49m\u001b[38;5;241;43m.\u001b[39;49m\u001b[43mfrom_documents\u001b[49m\u001b[43m(\u001b[49m\n\u001b[1;32m     70\u001b[0m \u001b[43m        \u001b[49m\u001b[43mdocuments\u001b[49m\u001b[38;5;241;43m=\u001b[39;49m\u001b[43mlang_docs\u001b[49m\u001b[43m,\u001b[49m\n\u001b[1;32m     71\u001b[0m \u001b[43m        \u001b[49m\u001b[43membedding\u001b[49m\u001b[38;5;241;43m=\u001b[39;49m\u001b[43membedding\u001b[49m\u001b[43m,\u001b[49m\n\u001b[1;32m     72\u001b[0m \u001b[43m        \u001b[49m\u001b[43mpersist_directory\u001b[49m\u001b[38;5;241;43m=\u001b[39;49m\u001b[43mos\u001b[49m\u001b[38;5;241;43m.\u001b[39;49m\u001b[43mpath\u001b[49m\u001b[38;5;241;43m.\u001b[39;49m\u001b[43mjoin\u001b[49m\u001b[43m(\u001b[49m\u001b[43msave_path\u001b[49m\u001b[43m,\u001b[49m\u001b[43m \u001b[49m\u001b[38;5;124;43m\"\u001b[39;49m\u001b[38;5;124;43mchromadb_store\u001b[39;49m\u001b[38;5;124;43m\"\u001b[39;49m\u001b[43m)\u001b[49m\n\u001b[1;32m     73\u001b[0m \u001b[43m    \u001b[49m\u001b[43m)\u001b[49m\n\u001b[1;32m     74\u001b[0m \u001b[38;5;28;01melse\u001b[39;00m:\n\u001b[1;32m     75\u001b[0m     \u001b[38;5;28;01mraise\u001b[39;00m \u001b[38;5;167;01mValueError\u001b[39;00m(\u001b[38;5;124mf\u001b[39m\u001b[38;5;124m\"\u001b[39m\u001b[38;5;124mUnsupported database backend: \u001b[39m\u001b[38;5;132;01m{\u001b[39;00mdb_backend\u001b[38;5;132;01m}\u001b[39;00m\u001b[38;5;124m. Use \u001b[39m\u001b[38;5;124m'\u001b[39m\u001b[38;5;124mfaiss\u001b[39m\u001b[38;5;124m'\u001b[39m\u001b[38;5;124m, \u001b[39m\u001b[38;5;124m'\u001b[39m\u001b[38;5;124mchromadb\u001b[39m\u001b[38;5;124m'\u001b[39m\u001b[38;5;124m, \u001b[39m\u001b[38;5;124m'\u001b[39m\u001b[38;5;124mlancedb\u001b[39m\u001b[38;5;124m'\u001b[39m\u001b[38;5;124m, or \u001b[39m\u001b[38;5;124m'\u001b[39m\u001b[38;5;124mpinecone\u001b[39m\u001b[38;5;124m'\u001b[39m\u001b[38;5;124m.\u001b[39m\u001b[38;5;124m\"\u001b[39m)\n",
      "File \u001b[0;32m/usr/local/lib/python3.10/dist-packages/langchain_community/vectorstores/chroma.py:887\u001b[0m, in \u001b[0;36mChroma.from_documents\u001b[0;34m(cls, documents, embedding, ids, collection_name, persist_directory, client_settings, client, collection_metadata, **kwargs)\u001b[0m\n\u001b[1;32m    885\u001b[0m texts \u001b[38;5;241m=\u001b[39m [doc\u001b[38;5;241m.\u001b[39mpage_content \u001b[38;5;28;01mfor\u001b[39;00m doc \u001b[38;5;129;01min\u001b[39;00m documents]\n\u001b[1;32m    886\u001b[0m metadatas \u001b[38;5;241m=\u001b[39m [doc\u001b[38;5;241m.\u001b[39mmetadata \u001b[38;5;28;01mfor\u001b[39;00m doc \u001b[38;5;129;01min\u001b[39;00m documents]\n\u001b[0;32m--> 887\u001b[0m \u001b[38;5;28;01mreturn\u001b[39;00m \u001b[38;5;28;43mcls\u001b[39;49m\u001b[38;5;241;43m.\u001b[39;49m\u001b[43mfrom_texts\u001b[49m\u001b[43m(\u001b[49m\n\u001b[1;32m    888\u001b[0m \u001b[43m    \u001b[49m\u001b[43mtexts\u001b[49m\u001b[38;5;241;43m=\u001b[39;49m\u001b[43mtexts\u001b[49m\u001b[43m,\u001b[49m\n\u001b[1;32m    889\u001b[0m \u001b[43m    \u001b[49m\u001b[43membedding\u001b[49m\u001b[38;5;241;43m=\u001b[39;49m\u001b[43membedding\u001b[49m\u001b[43m,\u001b[49m\n\u001b[1;32m    890\u001b[0m \u001b[43m    \u001b[49m\u001b[43mmetadatas\u001b[49m\u001b[38;5;241;43m=\u001b[39;49m\u001b[43mmetadatas\u001b[49m\u001b[43m,\u001b[49m\n\u001b[1;32m    891\u001b[0m \u001b[43m    \u001b[49m\u001b[43mids\u001b[49m\u001b[38;5;241;43m=\u001b[39;49m\u001b[43mids\u001b[49m\u001b[43m,\u001b[49m\n\u001b[1;32m    892\u001b[0m \u001b[43m    \u001b[49m\u001b[43mcollection_name\u001b[49m\u001b[38;5;241;43m=\u001b[39;49m\u001b[43mcollection_name\u001b[49m\u001b[43m,\u001b[49m\n\u001b[1;32m    893\u001b[0m \u001b[43m    \u001b[49m\u001b[43mpersist_directory\u001b[49m\u001b[38;5;241;43m=\u001b[39;49m\u001b[43mpersist_directory\u001b[49m\u001b[43m,\u001b[49m\n\u001b[1;32m    894\u001b[0m \u001b[43m    \u001b[49m\u001b[43mclient_settings\u001b[49m\u001b[38;5;241;43m=\u001b[39;49m\u001b[43mclient_settings\u001b[49m\u001b[43m,\u001b[49m\n\u001b[1;32m    895\u001b[0m \u001b[43m    \u001b[49m\u001b[43mclient\u001b[49m\u001b[38;5;241;43m=\u001b[39;49m\u001b[43mclient\u001b[49m\u001b[43m,\u001b[49m\n\u001b[1;32m    896\u001b[0m \u001b[43m    \u001b[49m\u001b[43mcollection_metadata\u001b[49m\u001b[38;5;241;43m=\u001b[39;49m\u001b[43mcollection_metadata\u001b[49m\u001b[43m,\u001b[49m\n\u001b[1;32m    897\u001b[0m \u001b[43m    \u001b[49m\u001b[38;5;241;43m*\u001b[39;49m\u001b[38;5;241;43m*\u001b[39;49m\u001b[43mkwargs\u001b[49m\u001b[43m,\u001b[49m\n\u001b[1;32m    898\u001b[0m \u001b[43m\u001b[49m\u001b[43m)\u001b[49m\n",
      "File \u001b[0;32m/usr/local/lib/python3.10/dist-packages/langchain_community/vectorstores/chroma.py:843\u001b[0m, in \u001b[0;36mChroma.from_texts\u001b[0;34m(cls, texts, embedding, metadatas, ids, collection_name, persist_directory, client_settings, client, collection_metadata, **kwargs)\u001b[0m\n\u001b[1;32m    835\u001b[0m     \u001b[38;5;28;01mfrom\u001b[39;00m \u001b[38;5;21;01mchromadb\u001b[39;00m\u001b[38;5;21;01m.\u001b[39;00m\u001b[38;5;21;01mutils\u001b[39;00m\u001b[38;5;21;01m.\u001b[39;00m\u001b[38;5;21;01mbatch_utils\u001b[39;00m \u001b[38;5;28;01mimport\u001b[39;00m create_batches\n\u001b[1;32m    837\u001b[0m     \u001b[38;5;28;01mfor\u001b[39;00m batch \u001b[38;5;129;01min\u001b[39;00m create_batches(\n\u001b[1;32m    838\u001b[0m         api\u001b[38;5;241m=\u001b[39mchroma_collection\u001b[38;5;241m.\u001b[39m_client,  \u001b[38;5;66;03m# type: ignore[has-type]\u001b[39;00m\n\u001b[1;32m    839\u001b[0m         ids\u001b[38;5;241m=\u001b[39mids,\n\u001b[1;32m    840\u001b[0m         metadatas\u001b[38;5;241m=\u001b[39mmetadatas,  \u001b[38;5;66;03m# type: ignore[arg-type]\u001b[39;00m\n\u001b[1;32m    841\u001b[0m         documents\u001b[38;5;241m=\u001b[39mtexts,\n\u001b[1;32m    842\u001b[0m     ):\n\u001b[0;32m--> 843\u001b[0m         \u001b[43mchroma_collection\u001b[49m\u001b[38;5;241;43m.\u001b[39;49m\u001b[43madd_texts\u001b[49m\u001b[43m(\u001b[49m\n\u001b[1;32m    844\u001b[0m \u001b[43m            \u001b[49m\u001b[43mtexts\u001b[49m\u001b[38;5;241;43m=\u001b[39;49m\u001b[43mbatch\u001b[49m\u001b[43m[\u001b[49m\u001b[38;5;241;43m3\u001b[39;49m\u001b[43m]\u001b[49m\u001b[43m \u001b[49m\u001b[38;5;28;43;01mif\u001b[39;49;00m\u001b[43m \u001b[49m\u001b[43mbatch\u001b[49m\u001b[43m[\u001b[49m\u001b[38;5;241;43m3\u001b[39;49m\u001b[43m]\u001b[49m\u001b[43m \u001b[49m\u001b[38;5;28;43;01melse\u001b[39;49;00m\u001b[43m \u001b[49m\u001b[43m[\u001b[49m\u001b[43m]\u001b[49m\u001b[43m,\u001b[49m\n\u001b[1;32m    845\u001b[0m \u001b[43m            \u001b[49m\u001b[43mmetadatas\u001b[49m\u001b[38;5;241;43m=\u001b[39;49m\u001b[43mbatch\u001b[49m\u001b[43m[\u001b[49m\u001b[38;5;241;43m2\u001b[39;49m\u001b[43m]\u001b[49m\u001b[43m \u001b[49m\u001b[38;5;28;43;01mif\u001b[39;49;00m\u001b[43m \u001b[49m\u001b[43mbatch\u001b[49m\u001b[43m[\u001b[49m\u001b[38;5;241;43m2\u001b[39;49m\u001b[43m]\u001b[49m\u001b[43m \u001b[49m\u001b[38;5;28;43;01melse\u001b[39;49;00m\u001b[43m \u001b[49m\u001b[38;5;28;43;01mNone\u001b[39;49;00m\u001b[43m,\u001b[49m\u001b[43m  \u001b[49m\u001b[38;5;66;43;03m# type: ignore[arg-type]\u001b[39;49;00m\n\u001b[1;32m    846\u001b[0m \u001b[43m            \u001b[49m\u001b[43mids\u001b[49m\u001b[38;5;241;43m=\u001b[39;49m\u001b[43mbatch\u001b[49m\u001b[43m[\u001b[49m\u001b[38;5;241;43m0\u001b[39;49m\u001b[43m]\u001b[49m\u001b[43m,\u001b[49m\n\u001b[1;32m    847\u001b[0m \u001b[43m        \u001b[49m\u001b[43m)\u001b[49m\n\u001b[1;32m    848\u001b[0m \u001b[38;5;28;01melse\u001b[39;00m:\n\u001b[1;32m    849\u001b[0m     chroma_collection\u001b[38;5;241m.\u001b[39madd_texts(texts\u001b[38;5;241m=\u001b[39mtexts, metadatas\u001b[38;5;241m=\u001b[39mmetadatas, ids\u001b[38;5;241m=\u001b[39mids)\n",
      "File \u001b[0;32m/usr/local/lib/python3.10/dist-packages/langchain_community/vectorstores/chroma.py:326\u001b[0m, in \u001b[0;36mChroma.add_texts\u001b[0;34m(self, texts, metadatas, ids, **kwargs)\u001b[0m\n\u001b[1;32m    320\u001b[0m         \u001b[38;5;28mself\u001b[39m\u001b[38;5;241m.\u001b[39m_collection\u001b[38;5;241m.\u001b[39mupsert(\n\u001b[1;32m    321\u001b[0m             embeddings\u001b[38;5;241m=\u001b[39membeddings_without_metadatas,  \u001b[38;5;66;03m# type: ignore[arg-type]\u001b[39;00m\n\u001b[1;32m    322\u001b[0m             documents\u001b[38;5;241m=\u001b[39mtexts_without_metadatas,\n\u001b[1;32m    323\u001b[0m             ids\u001b[38;5;241m=\u001b[39mids_without_metadatas,\n\u001b[1;32m    324\u001b[0m         )\n\u001b[1;32m    325\u001b[0m \u001b[38;5;28;01melse\u001b[39;00m:\n\u001b[0;32m--> 326\u001b[0m     \u001b[38;5;28;43mself\u001b[39;49m\u001b[38;5;241;43m.\u001b[39;49m\u001b[43m_collection\u001b[49m\u001b[38;5;241;43m.\u001b[39;49m\u001b[43mupsert\u001b[49m\u001b[43m(\u001b[49m\n\u001b[1;32m    327\u001b[0m \u001b[43m        \u001b[49m\u001b[43membeddings\u001b[49m\u001b[38;5;241;43m=\u001b[39;49m\u001b[43membeddings\u001b[49m\u001b[43m,\u001b[49m\u001b[43m  \u001b[49m\u001b[38;5;66;43;03m# type: ignore[arg-type]\u001b[39;49;00m\n\u001b[1;32m    328\u001b[0m \u001b[43m        \u001b[49m\u001b[43mdocuments\u001b[49m\u001b[38;5;241;43m=\u001b[39;49m\u001b[43mtexts\u001b[49m\u001b[43m,\u001b[49m\n\u001b[1;32m    329\u001b[0m \u001b[43m        \u001b[49m\u001b[43mids\u001b[49m\u001b[38;5;241;43m=\u001b[39;49m\u001b[43mids\u001b[49m\u001b[43m,\u001b[49m\n\u001b[1;32m    330\u001b[0m \u001b[43m    \u001b[49m\u001b[43m)\u001b[49m\n\u001b[1;32m    331\u001b[0m \u001b[38;5;28;01mreturn\u001b[39;00m ids\n",
      "File \u001b[0;32m/usr/local/lib/python3.10/dist-packages/chromadb/api/models/Collection.py:335\u001b[0m, in \u001b[0;36mCollection.upsert\u001b[0;34m(self, ids, embeddings, metadatas, documents, images, uris)\u001b[0m\n\u001b[1;32m    310\u001b[0m \u001b[38;5;28;01mdef\u001b[39;00m \u001b[38;5;21mupsert\u001b[39m(\n\u001b[1;32m    311\u001b[0m     \u001b[38;5;28mself\u001b[39m,\n\u001b[1;32m    312\u001b[0m     ids: OneOrMany[ID],\n\u001b[0;32m   (...)\u001b[0m\n\u001b[1;32m    322\u001b[0m     uris: Optional[OneOrMany[URI]] \u001b[38;5;241m=\u001b[39m \u001b[38;5;28;01mNone\u001b[39;00m,\n\u001b[1;32m    323\u001b[0m ) \u001b[38;5;241m-\u001b[39m\u001b[38;5;241m>\u001b[39m \u001b[38;5;28;01mNone\u001b[39;00m:\n\u001b[1;32m    324\u001b[0m \u001b[38;5;250m    \u001b[39m\u001b[38;5;124;03m\"\"\"Update the embeddings, metadatas or documents for provided ids, or create them if they don't exist.\u001b[39;00m\n\u001b[1;32m    325\u001b[0m \n\u001b[1;32m    326\u001b[0m \u001b[38;5;124;03m    Args:\u001b[39;00m\n\u001b[0;32m   (...)\u001b[0m\n\u001b[1;32m    333\u001b[0m \u001b[38;5;124;03m        None\u001b[39;00m\n\u001b[1;32m    334\u001b[0m \u001b[38;5;124;03m    \"\"\"\u001b[39;00m\n\u001b[0;32m--> 335\u001b[0m     upsert_request \u001b[38;5;241m=\u001b[39m \u001b[38;5;28;43mself\u001b[39;49m\u001b[38;5;241;43m.\u001b[39;49m\u001b[43m_validate_and_prepare_upsert_request\u001b[49m\u001b[43m(\u001b[49m\n\u001b[1;32m    336\u001b[0m \u001b[43m        \u001b[49m\u001b[43mids\u001b[49m\u001b[38;5;241;43m=\u001b[39;49m\u001b[43mids\u001b[49m\u001b[43m,\u001b[49m\n\u001b[1;32m    337\u001b[0m \u001b[43m        \u001b[49m\u001b[43membeddings\u001b[49m\u001b[38;5;241;43m=\u001b[39;49m\u001b[43membeddings\u001b[49m\u001b[43m,\u001b[49m\n\u001b[1;32m    338\u001b[0m \u001b[43m        \u001b[49m\u001b[43mmetadatas\u001b[49m\u001b[38;5;241;43m=\u001b[39;49m\u001b[43mmetadatas\u001b[49m\u001b[43m,\u001b[49m\n\u001b[1;32m    339\u001b[0m \u001b[43m        \u001b[49m\u001b[43mdocuments\u001b[49m\u001b[38;5;241;43m=\u001b[39;49m\u001b[43mdocuments\u001b[49m\u001b[43m,\u001b[49m\n\u001b[1;32m    340\u001b[0m \u001b[43m        \u001b[49m\u001b[43mimages\u001b[49m\u001b[38;5;241;43m=\u001b[39;49m\u001b[43mimages\u001b[49m\u001b[43m,\u001b[49m\n\u001b[1;32m    341\u001b[0m \u001b[43m        \u001b[49m\u001b[43muris\u001b[49m\u001b[38;5;241;43m=\u001b[39;49m\u001b[43muris\u001b[49m\u001b[43m,\u001b[49m\n\u001b[1;32m    342\u001b[0m \u001b[43m    \u001b[49m\u001b[43m)\u001b[49m\n\u001b[1;32m    344\u001b[0m     \u001b[38;5;28mself\u001b[39m\u001b[38;5;241m.\u001b[39m_client\u001b[38;5;241m.\u001b[39m_upsert(\n\u001b[1;32m    345\u001b[0m         collection_id\u001b[38;5;241m=\u001b[39m\u001b[38;5;28mself\u001b[39m\u001b[38;5;241m.\u001b[39mid,\n\u001b[1;32m    346\u001b[0m         ids\u001b[38;5;241m=\u001b[39mupsert_request[\u001b[38;5;124m\"\u001b[39m\u001b[38;5;124mids\u001b[39m\u001b[38;5;124m\"\u001b[39m],\n\u001b[0;32m   (...)\u001b[0m\n\u001b[1;32m    352\u001b[0m         database\u001b[38;5;241m=\u001b[39m\u001b[38;5;28mself\u001b[39m\u001b[38;5;241m.\u001b[39mdatabase,\n\u001b[1;32m    353\u001b[0m     )\n",
      "File \u001b[0;32m/usr/local/lib/python3.10/dist-packages/chromadb/api/models/CollectionCommon.py:93\u001b[0m, in \u001b[0;36mvalidation_context.<locals>.decorator.<locals>.wrapper\u001b[0;34m(self, *args, **kwargs)\u001b[0m\n\u001b[1;32m     91\u001b[0m \u001b[38;5;28;01mexcept\u001b[39;00m \u001b[38;5;167;01mException\u001b[39;00m \u001b[38;5;28;01mas\u001b[39;00m e:\n\u001b[1;32m     92\u001b[0m     msg \u001b[38;5;241m=\u001b[39m \u001b[38;5;124mf\u001b[39m\u001b[38;5;124m\"\u001b[39m\u001b[38;5;132;01m{\u001b[39;00m\u001b[38;5;28mstr\u001b[39m(e)\u001b[38;5;132;01m}\u001b[39;00m\u001b[38;5;124m in \u001b[39m\u001b[38;5;132;01m{\u001b[39;00mname\u001b[38;5;132;01m}\u001b[39;00m\u001b[38;5;124m.\u001b[39m\u001b[38;5;124m\"\u001b[39m\n\u001b[0;32m---> 93\u001b[0m     \u001b[38;5;28;01mraise\u001b[39;00m \u001b[38;5;28mtype\u001b[39m(e)(msg)\u001b[38;5;241m.\u001b[39mwith_traceback(e\u001b[38;5;241m.\u001b[39m__traceback__)\n",
      "File \u001b[0;32m/usr/local/lib/python3.10/dist-packages/chromadb/api/models/CollectionCommon.py:90\u001b[0m, in \u001b[0;36mvalidation_context.<locals>.decorator.<locals>.wrapper\u001b[0;34m(self, *args, **kwargs)\u001b[0m\n\u001b[1;32m     87\u001b[0m \u001b[38;5;129m@functools\u001b[39m\u001b[38;5;241m.\u001b[39mwraps(func)\n\u001b[1;32m     88\u001b[0m \u001b[38;5;28;01mdef\u001b[39;00m \u001b[38;5;21mwrapper\u001b[39m(\u001b[38;5;28mself\u001b[39m: Any, \u001b[38;5;241m*\u001b[39margs: Any, \u001b[38;5;241m*\u001b[39m\u001b[38;5;241m*\u001b[39mkwargs: Any) \u001b[38;5;241m-\u001b[39m\u001b[38;5;241m>\u001b[39m T:\n\u001b[1;32m     89\u001b[0m     \u001b[38;5;28;01mtry\u001b[39;00m:\n\u001b[0;32m---> 90\u001b[0m         \u001b[38;5;28;01mreturn\u001b[39;00m \u001b[43mfunc\u001b[49m\u001b[43m(\u001b[49m\u001b[38;5;28;43mself\u001b[39;49m\u001b[43m,\u001b[49m\u001b[43m \u001b[49m\u001b[38;5;241;43m*\u001b[39;49m\u001b[43margs\u001b[49m\u001b[43m,\u001b[49m\u001b[43m \u001b[49m\u001b[38;5;241;43m*\u001b[39;49m\u001b[38;5;241;43m*\u001b[39;49m\u001b[43mkwargs\u001b[49m\u001b[43m)\u001b[49m\n\u001b[1;32m     91\u001b[0m     \u001b[38;5;28;01mexcept\u001b[39;00m \u001b[38;5;167;01mException\u001b[39;00m \u001b[38;5;28;01mas\u001b[39;00m e:\n\u001b[1;32m     92\u001b[0m         msg \u001b[38;5;241m=\u001b[39m \u001b[38;5;124mf\u001b[39m\u001b[38;5;124m\"\u001b[39m\u001b[38;5;132;01m{\u001b[39;00m\u001b[38;5;28mstr\u001b[39m(e)\u001b[38;5;132;01m}\u001b[39;00m\u001b[38;5;124m in \u001b[39m\u001b[38;5;132;01m{\u001b[39;00mname\u001b[38;5;132;01m}\u001b[39;00m\u001b[38;5;124m.\u001b[39m\u001b[38;5;124m\"\u001b[39m\n",
      "File \u001b[0;32m/usr/local/lib/python3.10/dist-packages/chromadb/api/models/CollectionCommon.py:389\u001b[0m, in \u001b[0;36mCollectionCommon._validate_and_prepare_upsert_request\u001b[0;34m(self, ids, embeddings, metadatas, documents, images, uris)\u001b[0m\n\u001b[1;32m    373\u001b[0m \u001b[38;5;129m@validation_context\u001b[39m(\u001b[38;5;124m\"\u001b[39m\u001b[38;5;124mupsert\u001b[39m\u001b[38;5;124m\"\u001b[39m)\n\u001b[1;32m    374\u001b[0m \u001b[38;5;28;01mdef\u001b[39;00m \u001b[38;5;21m_validate_and_prepare_upsert_request\u001b[39m(\n\u001b[1;32m    375\u001b[0m     \u001b[38;5;28mself\u001b[39m,\n\u001b[0;32m   (...)\u001b[0m\n\u001b[1;32m    387\u001b[0m ) \u001b[38;5;241m-\u001b[39m\u001b[38;5;241m>\u001b[39m UpsertRequest:\n\u001b[1;32m    388\u001b[0m     \u001b[38;5;66;03m# Unpack\u001b[39;00m\n\u001b[0;32m--> 389\u001b[0m     upsert_records \u001b[38;5;241m=\u001b[39m \u001b[43mnormalize_insert_record_set\u001b[49m\u001b[43m(\u001b[49m\n\u001b[1;32m    390\u001b[0m \u001b[43m        \u001b[49m\u001b[43mids\u001b[49m\u001b[38;5;241;43m=\u001b[39;49m\u001b[43mids\u001b[49m\u001b[43m,\u001b[49m\n\u001b[1;32m    391\u001b[0m \u001b[43m        \u001b[49m\u001b[43membeddings\u001b[49m\u001b[38;5;241;43m=\u001b[39;49m\u001b[43membeddings\u001b[49m\u001b[43m,\u001b[49m\n\u001b[1;32m    392\u001b[0m \u001b[43m        \u001b[49m\u001b[43mmetadatas\u001b[49m\u001b[38;5;241;43m=\u001b[39;49m\u001b[43mmetadatas\u001b[49m\u001b[43m,\u001b[49m\n\u001b[1;32m    393\u001b[0m \u001b[43m        \u001b[49m\u001b[43mdocuments\u001b[49m\u001b[38;5;241;43m=\u001b[39;49m\u001b[43mdocuments\u001b[49m\u001b[43m,\u001b[49m\n\u001b[1;32m    394\u001b[0m \u001b[43m        \u001b[49m\u001b[43mimages\u001b[49m\u001b[38;5;241;43m=\u001b[39;49m\u001b[43mimages\u001b[49m\u001b[43m,\u001b[49m\n\u001b[1;32m    395\u001b[0m \u001b[43m        \u001b[49m\u001b[43muris\u001b[49m\u001b[38;5;241;43m=\u001b[39;49m\u001b[43muris\u001b[49m\u001b[43m,\u001b[49m\n\u001b[1;32m    396\u001b[0m \u001b[43m    \u001b[49m\u001b[43m)\u001b[49m\n\u001b[1;32m    398\u001b[0m     \u001b[38;5;66;03m# Validate\u001b[39;00m\n\u001b[1;32m    399\u001b[0m     validate_insert_record_set(record_set\u001b[38;5;241m=\u001b[39mupsert_records)\n",
      "File \u001b[0;32m/usr/local/lib/python3.10/dist-packages/chromadb/api/types.py:187\u001b[0m, in \u001b[0;36mnormalize_insert_record_set\u001b[0;34m(ids, embeddings, metadatas, documents, images, uris)\u001b[0m\n\u001b[1;32m    171\u001b[0m \u001b[38;5;28;01mdef\u001b[39;00m \u001b[38;5;21mnormalize_insert_record_set\u001b[39m(\n\u001b[1;32m    172\u001b[0m     ids: OneOrMany[ID],\n\u001b[1;32m    173\u001b[0m     embeddings: Optional[\n\u001b[0;32m   (...)\u001b[0m\n\u001b[1;32m    182\u001b[0m     uris: Optional[OneOrMany[URI]] \u001b[38;5;241m=\u001b[39m \u001b[38;5;28;01mNone\u001b[39;00m,\n\u001b[1;32m    183\u001b[0m ) \u001b[38;5;241m-\u001b[39m\u001b[38;5;241m>\u001b[39m InsertRecordSet:\n\u001b[1;32m    184\u001b[0m \u001b[38;5;250m    \u001b[39m\u001b[38;5;124;03m\"\"\"\u001b[39;00m\n\u001b[1;32m    185\u001b[0m \u001b[38;5;124;03m    Unpacks and normalizes the fields of an InsertRecordSet.\u001b[39;00m\n\u001b[1;32m    186\u001b[0m \u001b[38;5;124;03m    \"\"\"\u001b[39;00m\n\u001b[0;32m--> 187\u001b[0m     base_record_set \u001b[38;5;241m=\u001b[39m \u001b[43mnormalize_base_record_set\u001b[49m\u001b[43m(\u001b[49m\n\u001b[1;32m    188\u001b[0m \u001b[43m        \u001b[49m\u001b[43membeddings\u001b[49m\u001b[38;5;241;43m=\u001b[39;49m\u001b[43membeddings\u001b[49m\u001b[43m,\u001b[49m\u001b[43m \u001b[49m\u001b[43mdocuments\u001b[49m\u001b[38;5;241;43m=\u001b[39;49m\u001b[43mdocuments\u001b[49m\u001b[43m,\u001b[49m\u001b[43m \u001b[49m\u001b[43mimages\u001b[49m\u001b[38;5;241;43m=\u001b[39;49m\u001b[43mimages\u001b[49m\u001b[43m,\u001b[49m\u001b[43m \u001b[49m\u001b[43muris\u001b[49m\u001b[38;5;241;43m=\u001b[39;49m\u001b[43muris\u001b[49m\n\u001b[1;32m    189\u001b[0m \u001b[43m    \u001b[49m\u001b[43m)\u001b[49m\n\u001b[1;32m    191\u001b[0m     \u001b[38;5;28;01mreturn\u001b[39;00m InsertRecordSet(\n\u001b[1;32m    192\u001b[0m         ids\u001b[38;5;241m=\u001b[39mcast(IDs, maybe_cast_one_to_many(ids)),\n\u001b[1;32m    193\u001b[0m         metadatas\u001b[38;5;241m=\u001b[39mmaybe_cast_one_to_many(metadatas),\n\u001b[0;32m   (...)\u001b[0m\n\u001b[1;32m    197\u001b[0m         uris\u001b[38;5;241m=\u001b[39mbase_record_set[\u001b[38;5;124m\"\u001b[39m\u001b[38;5;124muris\u001b[39m\u001b[38;5;124m\"\u001b[39m],\n\u001b[1;32m    198\u001b[0m     )\n",
      "File \u001b[0;32m/usr/local/lib/python3.10/dist-packages/chromadb/api/types.py:164\u001b[0m, in \u001b[0;36mnormalize_base_record_set\u001b[0;34m(embeddings, documents, images, uris)\u001b[0m\n\u001b[1;32m    153\u001b[0m \u001b[38;5;28;01mdef\u001b[39;00m \u001b[38;5;21mnormalize_base_record_set\u001b[39m(\n\u001b[1;32m    154\u001b[0m     embeddings: Optional[Union[OneOrMany[Embedding], OneOrMany[PyEmbedding]]] \u001b[38;5;241m=\u001b[39m \u001b[38;5;28;01mNone\u001b[39;00m,\n\u001b[1;32m    155\u001b[0m     documents: Optional[OneOrMany[Document]] \u001b[38;5;241m=\u001b[39m \u001b[38;5;28;01mNone\u001b[39;00m,\n\u001b[1;32m    156\u001b[0m     images: Optional[OneOrMany[Image]] \u001b[38;5;241m=\u001b[39m \u001b[38;5;28;01mNone\u001b[39;00m,\n\u001b[1;32m    157\u001b[0m     uris: Optional[OneOrMany[URI]] \u001b[38;5;241m=\u001b[39m \u001b[38;5;28;01mNone\u001b[39;00m,\n\u001b[1;32m    158\u001b[0m ) \u001b[38;5;241m-\u001b[39m\u001b[38;5;241m>\u001b[39m BaseRecordSet:\n\u001b[1;32m    159\u001b[0m \u001b[38;5;250m    \u001b[39m\u001b[38;5;124;03m\"\"\"\u001b[39;00m\n\u001b[1;32m    160\u001b[0m \u001b[38;5;124;03m    Unpacks and normalizes the fields of a BaseRecordSet.\u001b[39;00m\n\u001b[1;32m    161\u001b[0m \u001b[38;5;124;03m    \"\"\"\u001b[39;00m\n\u001b[1;32m    163\u001b[0m     \u001b[38;5;28;01mreturn\u001b[39;00m BaseRecordSet(\n\u001b[0;32m--> 164\u001b[0m         embeddings\u001b[38;5;241m=\u001b[39m\u001b[43mnormalize_embeddings\u001b[49m\u001b[43m(\u001b[49m\u001b[43membeddings\u001b[49m\u001b[43m)\u001b[49m,\n\u001b[1;32m    165\u001b[0m         documents\u001b[38;5;241m=\u001b[39mmaybe_cast_one_to_many(documents),\n\u001b[1;32m    166\u001b[0m         images\u001b[38;5;241m=\u001b[39mmaybe_cast_one_to_many(images),\n\u001b[1;32m    167\u001b[0m         uris\u001b[38;5;241m=\u001b[39mmaybe_cast_one_to_many(uris),\n\u001b[1;32m    168\u001b[0m     )\n",
      "File \u001b[0;32m/usr/local/lib/python3.10/dist-packages/chromadb/api/types.py:61\u001b[0m, in \u001b[0;36mnormalize_embeddings\u001b[0;34m(target)\u001b[0m\n\u001b[1;32m     58\u001b[0m     \u001b[38;5;28;01mreturn\u001b[39;00m \u001b[38;5;28;01mNone\u001b[39;00m\n\u001b[1;32m     60\u001b[0m \u001b[38;5;28;01mif\u001b[39;00m \u001b[38;5;28mlen\u001b[39m(target) \u001b[38;5;241m==\u001b[39m \u001b[38;5;241m0\u001b[39m:\n\u001b[0;32m---> 61\u001b[0m     \u001b[38;5;28;01mraise\u001b[39;00m \u001b[38;5;167;01mValueError\u001b[39;00m(\n\u001b[1;32m     62\u001b[0m         \u001b[38;5;124mf\u001b[39m\u001b[38;5;124m\"\u001b[39m\u001b[38;5;124mExpected Embedings to be non-empty list or numpy array, got \u001b[39m\u001b[38;5;132;01m{\u001b[39;00mtarget\u001b[38;5;132;01m}\u001b[39;00m\u001b[38;5;124m\"\u001b[39m\n\u001b[1;32m     63\u001b[0m     )\n\u001b[1;32m     65\u001b[0m \u001b[38;5;28;01mif\u001b[39;00m \u001b[38;5;28misinstance\u001b[39m(target, \u001b[38;5;28mlist\u001b[39m):\n\u001b[1;32m     66\u001b[0m     \u001b[38;5;66;03m# One PyEmbedding\u001b[39;00m\n\u001b[1;32m     67\u001b[0m     \u001b[38;5;28;01mif\u001b[39;00m \u001b[38;5;28misinstance\u001b[39m(target[\u001b[38;5;241m0\u001b[39m], (\u001b[38;5;28mint\u001b[39m, \u001b[38;5;28mfloat\u001b[39m)) \u001b[38;5;129;01mand\u001b[39;00m \u001b[38;5;129;01mnot\u001b[39;00m \u001b[38;5;28misinstance\u001b[39m(target[\u001b[38;5;241m0\u001b[39m], \u001b[38;5;28mbool\u001b[39m):\n",
      "\u001b[0;31mValueError\u001b[0m: Expected Embedings to be non-empty list or numpy array, got [] in upsert."
     ]
    }
   ],
   "source": [
    "#building vector store\n",
    "vectorstore = create_vectorstore(chunks=[], save_path=\"vectorstore_small\")\n",
    "\n",
    "#vectorstore = load_vectorstore(\"/workspace/src/preprocessing/vectorstores/chromadb_store\")"
   ]
  },
  {
   "cell_type": "code",
   "execution_count": null,
   "metadata": {},
   "outputs": [],
   "source": [
    "process_pickle_embeddings_in_chunks(\n",
    "    vectorstore=vectorstore,\n",
    "    directory=\"/workspace/embeddings/embeddings/\",\n",
    "    chunk_session=chunk_session,\n",
    "    chunk_size=100  # Adjust based on memory constraints and performance\n",
    ")\n"
   ]
  },
  {
   "cell_type": "code",
   "execution_count": null,
   "metadata": {},
   "outputs": [],
   "source": [
    "#building bm25 retriever/store\n",
    "lang_docs = [langchain_core.documents.Document(page_content=chunk.chunk_text, metadata={\"id\": chunk.id, \"doi\": chunk.doi, \"chunk_type\": chunk.chunk_type}) for chunk in chunks]"
   ]
  },
  {
   "cell_type": "code",
   "execution_count": 8,
   "metadata": {},
   "outputs": [],
   "source": [
    "table_chunks = chunk_session.query(Chunk).filter(Chunk.chunk_type == \"RCTS_8192_1000\").all()"
   ]
  },
  {
   "cell_type": "code",
   "execution_count": 10,
   "metadata": {},
   "outputs": [],
   "source": [
    "passage_chunks = chunk_session.query(Chunk).filter(Chunk.chunk_type == \"RCTS_512_100\").all()"
   ]
  },
  {
   "cell_type": "code",
   "execution_count": 11,
   "metadata": {},
   "outputs": [],
   "source": [
    "limit = 5000"
   ]
  },
  {
   "cell_type": "code",
   "execution_count": 29,
   "metadata": {},
   "outputs": [],
   "source": [
    "chunks = table_chunks[:limit] + passage_chunks[:limit]"
   ]
  },
  {
   "cell_type": "code",
   "execution_count": 30,
   "metadata": {},
   "outputs": [
    {
     "data": {
      "text/plain": [
       "10000"
      ]
     },
     "execution_count": 30,
     "metadata": {},
     "output_type": "execute_result"
    }
   ],
   "source": [
    "len(chunks)"
   ]
  },
  {
   "cell_type": "code",
   "execution_count": 12,
   "metadata": {},
   "outputs": [],
   "source": [
    "lang_table_docs = [langchain_core.documents.Document(page_content=chunk.chunk_text, metadata={\"id\": chunk.id, \"doi\": chunk.doi, \"chunk_type\": chunk.chunk_type}) for chunk in table_chunks][:limit]"
   ]
  },
  {
   "cell_type": "code",
   "execution_count": 13,
   "metadata": {},
   "outputs": [],
   "source": [
    "lang_passage_docs = [langchain_core.documents.Document(page_content=chunk.chunk_text, metadata={\"id\": chunk.id, \"doi\": chunk.doi, \"chunk_type\": chunk.chunk_type}) for chunk in passage_chunks][:limit]"
   ]
  },
  {
   "cell_type": "code",
   "execution_count": 31,
   "metadata": {},
   "outputs": [
    {
     "data": {
      "application/vnd.jupyter.widget-view+json": {
       "model_id": "43c64ddeea72425588383a2d5526a064",
       "version_major": 2,
       "version_minor": 0
      },
      "text/plain": [
       "  0%|          | 0/10 [00:00<?, ?it/s]"
      ]
     },
     "metadata": {},
     "output_type": "display_data"
    }
   ],
   "source": [
    "vectorstore = create_vectorstore(chunks=chunks, save_path=\"vectorstore_small\")"
   ]
  },
  {
   "cell_type": "code",
   "execution_count": 33,
   "metadata": {},
   "outputs": [
    {
     "data": {
      "application/vnd.jupyter.widget-view+json": {
       "model_id": "ec3674026b3244eb8b703ca943b6d7d2",
       "version_major": 2,
       "version_minor": 0
      },
      "text/plain": [
       "  0%|          | 0/1 [00:00<?, ?it/s]"
      ]
     },
     "metadata": {},
     "output_type": "display_data"
    },
    {
     "data": {
      "text/plain": [
       "[Document(metadata={'chunk_type': 'RCTS_8192_1000', 'doi': '10.1016/j.dsx.2020.04.011#0', 'id': 8319191}, page_content=\"Table Name: Table 1 \\nHeader: ['Feature', 'SARS-CoV-2', 'SARS-CoV-1', 'MERS-CoV'] \\nContent: [['Origin', 'Wuhan, China', 'Guangdong, China', 'Jeddah, Saudi Arab'], ['Asymptomatic viral load', 'High', 'Less', 'Less'], ['Long period of infectivity', 'Yes', 'No', 'No'], ['Estimated R0', '2.2$_{e}$3.28', '2.0$_{e}$5.0', '< 1'], ['Median Incubation (days)', '6.4 (0$_{e}$24)', '4.6 (3.8$_{e}$5.8)', '5.2(1.9$_{e}$14.7)'], ['Serial interval (days)', '2.6$_{e}$7.5', '8.4', '12.6'], ['Case-fatality rate (%)', '3$_{e}$3.5', '9.6', '35.5'], ['Case-fatality rate with comorbidities (%)', '73.3', '46.0', '60.0'], ['Host', '', '', ''], ['Natural Host', 'Bats', 'Chinese horseshoe bats', 'Bats'], ['Intermediate Host', 'Pangolin', 'Civet', 'Camel'], ['Terminal Host', 'Humans', 'Humans', 'Humans'], ['Transmission', '', '', ''], ['Respiratory droplets', 'Yes', 'Yes', 'Yes'], ['Fomites, Contact', 'Yes', 'No', 'No'], ['Zoonotic', 'Yes', 'Sporadic', 'Sporadic'], ['Aerosol', 'High Possibility', 'Yes', 'Yes'], ['Feco-Oral', 'High Possibility', 'Yes', 'No'], ['Human to human', 'Yes', 'Yes', 'Limited'], ['Nosocomial', 'Yes', 'Yes', 'Yes'], ['Cell entry receptor', 'ACE2', 'ACE2', 'DPP-4/CD26']] \\nCaption: Table 1 Differences in epidemiological characteristics between SARS-CoV-2, SARS-CoV-1 and MERS-CoV [15,18,23,24,31] . \\nReferences: ['An epidemiological and transmission difference in characteristics between SARS-CoV1, MERS and Covid-19 has been summarized in Table 1.']\"),\n",
       " Document(metadata={'chunk_type': 'RCTS_8192_1000', 'doi': '10.1007/s00134-020-06009-2#0', 'id': 8315834}, page_content=\"Table Name: Table 1 \\nHeader: ['', 'COVID-19', 'MERS', 'SARS'] \\nContent: [['Epidemiologic links', 'Wuhan, China', 'Arabian Peninsula', 'Guangdong, China'], ['Animal host', 'Unclear, bat suspected', 'Dromedary camel', 'Civet cats and bats suspected'], ['Human-human transmission', 'Yes', 'Yes', 'Yes'], ['Nosocomial transmission', 'Yes', 'Yes', 'Yes'], ['Risk to healthcare workers', 'Yes', 'Yes', 'Yes'], ['Countries with reported cases', '54', '27', '26'], ['Number of cases', '85,403 as of March 1, 2020', '2494', '8437'], ['Clinical features of critically ill patients', 'Clinical features of critically ill patients', '', ''], ['Age, years', '60', '58', '57'], ['Comorbid conditions', '40%', '80%', '++'], ['ARDS/pneumonia', 'Main feature', 'Main feature', 'Main feature'], ['Shock and multiorgan failure', 'Yes', 'Yes', 'Yes'], ['Invasive mechanical ventilation', '42%', '85%', '76%'], ['Vasopressors', '35%', '79%', '44%'], ['Renal replacement therapy', '17%', '49%', '11%'], ['Mortality', '62%', '67%', '34%']] \\nCaption: Table 1 Comparison between COVID-19 and the other two coronaviruses infections, the Middle East respiratory syndrome (MERS) and severe acute respiratory syndrome (SARS) [4,13-17,26] \\nReferences: ['The correct Table 1 can be found below. We apologize for the mistake.']\"),\n",
       " Document(metadata={'chunk_type': 'RCTS_8192_1000', 'doi': '10.3390/jcm9020575#0', 'id': 8315537}, page_content=\"Table Name: Table 1 \\nHeader: ['Coronavirus Infection Outbreak', 'Total Confirm Cases.Female (%)', 'Total Confirm Cases.Male (%)', 'Median Age.(Years Old)', 'Number of Deaths', 'Case-Fatality Rate (%)', 'Countries.Reported Cases', 'References'] \\nContent: [['COVID-19 (November 2019-18 February 2020)', '75,199 32 *', '67 *', '55.5 *', '2009', '2.67 11.0 *', '26', '[10] [4]'], ['SARS (November 2002-July 2003)', '8098 53.1', '46.9', '41.3', '774', '9.60', '26', 'WHO [11]'], ['MERS (April 2012-November 2019)', '2494 26.3 73.7', '2494 26.3 73.7', '52.8', '858', '34.4', '27', 'WHO [12]']] \\nCaption: Table 1. The key information about the coronavirus infection outbreaks. \\nReferences: ['Within one and a half months, as of midnight of 18 February 2020, the novel coronavirus pneumonia (COVID-19) had spread from Hubei to 34 provinces in China and another 25 countries, resulting in 75,199 confirmed cases with 2009 deaths (Table 1) [7]. At present, the number of cases is increasing rapidly in China and even around the world, which is a big threat to public health.', 'The COVID-19 resulted in much lower mortality (about 2.67% up-to-date) among the confirmed cases, compared with Severe Acute Respiratory Syndrome (SARS) at 9.60% (November 2002-July 2003) and Middle East Respiratory Syndrome (MERS) at 34.4% (April 2012-November 2019) (Table 1). The median ages for the patients of COVID-19, SARS, and MERS are 55.5, 41.3, and 52.8 years old, respectively.']\"),\n",
       " Document(metadata={'chunk_type': 'RCTS_8192_1000', 'doi': '10.1016/j.ijid.2020.04.090#0', 'id': 8314909}, page_content=\"Table Name: Table 1 \\nHeader: ['Characteristic', 'SARS', 'COVID-19'] \\nContent: [['Epidemiology', '', ''], ['Transmissibility', 'Lower', 'Higher'], ['Exposure', 'Sporadic, hospital cluster', 'Community spread, family cluster'], ['Children spread', 'Not reported', 'Yes'], ['Main transmission routes', 'Respiratory droplets, contact, fecal-oral tract', 'Respiratory droplets, contact'], ['Possible transmission routes', 'Aerosol', 'Aerosol, fecal-oral tract, vertical transmission'], ['Clinical spectrum', '', ''], ['Incubation period', '2 - 14 days', '1 - 14 days'], ['Age', '50 days to 17.9 years', '36 hours to 18 years'], ['Clinical course', 'Most are mild', 'Most are mild and asymptomatic'], ['Common features', 'Fever, cough, headache, malaise, myalgia, diarrhea', ''], ['Prognosis', 'Good, one death reported', 'Good, no deaths reported'], ['Newborns born to mother with infection', '', ''], ['First trimester', 'Spontaneous miscarriages, termination of pregnancies', 'Not reported'], ['Late second/third trimester', 'Oligohydramnios, severe intrauterine growth retardation, severe gastrointestinal complications', 'May have adverse reactions such as fetal distress, preterm delivery, respiratory distress, and even death'], ['Laboratory tests', 'Normal or decreased peripheral blood WBC, lymphopenia, mild elevated CRP, mild abnormal liver function and myocardial enzymes, decreased CD4+, CD8+ T-cells', ''], ['Pulmonary images', '', ''], ['Similarity', 'Nonspecific in the early stage; as the disease progresses could manifest as patch shadow, ground glass shadow, lung consolidation', ''], ['Difference', 'Mild symptoms but severe pulmonary radiographic changes', 'Could be normal'], ['Treatment', 'Severe cases treated with hormones', 'Wide usage of hormones is skeptical, severe and critical patients can be used for a short time']] \\nCaption: Table 1 Comparison of the epidemiological and clinical characteristics of SARS and COVID-19. \\nReferences: ['Although there are many similarities between SARS and COVID19 from epidemiology to clinical characteristics, they also show differences (Table 1). The potential reasons for higher transmissibility are as follows: (1) the unique biological characteristics of SARS-CoV-2; (2) children could be the potential infectious source because of mild symptoms, which result in wider spread; (3) the asymptomatic children were overlooked; (4) children with normal pulmonary images were ignored; (5) there were false negative results in nucleic acid detection.']\")]"
      ]
     },
     "execution_count": 33,
     "metadata": {},
     "output_type": "execute_result"
    }
   ],
   "source": [
    "vectorstore.similarity_search(\"what is the origin of covid-19, table?\")"
   ]
  },
  {
   "cell_type": "code",
   "execution_count": 17,
   "metadata": {},
   "outputs": [
    {
     "name": "stdout",
     "output_type": "stream",
     "text": [
      "Preprocessing texts\n"
     ]
    },
    {
     "name": "stderr",
     "output_type": "stream",
     "text": [
      "100%|██████████| 5000/5000 [00:10<00:00, 491.13it/s]\n",
      "100%|██████████| 5000/5000 [00:00<00:00, 9542.10it/s]\n"
     ]
    }
   ],
   "source": [
    "retriever_bm25_table_small5k = BM25Retriever.from_documents(lang_table_docs, preprocess_func=word_tokenize, k=100)"
   ]
  },
  {
   "cell_type": "code",
   "execution_count": 18,
   "metadata": {},
   "outputs": [
    {
     "name": "stdout",
     "output_type": "stream",
     "text": [
      "Preprocessing texts\n"
     ]
    },
    {
     "name": "stderr",
     "output_type": "stream",
     "text": [
      "100%|██████████| 5000/5000 [00:02<00:00, 2351.07it/s]\n",
      "100%|██████████| 5000/5000 [00:00<00:00, 46019.34it/s]\n"
     ]
    }
   ],
   "source": [
    "retriever_bm25_passage_small5k = BM25Retriever.from_documents(lang_passage_docs, preprocess_func=word_tokenize, k=100)"
   ]
  },
  {
   "cell_type": "code",
   "execution_count": 21,
   "metadata": {},
   "outputs": [
    {
     "data": {
      "text/plain": [
       "[Document(metadata={'id': 1292810, 'doi': '10.1186/s43055-020-00245-8', 'chunk_type': 'RCTS_512_100'}, page_content='Title: CT chest of COVID-19 patients: what should a radiologist know? \\n\\n REVIEW\\n\\n<missing-text>\\n\\nCT chest of COVID-19 patients: what should a radiologist know?\\n\\nTamer F. Ali 1* , Mohamed A. Tawab 2 and Mona A ElHariri 1\\n\\nAbstract\\n\\nBackground: The aim of current work is to review the CT findings of COVID-19 in a pictorial study to help the radiologists to be familiar to imaging findings of COVID-19.'),\n",
       " Document(metadata={'id': 1292853, 'doi': '10.1186/s43055-020-00245-8', 'chunk_type': 'RCTS_512_100'}, page_content='15. Kanne JP. Chest CT findings in 2019 novel coronavirus (2019-nCoV) infections from Wuhan, China: key points for the radiologist. Radiology 2020.\\n\\n 16. Lee KS. Pneumonia associated with 2019 novel coronavirus: can computed tomographic findings help predict the prognosis of the disease? Korean J Radiol 2020.\\n\\n 17. Kim H. Outbreak of novel coronavirus (COVID-19): what is the role of radiologists? Eur Radiol 2020.'),\n",
       " Document(metadata={'id': 1291685, 'doi': '10.1186/s13002-020-00367-3', 'chunk_type': 'RCTS_512_100'}, page_content='ucts being used in local medicine and often used for making handicrafts. The latter contains mainly byproducts of birds such as feathers that are used to make the headdresses, arrows, and decorative articles that often refer to the white man \\' s vision of what is \" indigenous \" but which are not part of Aldeia \\' s traditional repertoire [ 25 ]. Also, other materials of animal origin, such as teeth, skins, and claws, have been observed in situ and are frequently used in the making of these craft artifacts.'),\n",
       " Document(metadata={'id': 1292386, 'doi': '10.1186/s40545-020-00229-z', 'chunk_type': 'RCTS_512_100'}, page_content='7. Rajkumar RP. COVID-19 and mental health: a review of the existing literature. Asian J Psychiatr. 2020;52:102066.\\n\\n 8. Wu C, Bell CM, Wodchis WP. Incidence and economic burden of adverse drug reactions among elderly patients in Ontario emergency departments: a retrospective study. Drug Saf. 2012;35(9):769 -81.\\n\\n 9. Phizackerley D. Deprescribing in the time of covid-19. Drug Ther Bull. 2020. https://pubmed.ncbi.nlm.nih.gov/32354724/?from\\\\_term=Phizackerley%2C+ David%5Bauthor%5D&from\\\\_pos=7 .'),\n",
       " Document(metadata={'id': 1293192, 'doi': '10.1371/journal.pone.0003803', 'chunk_type': 'RCTS_512_100'}, page_content='In this context, the isolation of KamV confirms the observed trend of zoonotic virus emergence out of bat populations in the pacific region. Although there is no direct evidence to prove the origin of KamV, the close genetic relationship of KamV with MelV, PulV and NBV and the location of the house of the index\\n\\n<missing-text>\\n\\n<missing-text>'),\n",
       " Document(metadata={'id': 1292513, 'doi': '10.1186/s40662-016-0051-9', 'chunk_type': 'RCTS_512_100'}, page_content='15. Jonas JB, Nangia V, Matin A, Kulkarni M, Bhojwani K. Prevalence and associations of keratoconus in rural maharashtra in central India: the central India eye and medical study. Am J Ophthalmol. 2009;148(5):760 -5.\\n\\n 16. Pearson AR, Soneji B, Sarvananthan N, Sandford-Smith JH. Does ethnic origin influence the incidence or severity of keratoconus? Eye (Lond). 2000;14(Pt 4):625 -8.\\n\\n 17. Abu-Amero KK, Al-Muammar AM, Kondkar AA. Genetics of keratoconus: where do we stand? J Ophthalmol. 2014;2014:641708.'),\n",
       " Document(metadata={'id': 1291090, 'doi': '10.1186/s12909-020-02035-2', 'chunk_type': 'RCTS_512_100'}, page_content='\" I thought the vital signs [..] it was really, really good because [..] especially I saw that in acute care as well, they get on that a lot [..] they were always the things that they were asking me about like: \\' Okay, what do those numbers mean? Why is that important? \\' and that was really good to have in the module. \" (Student: Ella)\\n\\nThe course also enabled the students to anticipate the ICU patients \\' often complicated recovery process:'),\n",
       " Document(metadata={'id': 1294656, 'doi': '10.1371/journal.pone.0143152', 'chunk_type': 'RCTS_512_100'}, page_content='worldwide literature, is employed in more than half of all respiratory infections [27]. This study determined that 90% of the cases are treated with antibiotics, although most of the infections were viral in origin. Additional strategies, such as the measurement of procalcitonin, can identify patients who would not benefit from antibiotic therapy [28].'),\n",
       " Document(metadata={'id': 1291754, 'doi': '10.1186/s13002-020-00367-3', 'chunk_type': 'RCTS_512_100'}, page_content='we emphasize the importance of integrating not only environmental or biological variables of the target species, but also cultural and social aspects about the hunting practices of traditional communities. Such understanding is also fundamental concerning to the food security of these peoples, especially in the current global scenario in which we live in a pandemic caused by the COVID-19 virus, whose origin and spread may have been influenced by the cultural habit of consuming wild species. From the'),\n",
       " Document(metadata={'id': 1291686, 'doi': '10.1186/s13002-020-00367-3', 'chunk_type': 'RCTS_512_100'}, page_content='claws, have been observed in situ and are frequently used in the making of these craft artifacts. Exchanges can also acquire them in cultural encounters with other ethnicities. The production of handicrafts is one of the essential activities of income generation for the Fulni-ô, and many of the materials used are of plant origin, mainly the Ouricuri palm ( S. coronata ) with which they make mats, baskets, hats, among others.'),\n",
       " Document(metadata={'id': 1293142, 'doi': '10.1371/journal.pone.0003803', 'chunk_type': 'RCTS_512_100'}, page_content='contact case. Sequence analysis of the four small class genome segments indicated that Kampar and Melaka viruses are closely related. This was confirmed by virus neutralization assay, showing an effective two-way cross neutralization, i.e., the serum against one virus was able to neutralize the other. Although the exact origin of Kampar virus is unknown, epidemiological tracing revealed that the house of the index case is surrounded by fruit trees frequently visited by fruit bats. There is a high'),\n",
       " Document(metadata={'id': 1293288, 'doi': '10.1371/journal.pone.0017825', 'chunk_type': 'RCTS_512_100'}, page_content='As to curtail the trade we recommend regular monitoring by Thai enforcement agencies and local and international NGOs of the markets in Thailand. Periodic surveys should be carried out, followed by detailed analysis to gauge the scale of trade and identify trends in species composition, countries of origin, and any end-market destinations beyond Thailand. If trade is deemed\\n\\n<missing-text>'),\n",
       " Document(metadata={'id': 1293011, 'doi': '10.1371/journal.pmed.1001562', 'chunk_type': 'RCTS_512_100'}, page_content='that data sharing is an ethical duty in such contexts [12]. For humanitarian organizations, there is a lack of guidance on how and what sort of data can and should be shared, and especially on the practical aspects of making such data available while considering the sensitivities involved in datasets collected in contexts of humanitarian action.\\n\\nMSF and Data Sharing'),\n",
       " Document(metadata={'id': 1293140, 'doi': '10.1371/journal.pone.0003803', 'chunk_type': 'RCTS_512_100'}, page_content='First discovered in the early 1950s, reoviruses ( r espiratory e nteric o rphan viruses) were not associated with any known disease, and hence named orphan viruses. Recently, our group reported the isolation of the Melaka virus from a patient with acute respiratory disease and provided data suggesting that this new orthoreovirus is capable of human-to-human transmission and is probably of bat origin. Here we report yet another Melaka-like reovirus (named Kampar virus) isolated from the throat swab of a 54'),\n",
       " Document(metadata={'id': 1290991, 'doi': '10.1186/s12889-019-7939-y', 'chunk_type': 'RCTS_512_100'}, page_content='The NGT is a useful method to help develop a health intervention as it allows people from target populations to voice their opinions on what the components should be and how best to implement the program. Some of the ways in which mixed methods have been used in the past have been criticised [ 50 ]; but, in the context of using the NGT, it can prove valuable whereby the qualitative data may complement and extend our understanding of the quantitative data. This is because its purpose is not always limited'),\n",
       " Document(metadata={'id': 1295232, 'doi': '10.5812/hepatmon.103179', 'chunk_type': 'RCTS_512_100'}, page_content='In an autopsy investigation of four cases with SARS-CoV infection, the virus was detected not only in the respiratory system (lung, trachea, and bronchus) but also in the digestive system (stomach, small intestine, pancreas, and liver), possibly with the origin of virus-contaminated food and water (13). As some COVID-19 patients have gastrointestinal symptoms, and viral DNA is detectable in stool samples, the fecal-oral route of transmission has been suggested,'),\n",
       " Document(metadata={'id': 1294663, 'doi': '10.1371/journal.pone.0143152', 'chunk_type': 'RCTS_512_100'}, page_content='4. Pavia AT (2013) What is the role of respiratory viruses in community-acquired pneumonia?: What is the best therapy for influenza and other viral causes of community-acquired pneumonia? Infect Dis Clin North Am 27: 157 -175. doi: 10.1016/j.idc.2012.11.007 PMID: 23398872\\n\\n 5. MPS, INS (2014) Protocolo de vigilancia en salud publica -Infección Respiratoria Aguda (IRA). In: publica VyAdres, editor. Bogotá. pp. 1 -50.'),\n",
       " Document(metadata={'id': 1293168, 'doi': '10.1371/journal.pone.0003803', 'chunk_type': 'RCTS_512_100'}, page_content='syncytial CPE in all types of mammalian cell-lines available in the laboratory inclusive of C6/36 (ATCC CRL-1660) cell-line which is of mosquito cell in origin (data not shown). The virus was named Kampar virus (KamV) after the location of the index case. Due to the similar CPE morphology (Figure 1) and cell line susceptibility patterns between KamV and the recently discovered Melaka virus (MelV), which also causes acute respiratory diseases in humans [5], immunofluorescent antibody testing was conducted'),\n",
       " Document(metadata={'id': 1294585, 'doi': '10.1371/journal.pone.0143152', 'chunk_type': 'RCTS_512_100'}, page_content=\"This study was performed in Colombia ' s capital city of Bogotá, which is located in the Andes in South America, near the equator and 2,600 metres above sea level. A total of 7 tertiary care hospitals performing sentinel surveillance of SARI during 2012 participated in the study. Such hospitals forwarded all respiratory samples from patients with SARI to the District Health Department. SARI was defined as any respiratory infection with a possible viral and/or bacterial origin requiring inpatient management\"),\n",
       " Document(metadata={'id': 1293000, 'doi': '10.12688/f1000research.5741.1', 'chunk_type': 'RCTS_512_100'}, page_content='the compounds could fit in the binding site, but it is unclear what additional value more docking would add unless we were going to try to predict and then generate the Xray structure of these FDA drugs. Certainly if experts in docking or crystallography want to pursue this target they can.'),\n",
       " Document(metadata={'id': 1293066, 'doi': '10.1371/journal.pmed.1001562', 'chunk_type': 'RCTS_512_100'}, page_content='(ii) Data collected from MSF activities in prisons or any situation that are related to or can result in detention or deprivation of liberty (including in certain refugee or displaced person settings).\\n\\n (iii) Certain data variables such as those that could indirectly imply, truly or not, racial or ethnic origin, or political or religious opinions (for example, the origin or the location of the patient/participant).\\n\\n (iv) Data related to sicknesses with an obligation to adhere to treatment.'),\n",
       " Document(metadata={'id': 1290736, 'doi': '10.1186/cc10562', 'chunk_type': 'RCTS_512_100'}, page_content='4. Marik PE, Baram M, Vahid B: Does central venous pressure predict fluid responsiveness? a systematic review of the literature and the tale of seven mares. Chest 2008, 134 :172-178.\\n\\n 5. Rinehart J, Liu N, Alexander B, Cannesson M: Closed loop systems in anesthesia: is there a potential for closed loop fluid management and hemodynamic optimization? Anesth Analges 2012, 114 :130-143.'),\n",
       " Document(metadata={'id': 1292999, 'doi': '10.12688/f1000research.5741.1', 'chunk_type': 'RCTS_512_100'}, page_content='Response : As explained earlier, our study is not intended to be an exhaustive evaluation of docking tools, we have used different computational approaches to suggest that the FDA drugs may have a common pharmacophore, which seems to be similar to that of the ligands co-crystallized with VP-35. Finally docking suggests they may fit into the pocket that the co-crystal ligands bind to. The work proposes that the compounds could fit in the binding site, but it is unclear what additional value more docking'),\n",
       " Document(metadata={'id': 1290979, 'doi': '10.1186/s12889-019-7939-y', 'chunk_type': 'RCTS_512_100'}, page_content='reason why the ranking and Likert scores of usefulness and feasibility mostly increased throughout the workshop maybe explained in one of the female smoker \\' s comments. She was less aware of what the concept of mindfulness training represented before the workshop but found the positive discussions in round robin 1 and 2 on mindfulness had changed her opinion and scores to favour mindfulness as \" most useful \" by the end of the workshop, which has resulted as part of the deliberative democratic process'),\n",
       " Document(metadata={'id': 1290697, 'doi': '10.1186/cc10562', 'chunk_type': 'RCTS_512_100'}, page_content='the artificial simulation environment because it is partially based on those same data. The third phase of the study was intended in part to examine this possible bias in the design by making the reported PPV an imprecise predictor to see what impact, if any, this had on the LIR algorithm. As demonstrated, the controller continues to function even when PPV varies widely from the \" true \" value generated from the incorporation of the database into the simulator. Although this suggests that the appropriate'),\n",
       " Document(metadata={'id': 1292912, 'doi': '10.12688/f1000research.5741.1', 'chunk_type': 'RCTS_512_100'}, page_content='Redocking the 4IBI ligand in the protein resulted in an RMSD of 3.02Å, which generally indicates the difficulty of predicting orientations for compounds binding in what is a relatively hydrophobic and shallow pocket (Figure S1). This molecule was ranked the 29 th pose and had a LibDock score of 86.62 (Figure S1). The four FDA approved drugs were docked into the VP35 structure 4IBI. All compounds docked similarly and overlapped with the co-crystal ligand (Figure 2). Amodiaquine and chloroquine had higher'),\n",
       " Document(metadata={'id': 1291082, 'doi': '10.1186/s12909-020-02035-2', 'chunk_type': 'RCTS_512_100'}, page_content='\" ...uhm, yeah difficulty prioritizing what is important for that patient at that time. So yeah, individualizing the treatment specific to the patient and their problems, rather than having a general sort of recipe - all ICU patients need this package of care, whatever. \" (Wendy, South African clinical expert)\\n\\nFeeling prepared for ICU clinical work'),\n",
       " Document(metadata={'id': 1290638, 'doi': '10.1186/cc10562', 'chunk_type': 'RCTS_512_100'}, page_content='The controller uses the resulting database to calculate when a patient is likely to respond to a fluid bolus and with what degree of increase in CO. Patient hemodynamic parameters (primarily PPV, but also CO, mean arterial pressure (MAP), and HR) are compared with the dataset, and a probability of positive response is assigned based on the population data. This probability and the hemodynamic data are then modified based on previous patient responses to fluid administration and deviations from the model'),\n",
       " Document(metadata={'id': 1291595, 'doi': '10.1186/s12985-015-0262-z', 'chunk_type': 'RCTS_512_100'}, page_content='Despite technological advances, establishing the cause of pneumonia remains challenging [26]. In this study diagnosis of viral pneumonia relied on nasopharyngeal specimens, what might be misleading since detection of a virus in the nasopharynx could represent a coincidental upper-respiratory infection, the asymptomatic presence of the virus, or a genuine pneumonia pathogen. Measurement of background prevalence of asymptomatic nasopharyngeal viral infections in a healthy control group and in patients with'),\n",
       " Document(metadata={'id': 1293190, 'doi': '10.1371/journal.pone.0003803', 'chunk_type': 'RCTS_512_100'}, page_content='Isolation of MelV from a patient suffering acute respiratory disease marked a new beginning of linking orthoreoviruses to acute human RTIs [5]. This was especially significant in that epidemiology studies indicated that MelV originated from bats. The last decade has experienced a surge in the discovery of emerging viruses of bat origin, several of which have had significant impact on human and animal heath, tourism and trade [8,19-21]. Although the exact reason is not fully known, it seems that bats are an'),\n",
       " Document(metadata={'id': 1293239, 'doi': '10.1371/journal.pone.0017825', 'chunk_type': 'RCTS_512_100'}, page_content='Conclusion/Significance: While there has been an increase in imports of amphibian and reptiles into Thailand, erratic patterns in proportions of captive-bred specimens and volumes suggests either capricious markets or errors in reporting. Large discrepancies with respect to origin point to misreporting or possible violations of the rules and intentions of CITES.'),\n",
       " Document(metadata={'id': 1292974, 'doi': '10.12688/f1000research.5741.1', 'chunk_type': 'RCTS_512_100'}, page_content='Response : The study was not intended as an exhaustive docking comparison, there are plenty of these in the literature as noted by the reviewer. I agreed the redocking RMSD was high, but I also provided some justification for the result (difficulty of predicting orientations for compounds binding in what is a relatively hydrophobic and shallow pocket). If others want to use different methods and perform a comparison for this target I would be supportive.'),\n",
       " Document(metadata={'id': 1291599, 'doi': '10.1186/s12985-015-0262-z', 'chunk_type': 'RCTS_512_100'}, page_content='the virus infection caused a mild disease. Then, why is there about the same incidence of RV found in respiratory infections with different degrees of severity? It is tempting to hypothesize that specific virus serotypes/genotypes are preferentially associated to severe or mild clinical symptoms. This potential association might be obscured by a wide diversity of circulating RV serotypes/genotypes with potentially different intrinsic virulence, such that in different children populations similar'),\n",
       " Document(metadata={'id': 1292985, 'doi': '10.12688/f1000research.5741.1', 'chunk_type': 'RCTS_512_100'}, page_content='Concerning the docking and proposed mechanism, I wonder how different the other solved nucleocapsid proteins are from a structural and sequence point of view, in order to make the authors point that VP35 is indeed the target. Would it be possible to explore for surface patches with similar physico-chemical features? In the case of VP30, a potential binding pocket for smallmolecule inhibitors has been suggested by Hartlieb et al. (2007). How good or bad the overlapping with the built pharmachophore is for'),\n",
       " Document(metadata={'id': 1293001, 'doi': '10.12688/f1000research.5741.1', 'chunk_type': 'RCTS_512_100'}, page_content='Concerning the docking and proposed mechanism, I wonder how different the other solved nucleocapsid proteins are from a structural and sequence point of view, in order to make the authors point that VP35 is indeed the target. Would it be possible to explore for surface patches with similar physico-chemical features? In the case of VP30, a potential binding pocket for small-molecule inhibitors has been suggested by Hartlieb et al. (2007). How good or bad the overlapping with the built pharmachophore is for'),\n",
       " Document(metadata={'id': 1293259, 'doi': '10.1371/journal.pone.0017825', 'chunk_type': 'RCTS_512_100'}, page_content='Salvador and spectacled caiman Caiman crocodilus from Venezuela were imported into Thailand (Figure 2). As with the import of wild amphibians and reptiles the number of species and number of individuals increased sharply from 2003 onwards. In some years more than 60 different species were imported. For this latter period, the main origin countries in terms of volume are Kazakhstan, Zambia, Slovenia and Indonesia with Lebanon, Kazakhstan and Indonesia exporting the largest number of species (Table 1). For'),\n",
       " Document(metadata={'id': 1292796, 'doi': '10.1016/j.ijdrr.2020.101672', 'chunk_type': 'RCTS_512_100'}, page_content='[16] U. Rosenthal, Future disasters, future definitions, in: E.L. Quarantelli (Ed.), What is -\\n\\n [16] U. Rosenthal, Future disasters, future definitions, in: E.L. Quarantelli (Ed.), What is -\\n\\n [18] W.R. Dombrowsky, Again and again: is a disaster what we call a disaster? in: E. L. Quarantelli (Ed.), What Is a Disaster: Perspectives on the Question Routledge, London, 1998, pp. 19 -30.'),\n",
       " Document(metadata={'id': 1295460, 'doi': '10.1371/journal.ppat.1007944', 'chunk_type': 'RCTS_512_100'}, page_content='66. Battye TG, Kontogiannis L, Johnson O, Powell HR, Leslie AG. iMOSFLM: a new graphical interface for diffraction-image processing with MOSFLM. Acta crystallographica Section D, Biological crystallography. 2011; 67(Pt 4):271-81. Epub 2011/04/05. https://doi.org/10.1107/S0907444910048675 PMID: 21460445\\n\\n 67. Evans PR, Murshudov GN. How good are my data and what is the resolution? Acta Crystallographica Section D. 2013; 69(7):1204-14.'),\n",
       " Document(metadata={'id': 1293055, 'doi': '10.1371/journal.pmed.1001562', 'chunk_type': 'RCTS_512_100'}, page_content='How will access be managed? We intend to post some datasets in an open repository, but as a first step to gain experience with data sharing, managed access will be the default means of sharing data. A high proportion of data generated by MSF is considered sensitive, thereby requiring a higher level of oversight. The stringency of the managed access procedure will be proportionate to the risks associated with MSF datasets, and must not unduly restrict or delay access.'),\n",
       " Document(metadata={'id': 1292986, 'doi': '10.12688/f1000research.5741.1', 'chunk_type': 'RCTS_512_100'}, page_content='by Hartlieb et al. (2007). How good or bad the overlapping with the built pharmachophore is for this case?'),\n",
       " Document(metadata={'id': 1293282, 'doi': '10.1371/journal.pone.0017825', 'chunk_type': 'RCTS_512_100'}, page_content=\"eggs laid by gravid wild females taken temporarily into captivity has been observed, although it is also not clear on what scale this takes place.'' Similar concerns about the export of large numbers of allegedly captive-bred tortoises from Kazakhstan and Jordan to Japan, and to a lesser extent Thailand, have been indicated by Vinke and Vinke [23].\"),\n",
       " Document(metadata={'id': 1293002, 'doi': '10.12688/f1000research.5741.1', 'chunk_type': 'RCTS_512_100'}, page_content='by Hartlieb et al. (2007). How good or bad the overlapping with the built pharmachophore is for this case? ·'),\n",
       " Document(metadata={'id': 1295063, 'doi': '10.1371/journal.pone.0228030', 'chunk_type': 'RCTS_512_100'}, page_content='25. Melguizo-Gavilanes I, Bruner JM, Guha-Thakurta N, Hess KR, Puduvalli VK. Characterization of pseudoprogression in patients with glioblastoma: is histology the gold standard? J Neurooncol. 2015; 123: 141-150. https://doi.org/10.1007/s11060-015-1774-5 PMID: 25894594'),\n",
       " Document(metadata={'id': 1292785, 'doi': '10.1016/j.ijdrr.2020.101672', 'chunk_type': 'RCTS_512_100'}, page_content='this ignorance, some people may leave the collective action even though all others participate, the collective goal has not been yet achieved and the conditions for joining the collective action are fulfilled. To some extent, this dynamic resembles the dilemma of joining demonstrations and protest against governmental policies regarding the Covid-19 pandemic. Due to the intense media coverage people became aware of what they do not know and hesitate to take action against government policies.'),\n",
       " Document(metadata={'id': 1293040, 'doi': '10.1371/journal.pmed.1001562', 'chunk_type': 'RCTS_512_100'}, page_content='Access to MSF datasets will be granted only if the recipients of data agree not to seek intellectual property rights of any kind, without MSF giving specific and prior consent. In addition, recipients must avoid actions that render the results of their research, such as publications or medical products, unavailable or unaffordable for the populations of lowand middle-income countries.\\n\\nWhat Data Will Be Included in the Data Collection?'),\n",
       " Document(metadata={'id': 1292971, 'doi': '10.12688/f1000research.5741.1', 'chunk_type': 'RCTS_512_100'}, page_content=\"'Chloroquine to date has not progressed beyond the mouse EBOV model used in these studies.' This statement is not clear, does it mean that the others have progressed beyond the mouse EBOV model? 2.\\n\\nResponse: From discussions with the author on the paper that described Chloroquine as active versus EBOV in vitro and in mouse, this work has not gone beyond the mouse model of EBOV.\\n\\n The first few compounds in Supplemental Table 2 should be part of the main manuscript as a table. 3.\"),\n",
       " Document(metadata={'id': 1292784, 'doi': '10.1016/j.ijdrr.2020.101672', 'chunk_type': 'RCTS_512_100'}, page_content=\"Another common knowledge mechanism analyzed by Ref. [44] shows how public announcements trigger a learning process that improves the players ' knowledge about certain aspects of the state of the world, but also stresses their ignorance about other aspects. Thus, a learning process may make people aware of what they do not know and may therefore discourage participation in a mass collective action. Due to this ignorance, some people may leave the collective action even though all others participate, the\"),\n",
       " Document(metadata={'id': 1292419, 'doi': '10.1186/s40545-020-00216-4', 'chunk_type': 'RCTS_512_100'}, page_content='infection unlike what has been believed so far. The connections between these two infections also refer to disruptions in supply chain of essential malaria preventive products, medications and healthcare services. This crisis highlighted that a strong investment is needed in African pharmaceutical industry to become self-sufficient as currently only a minor proportion of active ingredients are available. Community pharmacies in Kenya constitute a strong pillar of primary care offer, as the country strives'),\n",
       " Document(metadata={'id': 1290719, 'doi': '10.1186/cc10562', 'chunk_type': 'RCTS_512_100'}, page_content='Finally, this study did not seek to answer a host of questions regarding this system. For example, how would the system cope with a significant change in patient condition like the onset of atrial fibrillation, or a change from volume control to assisted or spontaneous ventilation? What about a new-onset myocardial infarction? The LIR algorithm was designed to detect when patient responses are not matched by expectations, especially when a sudden change in responses or overall patient condition occurs, and'),\n",
       " Document(metadata={'id': 1293151, 'doi': '10.1371/journal.pone.0003803', 'chunk_type': 'RCTS_512_100'}, page_content='Bats have been shown to be the reservoir hosts of many recently emergent zoonotic viruses, including Hendra virus, Nipah virus, Menangle virus, and potentially SARS and Ebola viruses [8-13]. NBV was the first reovirus of bat origin, which was isolated in 1968 from the heart blood of a flying fox ( Pteropus poliocephalus )in New South Wales, Australia [6,14]. NBV was also the first mammalian reovirus to display fusogenic properties [6], a characteristic previously only known for avian reoviruses (ARVs). In'),\n",
       " Document(metadata={'id': 1291077, 'doi': '10.1186/s12909-020-02035-2', 'chunk_type': 'RCTS_512_100'}, page_content='\" So, I think the main thing that would be good [is] if students had a good grip on [..] physiology and the theoretical...[..] [because] it is a pain to teach them the theoretical underpinnings [in] here. \" (Amy, Irish clinical expert)\\n\\n\" I expect them [..] to have a good knowledge of the assessment [..] so looking at all systems so they can adequately clinically reason what they need to do [..] \" (Wendy, South African clinical expert)'),\n",
       " Document(metadata={'id': 1294543, 'doi': '10.1371/journal.pone.0102586', 'chunk_type': 'RCTS_512_100'}, page_content='In the Marshfield cohort, the seasonal incidence of medically attended RSV was similar to what was reported from a prospective cohort study of healthy elderly adults ( $ 65 years old) in Rochester, New York [7]. The Rochester study occurred over four consecutive winters from late 1999 to early 2003, and they conducted surveillance for all RSV infections rather than only medically attended RSV. The seasonal incidence of RSV infection was reported to be 300 to 700 per 10,000 elderly adults. In the'),\n",
       " Document(metadata={'id': 1295507, 'doi': '10.1385/1-59259-940-0:003', 'chunk_type': 'RCTS_512_100'}, page_content='It is unknown what proportion of IPF is familial, but it is estimated that 0.5 to 2.2% of cases have a genetic basis (42) . Thirty-eight families affected by pulmonary fibrosis have been identified and are currently under active investigation. The familial aggregation in those families is consistent with a genetic basis in at least a subset of patients with IPF (50) .\\n\\n4. Diagnosis'),\n",
       " Document(metadata={'id': 1291099, 'doi': '10.1186/s12909-020-02035-2', 'chunk_type': 'RCTS_512_100'}, page_content='\" ..and it \\' s a problem that we have in [our country] that [..] sort of the general ICU cultures are quite different, so if you are teaching students now sort of more evidence-based practice in terms of rehabilitation [..], there\\'s quite a lot of resistance [..] from more senior physios and from nursing staff which hinders them [the students] for being able to practice what they [..] have been taught. \" (Wendy, South African clinical expert)\\n\\nDiscussion'),\n",
       " Document(metadata={'id': 1292512, 'doi': '10.1186/s40662-016-0051-9', 'chunk_type': 'RCTS_512_100'}, page_content=\"13. Georgiou T, Funnell CL, Cassels-Brown A, O ' Conor R. Influence of ethnic origin on the incidence of keratoconus and associated atopic disease in Asians and white patients. Eye (Lond). 2004;18(4):379 -83.\\n\\n 14. Nielsen K, Hjortdal J, Aagaard Nohr E, Ehlers N. Incidence and prevalence of keratoconus in Denmark. Acta Ophthalmol Scand. 2007;85(8):890 -2.\"),\n",
       " Document(metadata={'id': 1294586, 'doi': '10.1371/journal.pone.0143152', 'chunk_type': 'RCTS_512_100'}, page_content='respiratory infection with a possible viral and/or bacterial origin requiring inpatient management and a clinical presentation of fever of less than 14 days after onset and higher than 38°C, shortness of breath, cough, hypoxia and systemic compromise (systemic inflammatory response syndrome or organ failure), depending on symptom severity [5]. The samples were taken via nasopharyngeal aspiration or swab. The samples were sent, together with the required basic epidemiological data collection form, through'),\n",
       " Document(metadata={'id': 1295165, 'doi': '10.1089/aid.2013.0153', 'chunk_type': 'RCTS_512_100'}, page_content=\"8. O'Neil PK, Sun G, Yu H, Ron Y, Dougherty JP, and Preston BD: Mutational analysis of HIV-1 long terminal repeats to explore the relative contribution of reverse transcriptase and RNA polymerase II to viral mutagenesis. J Biol Chem 2002;277(41):38053-38061.\\n\\n 9. Redmond PS, Miles PD, and Johnson M: The origin of genetic diversity in HIV-1. Virus Res 2012;169(2):415429.\"),\n",
       " Document(metadata={'id': 1293355, 'doi': '10.1371/journal.pone.0029608', 'chunk_type': 'RCTS_512_100'}, page_content='suggest that VP24 and VP35 are the structural components of the bridge located on the periphery of the nucleocapsid (Figure 2G). It is not possible to accurately delineate VP24 and VP35 within the bridge at this resolution, however the density of the bridge is consistent with a predicted total mass of 60 kD, thus each bridge is composed of one molecule of VP24 and one molecule of VP35. It is likely that the larger lobe is VP35 and that VP24 therefore resides within the smaller lobe (Figure 2F). Thus, each'),\n",
       " Document(metadata={'id': 1294089, 'doi': '10.1371/journal.pone.0072918', 'chunk_type': 'RCTS_512_100'}, page_content='Author Contributions\\n\\nConceived and designed the experiments: GQC KCW YPL JZS JMC. Performed the experiments: GQC QYZ KCW SL WMJ GYH JPL JMY. Analyzed the data: GQC QYZ KCW JMC. Contributed reagents/ materials/analysis tools: YPL JZS JMC. Wrote the paper: GQC KCW JMC.\\n\\n 18. Chan JF, Li KS, To KK, Cheng VC, Chen H, et al. (2012) Is the discovery of the novel human betacoronavirus 2c EMC/2012 (HCoV-EMC) the beginning of another SARS-like pandemic? J Infect 65: 477 2 489.'),\n",
       " Document(metadata={'id': 1291675, 'doi': '10.1186/s13002-020-00367-3', 'chunk_type': 'RCTS_512_100'}, page_content='in the months of religious ceremony, in which the members of the group move to a settlement near the Ouricuri forest, is significantly higher than in other months. We also tested whether seasonality influences the hunting of game meat in the region, and we expect that the amount of biomass (kg) is significantly higher in the dry season than in the rainy season. Finally, we tested if there is a relation between the preference of game species by the hunters and the hunting of game meat. We expect that the'),\n",
       " Document(metadata={'id': 1291122, 'doi': '10.1186/s12909-020-02035-2', 'chunk_type': 'RCTS_512_100'}, page_content=\"Authors ' information\\n\\nMel Major is PhD researcher in the field of physiotherapeutic rehabilitation after critical illness and works as senior lecturer at the European School of Physiotherapy. She is one of the developers of the e-learning module ' Physiotherapy in the ICU ' .\\n\\nStephan Ramaekers is associate professor clinical reasoning and shared decision making. His research focus is on the development of clinical reasoning competency, in particular in interprofessional teams.\"),\n",
       " Document(metadata={'id': 1292718, 'doi': '10.1016/j.ijdrr.2020.101672', 'chunk_type': 'RCTS_512_100'}, page_content='of passive citizens, and is also strongly affected by the mobilization efforts of activists. It should also be noted that the participation rate increases as the number of citizens increases, because the participation rate is expected to rise as the number of potential participants increases. Similarly, the participation rate is expected to increase as the number of those who already participate increases. In other words, based on the bandwagon mechanism, it is assumed that people who do not participate'),\n",
       " Document(metadata={'id': 1293358, 'doi': '10.1371/journal.pone.0029608', 'chunk_type': 'RCTS_512_100'}, page_content='The recombinant nucleocapsid data indicates that both VP35VP30-VP24-NP and VP35-VP24-NP produce approximately 50 nm diameter helical structures that are indistinguishable from nucleocapsids produced by EBOV. This indicates that VP30 does not increase the diameter of the nucleocapsid. We propose that VP30 lies in the interior of the nucleocapsid and is not part of the bridge on the periphery of the nucleocapsid. This localization is consistent with previous work showing that VP30 is a component of the'),\n",
       " Document(metadata={'id': 1292717, 'doi': '10.1016/j.ijdrr.2020.101672', 'chunk_type': 'RCTS_512_100'}, page_content='A detailed model can be found in Gavious and Mizrahi [42]. The model also assumes that for every point in time the number of passive citizens who join the collective action during the next time interval is proportional to the interval length, the number of those who already participate, and the number of citizens. The rate of new participants joining the collective activity is influenced by the preferences of passive citizens, and is also strongly affected by the mobilization efforts of activists. It'),\n",
       " Document(metadata={'id': 1293797, 'doi': '10.1371/journal.pone.0054673', 'chunk_type': 'RCTS_512_100'}, page_content=\"7. Lemon KP, Klepac-Ceraj V, Schiffer HK, Brodie EL, Lynch SV, et al. (2010) Comparative analyses of the bacterial microbiota of the human nostril and oropharynx. MBio 1: e00129-10.\\n\\n 8. Arck P, Handjiski B, Hagen E, Pincus M, Bruenahl C, et al. (2010) Is there a 'gut-brain-skin axis'? Exp Dermatol 19: 401-405.\"),\n",
       " Document(metadata={'id': 1295159, 'doi': '10.1089/aid.2013.0153', 'chunk_type': 'RCTS_512_100'}, page_content='A higher fidelity of HIV-1 replication is predicted to come at a cost to the fitness of the virus. Overall, the level of HIV RT fidelity is likely to be a balance in which too high fidelity leads to a reduction in viral fitness but too low fidelity is also detrimental to the propagation of the virus. Manipulation of viral fidelity is therefore a possible route for controlling the virus. Understanding the relationship between fidelity and viral fitness will lead to a better appreciation of HIV evolution and'),\n",
       " Document(metadata={'id': 1295091, 'doi': '10.1089/aid.2013.0153', 'chunk_type': 'RCTS_512_100'}, page_content='DNA duplex is thus created, which is a substrate for the RNase H domain of RT. Once the first strand of DNA is synthesized, almost all the genomic RNA will be degraded, with the exception of two purine-rich sequences (polypurine tracts) that are resistant to RNase H cleavage. These short segments of RNA serve as primers for the synthesis of the second DNA strand and are eventually replaced with a DNA copy, finally resulting in the production of a double-stranded DNA copy of the virus.'),\n",
       " Document(metadata={'id': 1293313, 'doi': '10.1371/journal.pone.0017825', 'chunk_type': 'RCTS_512_100'}, page_content='31. Highfield AC (2009) Captive-bred or illegal import? - UK tortoise buyers need to beware. http://www.tortoisetrust.org/articles/imports.html. Accessed 2010 June 9.\\n\\n 32. Anonymous (2008) CITES Secretariat: Twenty-third meeting of the Animals Committee Geneva (Switzerland), 9-24 April 2008 - Review of Significant Trade\\n\\n in specimens of Appendix-II species. Available at http://www.cites.org/eng/ com/AC/23/E23-08-04.pdf.'),\n",
       " Document(metadata={'id': 1295314, 'doi': '10.1371/journal.ppat.1007944', 'chunk_type': 'RCTS_512_100'}, page_content='Sequence comparison of the two RSV F subtypes demonstrates that the residues comprising the AM22 epitope are well-conserved. However, one of the subtype A RSV F residues that contacts AM22 is Lys209, which is a Gln in subtype B (Fig 2C). The Lys209 side chain of subtype A prefusion RSV F is coordinated by three residues of the AM22 heavy chain. This includes the formation of a salt bridge with Asp100G of the CDR H3 that effectively extends the prominent β -sheet interaction. Substitution of Lys209 with'),\n",
       " Document(metadata={'id': 1293220, 'doi': '10.1371/journal.pone.0003803', 'chunk_type': 'RCTS_512_100'}, page_content='4. Duncan R (1999) Extensive sequence divergence and phylogenetic relationships between the fusogenic and nonfusogenic orthoreoviruses: a species proposal. Virology 260: 316-328.\\n\\n 5. Chua KB, Crameri G, Hyatt A, Yu M, Tompang MR, et al. (2007) A previously unknown reovirus of bat origin is associated with an acute respiratory disease in humans. Proc Natl Acad Sci U S A 104: 11424-11429.\\n\\n 6. Gard G, Compans RW (1970) Structure and cytopathic effects of Nelson Bay virus. J Virol 6: 100-106.'),\n",
       " Document(metadata={'id': 1291926, 'doi': '10.1186/s13052-016-0312-1', 'chunk_type': 'RCTS_512_100'}, page_content='10. Bozzola E, Tozzi AE, Bozzola M, Krzysztofiak A, Valentini D, Grandin A, Villani A. Neurological complications of varicella in childhood: case series and a systematic review of the literature. Vaccine. 2012;30:5785 -90.\\n\\n 11. Hervas D, Henales V, Yeste S, Figuerola J, Hervas J. How frequent is varicella associated pneumonia in children? Eur J Clin Microbiol Infect Dis. 2011;30:435 -7.'),\n",
       " Document(metadata={'id': 1293234, 'doi': '10.1371/journal.pone.0017825', 'chunk_type': 'RCTS_512_100'}, page_content='Background: International wildlife trade is one of the leading threats to biodiversity conservation. The Convention on International Trade in Endangered Species of Wild Fauna and Flora (CITES) is the most important initiative to monitor and regulate the international trade of wildlife but its credibility is dependent on the quality of the trade data. We report on the performance of CITES reporting by focussing on the commercial trade in non-native reptiles and amphibians into Thailand as to illustrate'),\n",
       " Document(metadata={'id': 1290681, 'doi': '10.1186/cc10562', 'chunk_type': 'RCTS_512_100'}, page_content='during blood-loss scenarios. Although it was perhaps not surprising that the controller was superior to a lowrate steady crystalloid infusion, this was nevertheless an essential step in the development of the algorithm. One of the key results of this phase is the low standard deviation of the fluid infusions within scenarios; although this is not an engineering test of stability, this suggests at the minimum, consistency of the algorithm in its management. Another important observation from this portion of'),\n",
       " Document(metadata={'id': 1294010, 'doi': '10.1371/journal.pone.0072918', 'chunk_type': 'RCTS_512_100'}, page_content='Regarding molecular surveys of pathogenic viruses, it is important to select a proper region in the viral genomes as the detection target. If the target region in the viral genome is too conserved, the sequences of the region may be of little use in phylogenetic analysis, due to limited mutations in the conserved sequence. On the other side, if the region in the viral genome is highly variable, the detection may be insensitive in identifying the target virus, although the sequences of the region may be'),\n",
       " Document(metadata={'id': 1293172, 'doi': '10.1371/journal.pone.0003803', 'chunk_type': 'RCTS_512_100'}, page_content=\"fruiting mango tree is planted close to the house which is of less than three feet from the side wall of the house and directly adjacent to the window of the living room. At night, fruit bats were noted to use this mango tree to feed on the ''sea-almond'' fruits which they obtained from the nearby Ketapang trees. Partially eaten fruits and leftover stones of the fruits abandoned by the fruit bats were noted on the ground just outside the window of the living room or on the roof of the house. Only\"),\n",
       " Document(metadata={'id': 1294029, 'doi': '10.1371/journal.pone.0072918', 'chunk_type': 'RCTS_512_100'}, page_content='The mean of genetic distance among the clades is 0.4897 (SD = 0.0381). The mean of genetic distance among the subclades is 0.1773 (SD = 0.0147). The mean of genetic distance within the clades is 0.0929 (SD = 0.0095). The mean of genetic distance within the subclades is 0.0732 (SD = 0.0073).'),\n",
       " Document(metadata={'id': 1294580, 'doi': '10.1371/journal.pone.0143152', 'chunk_type': 'RCTS_512_100'}, page_content='Acute respiratory infection is one of the main causes of hospitalization and death worldwide, although identification of the aetiological agent is not achieved in a majority of cases. Instead, the infections are treated empirically and often successfully with antimicrobial therapy. Nonetheless, the roles of viruses in the aetiology of these infections are becoming clear, especially after the 2009 pandemic of the new Influenza A subtype H1N1 [1]. The presence of a virus does not imply either a more benign'),\n",
       " Document(metadata={'id': 1293556, 'doi': '10.1371/journal.pone.0047403', 'chunk_type': 'RCTS_512_100'}, page_content='is expected to attenuate the ALI [10,36]. This is supported by results of the present study demonstrating that OroA post-treatment inhibited the NFk B activation and the release of NO and HMGB1. This is consistent with the notion that OroA prevention of LPS-induced NO and HMGB1 release is via its anti-NFk B activity [20,36].'),\n",
       " Document(metadata={'id': 1293075, 'doi': '10.1371/journal.pmed.1001562', 'chunk_type': 'RCTS_512_100'}, page_content='11. World Health Organization (2003) Consensus document on the epidemiology of severe acute respiratory syndrome (SARS). Geneva: World Health Organization. Available: http://apps. who.int/iris/bitstream/10665/70863/1/WHO\\\\_ CDS\\\\_CSR\\\\_GAR\\\\_2003.11\\\\_eng.pdf. Accessed 9 September 2013.\\n\\n 12. Langat P, Pisartchik D, Silva DS, Bernard C, Olsen K, et al. (2011) Is there a duty to share? Ethics of sharing research data in the context of public health emergencies. Public Health Ethics 4: 4-11.'),\n",
       " Document(metadata={'id': 1291531, 'doi': '10.1186/s12985-015-0405-2', 'chunk_type': 'RCTS_512_100'}, page_content='11. Dong GK, Wang EG, Luo GL, Lin LW, Guan MP, Zhang ZD, et al. Occurrence of rice black-streaked dwarf disease in late season hybrid rice and its control strategy. Acta Agric Zhejiangensis. 1999;11:364 -7.\\n\\n 12. Gachon C, Mingam A, Charrier B. Real-time PCR: what relevance to plant studies? J Exp Bot. 2004;55:1445 -54.\\n\\n 13. Bustin SA, Benes V, Nolan T, Pfaffl MW. Quantitative real-time RT-PCR -a perspective. J Mol Endocrinol. 2005;34:597 -601.'),\n",
       " Document(metadata={'id': 1293375, 'doi': '10.1371/journal.pone.0029608', 'chunk_type': 'RCTS_512_100'}, page_content='and the nucleocapsid-VP40. The right-handed pitch of the helix is clearly discernable (Figure 4E), as well as the putative location of several VP40 proteins, although the resolution of the tomographic data by itself is slightly lower than with single particle analysis.'),\n",
       " Document(metadata={'id': 1295271, 'doi': '10.1371/journal.ppat.1007944', 'chunk_type': 'RCTS_512_100'}, page_content='differences in a key antigenic site located at the apex of the trimer, referred to as antigenic site Ø . Currently, it is unclear if flexibility in this region is an inherent property of prefusion RSV F or if it is related to inadequate stabilization of site Ø in the engineered variants. Therefore, we set out to investigate the conformational flexibility of antigenic site Ø , as well as the ability of the human immune system to recognize alternative conformations of this site, by determining crystal'),\n",
       " Document(metadata={'id': 1292660, 'doi': '10.1186/s42466-020-00066-0', 'chunk_type': 'RCTS_512_100'}, page_content=\"20. Jawhara, S. (2020). Could intravenous immunoglobulin collected from recovered coronavirus patients protect against COVID-19 and strengthen the immune system of new patients? International Journal of Molecular Sciences, 21 (7), 2272.\\n\\nPublisher ' sNote\\n\\nSpringer Nature remains neutral with regard to jurisdictional claims in published maps and institutional affiliations.\\n\\n<missing-text>\\n\\n<missing-text>\"),\n",
       " Document(metadata={'id': 1292646, 'doi': '10.1186/s42466-020-00066-0', 'chunk_type': 'RCTS_512_100'}, page_content='One important limitation of this case report is the delayed testing for SARS-CoV-2 on the 5th day after admission to hospital due to recommendations of the Robert Koch Institute at that time. Another limitation is the lack of PCR for SARS-CoV-2 in CSF.'),\n",
       " Document(metadata={'id': 1293321, 'doi': '10.1371/journal.pone.0029608', 'chunk_type': 'RCTS_512_100'}, page_content='an extreme degree of length polymorphism. We show that the helical Ebola virus inner nucleocapsid containing RNA and nucleoprotein is stabilized by an outer layer of VP24-VP35 bridges. Elucidation of the structure of the membrane-associated glycoprotein in its native state indicates that the putative receptor-binding site is occluded within the molecule, while a major neutralizing epitope is exposed on its surface proximal to the viral envelope. The matrix protein VP40 forms a regular lattice within the'),\n",
       " Document(metadata={'id': 1293455, 'doi': '10.1371/journal.pone.0029608', 'chunk_type': 'RCTS_512_100'}, page_content='Movie S1\\n\\n3-D reconstruction of Ebola virus nucleocap-\\n\\nsid. This movie shows the three-dimensional structure of the of the Ebola virus nucleocapsid as shaded surface representation. The surface is set at a density threshold which would include one copy of NP, VP24,VP30, VP35, and the RNA. The nucleocapsid rotates, and then is sliced through the Z-axis to show the internal components of the structure. (MOV)'),\n",
       " Document(metadata={'id': 1293374, 'doi': '10.1371/journal.pone.0029608', 'chunk_type': 'RCTS_512_100'}, page_content='(Figure 3I). These results are substantiated by the analysis of sub-tomograms where helical symmetry is clearly evident but was not imposed (Figures 4, S4). The use of sub-tomogram analysis improves the resolution of the data by averaging sub-tomograms together which are at different angular orientations. The helical nucleocapsid is clearly identified in the structure, including the gap between the envelope-VP40, and the nucleocapsid-VP40. The right-handed pitch of the helix is clearly discernable (Figure'),\n",
       " Document(metadata={'id': 1295142, 'doi': '10.1089/aid.2013.0153', 'chunk_type': 'RCTS_512_100'}, page_content='many higher fidelity mutant RTs have been shown to have a lower processivity, 47,54,55 which is defined as the length of time the enzyme remains associated with the nucleic acids. Processivity, however, is not a direct measure of the rate of replication, and strand transfer can occur when the RT dissociates, continuing polymerization. 12 Our understanding of the relationship between fidelity and processivity is evolving. Although there is evidence for a negative relationship between processivity and'),\n",
       " Document(metadata={'id': 1292602, 'doi': '10.1186/s40635-019-0221-x', 'chunk_type': 'RCTS_512_100'}, page_content='of the DiGiovanni-Schmiedt Studio, Milan, Italy). He is the chief author of all the revisions of the paper. EB designed, developed and created all the versions of the device. Opendot Lab and its staff provided all the technical support. EC, PO and PG organised and participated in all the phases of the experiments on cadavers. They closely collaborated in the development of the study protocol and in all the revisions of the paper. GB realised the draft of the study protocol and the statistical analysis and'),\n",
       " Document(metadata={'id': 1292496, 'doi': '10.1186/s40662-016-0051-9', 'chunk_type': 'RCTS_512_100'}, page_content='It is now understood that inflammation is one of the primary drivers of keratoconus [55, 61 -63, 71], therefore, it is not surprising that some of the markers between keratoconus and DES are similar. However, the amplitude of the deregulation of these markers such as IL6 and MMP9, in correlation with disease phenotype can be distinct amongst the different disorders with inflammatory drivers. Large sample cohort studies [54, 63] would further validate the role of these proteins as specific and potential'),\n",
       " Document(metadata={'id': 1295289, 'doi': '10.1371/journal.ppat.1007944', 'chunk_type': 'RCTS_512_100'}, page_content='membrane, resulting in the formation of an unstable prehairpin intermediate. Collapse of this intermediate into the stable postfusion conformation brings the virus and host-cell membranes together, facilitating formation of a fusion pore and release of the viral genome into the target cell [7, 15]. However, the mechanism and underlying cause of RSV F triggering is not well understood. Recombinant virus expressing only the RSV F protein on its surface is sufficient for infection of immortalized cell lines'),\n",
       " Document(metadata={'id': 1290966, 'doi': '10.1186/s12889-019-7939-y', 'chunk_type': 'RCTS_512_100'}, page_content='would help them understand what it was like to be giving up:\\n\\n\" I believe that the Quitline should all be ex-smokers so they have the empathy for smokers, because the lady I was talking to had never smoked. And I thought, what are you doing this job for if you \\' re not on our level. And she, I couldn \\' t believe when, I really think that they, I really feel they need to be, sorry, mandatory for them to counsel other people, to have been through it themselves. \"'),\n",
       " Document(metadata={'id': 1294921, 'doi': '10.1371/journal.pone.0209078', 'chunk_type': 'RCTS_512_100'}, page_content='The remifentanil-associated AOT/OIH is poorly understood and controversial in TIVA especially in TCI mode as shown in Table 4 [6-10]. We suppose that the major reason for the argument is the difference in the way the threshold is expressed. Although the thresholds of remifentanil infusion rates reported in previous studies are directly comparable, the Ce thresholds reported in the TCI studies are not. According to the pharmacokinetic model of Minto [18], the Ce of remifentanil is strongly influenced by age'),\n",
       " Document(metadata={'id': 1292586, 'doi': '10.1186/s40635-019-0221-x', 'chunk_type': 'RCTS_512_100'}, page_content=\"Our preference for Fantoni ' s TLT method is primarily based on our view that extracting the cone cannula from inside the trachea to the outside to dilate the stoma minimises the risk of posterior tracheal wall injury, one of the most dangerous complications of PDT. Thus, stoma dilatation is directly performed using the final cannula, obviating the need to exchange the dilator for the final cannula. Pressure applied by the fingers on the neck skin during extraction of the cone cannula compresses the\"),\n",
       " Document(metadata={'id': 1292558, 'doi': '10.1186/s40635-019-0221-x', 'chunk_type': 'RCTS_512_100'}, page_content='The primary objective of the study is to verify the greater safety and precision of the tracheal puncture made with the tTNI compared with that made with the standard technique (freehand with anatomical landmarks) using cadavers.\\n\\nThe secondary objective of the study is to verify that tTNI use guarantees greater safety and precision of the tracheal puncture for trained and untrained operators.\\n\\nMethods\\n\\nDevice conception and production'),\n",
       " Document(metadata={'id': 1292587, 'doi': '10.1186/s40635-019-0221-x', 'chunk_type': 'RCTS_512_100'}, page_content=\"applied by the fingers on the neck skin during extraction of the cone cannula compresses the pre-tracheal tissues, minimising the risk of bleeding. Finally, throughout the TLT procedure, the patient ' s airway is protected by the rigid tracheoscope, allowing mechanical ventilation and endoscopic vision. Thereafter, ventilation is accomplished through the long catheter of Fantoni ' s kit.\"),\n",
       " Document(metadata={'id': 1290698, 'doi': '10.1186/cc10562', 'chunk_type': 'RCTS_512_100'}, page_content='the incorporation of the database into the simulator. Although this suggests that the appropriate operation of LIR is not dependent on the included PPV dataset alone, only further study independent of the simulator will adequately address this concern.'),\n",
       " Document(metadata={'id': 1295114, 'doi': '10.1089/aid.2013.0153', 'chunk_type': 'RCTS_512_100'}, page_content='Reporter gene assays measure misincorporation during polymerization of an entire gene. The most common reporter gene assay is the M13-based forward mutation lacZ a assay. The RT of interest is combined with bacteriophage DNA that has a section of single-stranded DNA over the length of the reporter gene ( lacZ a ). 27 The enzyme polymerizes over the gap and the resulting products are transfected into bacteria. Error-free synthesis is observed by the dark blue color of these colonies. Light blue or colorless'),\n",
       " Document(metadata={'id': 1292019, 'doi': '10.1186/s13054-020-02979-3', 'chunk_type': 'RCTS_512_100'}, page_content='50. World Health Organization: MERS Situation Update November 2019. https:// www.who.int/emergencies/mers-cov/en/ . Accessed 22 Apr 2020.\\n\\n 51. Oh MD, Park WB, Park SW, Choe PG, Bang JH, Song KH, Kim ES, Kim HB, Kim NJ. Middle East respiratory syndrome: what we learned from the 2015 outbreak in the Republic of Korea. Korean J Intern Med. 2018;33(2):233 -46.'),\n",
       " Document(metadata={'id': 1293436, 'doi': '10.1371/journal.pone.0029608', 'chunk_type': 'RCTS_512_100'}, page_content=\"Figure S2 Tomographic slices of Ebola virus. Slices in ''Z'' of Ebola virus tomogram reveal the components of the virus and nucleocapsid (A). The insets show 2D averages of the nucleocapsid. The slice through the top of the virus reveals the envelope and glycoprotein spikes. The next slice cuts through the top of the nucleocapsid (NC) revealing the banding pattern which represents VP24-VP35 bridge. The third slice cuts through the middle of the NC. The tube-like component of the NC is primarily composed of\")]"
      ]
     },
     "execution_count": 21,
     "metadata": {},
     "output_type": "execute_result"
    }
   ],
   "source": [
    "retriever_bm25_passage_small5k.invoke(\"what is the origin of covid-19?\")"
   ]
  },
  {
   "cell_type": "code",
   "execution_count": null,
   "metadata": {},
   "outputs": [],
   "source": []
  },
  {
   "cell_type": "code",
   "execution_count": 22,
   "metadata": {},
   "outputs": [],
   "source": [
    "pickle.dump(retriever_bm25_table_small5k, open(\"/workspace/src/preprocessing/vectorstores/bm25/retriever_bm25_table_small5k.pkl\", \"wb\"))"
   ]
  },
  {
   "cell_type": "code",
   "execution_count": 23,
   "metadata": {},
   "outputs": [],
   "source": [
    "pickle.dump(retriever_bm25_passage_small5k, open(\"/workspace/src/preprocessing/vectorstores/bm25/retriever_bm25_passage_small5k.pkl\", \"wb\"))"
   ]
  },
  {
   "cell_type": "code",
   "execution_count": 102,
   "metadata": {},
   "outputs": [],
   "source": [
    "#generate rank fusion for rannkigns\n",
    "\n",
    "rankings = pickle.load(open(\"/workspace/src/data/rankings_new2.pkl\", \"rb\"))"
   ]
  },
  {
   "cell_type": "code",
   "execution_count": 103,
   "metadata": {},
   "outputs": [],
   "source": [
    "table_rankings = {key : value for key, value in rankings.items() if \"table\" in key}\n",
    "passage_rankings = {key : value for key, value in rankings.items() if \"passage\" in key}"
   ]
  },
  {
   "cell_type": "code",
   "execution_count": 104,
   "metadata": {},
   "outputs": [],
   "source": [
    "import copy\n",
    "table_ranking_ids = copy.deepcopy(table_rankings)\n",
    "passage_ranking_ids = copy.deepcopy(passage_rankings)"
   ]
  },
  {
   "cell_type": "code",
   "execution_count": 105,
   "metadata": {},
   "outputs": [],
   "source": [
    "for query_var in table_ranking_ids.keys():\n",
    "    for topic in table_ranking_ids[query_var].keys():\n",
    "        table_ranking_ids[query_var][topic] = [doc.metadata['id'] for doc in table_ranking_ids[query_var][topic]]\n",
    "\n",
    "for query_var in passage_ranking_ids.keys():\n",
    "    for topic in passage_ranking_ids[query_var].keys():\n",
    "        passage_ranking_ids[query_var][topic] = [doc.metadata['id'] for doc in passage_ranking_ids[query_var][topic]]"
   ]
  },
  {
   "cell_type": "code",
   "execution_count": 106,
   "metadata": {},
   "outputs": [],
   "source": [
    "def reciprocal_rank_fusion(nested_dict, cutoff=200, k=60):\n",
    "    \"\"\"\n",
    "    Applies Reciprocal Rank Fusion (RRF) to a set of ranked retrieval system outputs.\n",
    "    \n",
    "    Instead of applying the cutoff to each individual system’s ranking, this function \n",
    "    first computes fusion scores for all documents that appear in any system's ranking, \n",
    "    then sorts the fused results and applies the cutoff to the final ranking for each topic.\n",
    "    \n",
    "    Parameters:\n",
    "      nested_dict (dict): A dictionary whose keys are retrieval system names and whose values\n",
    "                          are dictionaries mapping topic IDs (as strings) to lists of document IDs.\n",
    "                          For example:\n",
    "                          {\n",
    "                            'system1': {\n",
    "                                '1': [doc1, doc2, doc3, ...],\n",
    "                                '2': [doc7, doc8, ...],\n",
    "                                ...\n",
    "                            },\n",
    "                            'system2': {\n",
    "                                '1': [doc4, doc2, doc9, ...],\n",
    "                                '2': [doc3, doc10, ...],\n",
    "                                ...\n",
    "                            },\n",
    "                            ...\n",
    "                          }\n",
    "      cutoff (int): The number of top fused documents to return for each topic.\n",
    "      k (int): The constant used in the RRF formula. For each appearance at rank r (1-indexed),\n",
    "               the contribution is 1/(k + r).\n",
    "               \n",
    "    Returns:\n",
    "      dict: A dictionary mapping each topic to its final fused ranking (a list of document IDs,\n",
    "            sorted in descending order of their fusion scores), truncated to the top `cutoff` entries.\n",
    "    \"\"\"\n",
    "    # Gather all topics present across all retrieval systems.\n",
    "    topics = set()\n",
    "    for system in nested_dict:\n",
    "        topics.update(nested_dict[system].keys())\n",
    "    \n",
    "    # Dictionary to hold the final fused rankings per topic.\n",
    "    fusion_results = {}\n",
    "    \n",
    "    # Process each topic individually.\n",
    "    for topic in topics:\n",
    "        doc_scores = {}  # Dictionary to accumulate scores for each document.\n",
    "        \n",
    "        # Iterate over each retrieval system.\n",
    "        for system in nested_dict:\n",
    "            if topic in nested_dict[system]:\n",
    "                ranking = nested_dict[system][topic]\n",
    "                # Iterate over the entire ranking from the system.\n",
    "                for idx, doc in enumerate(ranking):\n",
    "                    # Ranks are 1-indexed.\n",
    "                    rank = idx + 1\n",
    "                    # Calculate the RRF score for this document from the current system.\n",
    "                    score = 1 / (k + rank)\n",
    "                    doc_scores[doc] = doc_scores.get(doc, 0) + score\n",
    "        \n",
    "        # Sort documents by their cumulative RRF score (highest first).\n",
    "        sorted_docs = sorted(doc_scores.items(), key=lambda x: x[1], reverse=True)\n",
    "        \n",
    "        # Apply the cutoff to the final fused ranking.\n",
    "        fusion_results[topic] = [doc for doc, score in sorted_docs][:cutoff]\n",
    "    \n",
    "    return fusion_results"
   ]
  },
  {
   "cell_type": "code",
   "execution_count": 107,
   "metadata": {},
   "outputs": [],
   "source": [
    "table_fusion = reciprocal_rank_fusion(table_ranking_ids)\n",
    "passage_fusion = reciprocal_rank_fusion(passage_ranking_ids)"
   ]
  },
  {
   "cell_type": "code",
   "execution_count": 108,
   "metadata": {},
   "outputs": [],
   "source": [
    "# safe the fusion results as json\n",
    "import json\n",
    "with open(\"/workspace/src/data/table_pool.json\", \"w\") as f:\n",
    "    json.dump(table_fusion, f)\n",
    "\n",
    "with open(\"/workspace/src/data/passage_pool.json\", \"w\") as f:\n",
    "    json.dump(passage_fusion, f)\n"
   ]
  },
  {
   "cell_type": "code",
   "execution_count": null,
   "metadata": {},
   "outputs": [],
   "source": [
    "passage_fusion[\"1\"]"
   ]
  },
  {
   "cell_type": "code",
   "execution_count": null,
   "metadata": {},
   "outputs": [],
   "source": [
    "passage_pool_for_rel[\"1\"]"
   ]
  },
  {
   "cell_type": "code",
   "execution_count": 109,
   "metadata": {},
   "outputs": [],
   "source": [
    "table_pool_for_rel = copy.deepcopy(table_fusion)\n",
    "passage_pool_for_rel = copy.deepcopy(passage_fusion)\n",
    "top_k = 10\n",
    "\n",
    "for topic in table_pool_for_rel.keys():\n",
    "    table_pool_for_rel[topic] = table_pool_for_rel[topic][:top_k]\n",
    "\n",
    "for topic in passage_pool_for_rel.keys():\n",
    "    passage_pool_for_rel[topic] = passage_pool_for_rel[topic][:top_k]"
   ]
  },
  {
   "cell_type": "code",
   "execution_count": 110,
   "metadata": {},
   "outputs": [],
   "source": [
    "with open(\"/workspace/src/data/table_pool_for_rel.json\", \"w\") as f:\n",
    "    json.dump(table_pool_for_rel, f)\n",
    "\n",
    "with open(\"/workspace/src/data/passage_pool_for_rel.json\", \"w\") as f:\n",
    "    json.dump(passage_pool_for_rel, f)\n"
   ]
  },
  {
   "cell_type": "code",
   "execution_count": null,
   "metadata": {},
   "outputs": [],
   "source": [
    "len(passage_pool_for_rel)"
   ]
  },
  {
   "cell_type": "code",
   "execution_count": null,
   "metadata": {},
   "outputs": [],
   "source": []
  },
  {
   "cell_type": "code",
   "execution_count": null,
   "metadata": {},
   "outputs": [],
   "source": []
  }
 ],
 "metadata": {
  "kernelspec": {
   "display_name": "Python 3",
   "language": "python",
   "name": "python3"
  },
  "language_info": {
   "codemirror_mode": {
    "name": "ipython",
    "version": 3
   },
   "file_extension": ".py",
   "mimetype": "text/x-python",
   "name": "python",
   "nbconvert_exporter": "python",
   "pygments_lexer": "ipython3",
   "version": "3.10.12"
  }
 },
 "nbformat": 4,
 "nbformat_minor": 2
}
