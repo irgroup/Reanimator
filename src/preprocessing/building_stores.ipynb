{
 "cells": [
  {
   "cell_type": "code",
   "execution_count": null,
   "metadata": {},
   "outputs": [],
   "source": [
    "import sys\n",
    "sys.path.append('/workspace/src/')"
   ]
  },
  {
   "cell_type": "code",
   "execution_count": null,
   "metadata": {},
   "outputs": [],
   "source": [
    "#get text chunks to index\n",
    "from dotenv import dotenv_values, load_dotenv\n",
    "from sqlalchemy import create_engine\n",
    "from sqlalchemy.orm import Session\n",
    "\n",
    "import pickle\n",
    "from tqdm import tqdm\n",
    "import os\n",
    "import pandas as pd\n",
    "\n",
    "import langchain_core.documents\n",
    "from langchain_community.retrievers import BM25Retriever\n",
    "from database.model import Base, Document, Table\n",
    "from database.chunk_model import Chunk_Base, Chunk\n",
    "\n",
    "from preprocessing.utils import create_vectorstore, load_vectorstore, process_pickle_embeddings_in_chunks\n",
    "import nltk\n",
    "from nltk.tokenize import word_tokenize\n",
    "\n",
    "nltk.download(\"punkt_tab\")\n",
    "db_vals = dotenv_values(\"/workspace/src/.env\")\n"
   ]
  },
  {
   "cell_type": "code",
   "execution_count": null,
   "metadata": {},
   "outputs": [],
   "source": [
    "chunk_engine = create_engine(f\"postgresql+psycopg2://{db_vals['USER']}:{db_vals['PASSWORD']}@{db_vals['ADDRESS']}:{db_vals['PORT']}/cord19chunks\", echo=False)\n",
    "chunk_session = Session(chunk_engine)"
   ]
  },
  {
   "cell_type": "code",
   "execution_count": null,
   "metadata": {},
   "outputs": [],
   "source": [
    "#building vector store\n",
    "vectorstore = create_vectorstore(chunks=[], save_path=\"vectorstores\")\n",
    "\n",
    "#vectorstore = load_vectorstore(\"/workspace/src/preprocessing/vectorstores/chromadb_store\")"
   ]
  },
  {
   "cell_type": "code",
   "execution_count": null,
   "metadata": {},
   "outputs": [],
   "source": [
    "process_pickle_embeddings_in_chunks(\n",
    "    vectorstore=vectorstore,\n",
    "    directory=\"/workspace/embeddings/embeddings/\",\n",
    "    chunk_session=chunk_session,\n",
    "    chunk_size=100  # Adjust based on memory constraints and performance\n",
    ")\n"
   ]
  },
  {
   "cell_type": "code",
   "execution_count": null,
   "metadata": {},
   "outputs": [],
   "source": [
    "#building bm25 retriever/store\n",
    "lang_docs = [langchain_core.documents.Document(page_content=chunk.chunk_text, metadata={\"id\": chunk.id, \"doi\": chunk.doi, \"chunk_type\": chunk.chunk_type}) for chunk in chunks]"
   ]
  },
  {
   "cell_type": "code",
   "execution_count": null,
   "metadata": {},
   "outputs": [],
   "source": [
    "retriever_bm25 = BM25Retriever.from_documents(lang_docs, preprocess_func=word_tokenize, k=100)"
   ]
  },
  {
   "cell_type": "code",
   "execution_count": null,
   "metadata": {},
   "outputs": [],
   "source": [
    "pickle.dump(retriever_bm25, open(\"/workspace/src/preprocessing/vectorstores/bm25/retriever_bm25.pkl\", \"wb\"))"
   ]
  }
 ],
 "metadata": {
  "kernelspec": {
   "display_name": "Python 3",
   "language": "python",
   "name": "python3"
  },
  "language_info": {
   "name": "python",
   "version": "3.10.12"
  }
 },
 "nbformat": 4,
 "nbformat_minor": 2
}
