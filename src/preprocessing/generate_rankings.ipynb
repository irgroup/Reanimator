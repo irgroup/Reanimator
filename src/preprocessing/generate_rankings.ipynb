{
 "cells": [
  {
   "cell_type": "code",
   "execution_count": 1,
   "metadata": {},
   "outputs": [],
   "source": [
    "import sys\n",
    "sys.path.append('/workspace/src/')"
   ]
  },
  {
   "cell_type": "code",
   "execution_count": 2,
   "metadata": {},
   "outputs": [
    {
     "name": "stderr",
     "output_type": "stream",
     "text": [
      "WARNING: Using incubator modules: jdk.incubator.vector\n",
      "[nltk_data] Downloading package punkt_tab to /root/nltk_data...\n",
      "[nltk_data]   Package punkt_tab is already up-to-date!\n"
     ]
    }
   ],
   "source": [
    "#get text chunks to index\n",
    "from dotenv import dotenv_values, load_dotenv\n",
    "from sqlalchemy import create_engine\n",
    "from sqlalchemy.orm import Session\n",
    "\n",
    "import pickle\n",
    "from tqdm.auto import tqdm\n",
    "import os\n",
    "import json\n",
    "import pandas as pd\n",
    "\n",
    "import langchain_core.documents\n",
    "from langchain_community.retrievers import BM25Retriever\n",
    "from database.model import Base, Document, Table\n",
    "from database.chunk_model import Chunk_Base, Chunk\n",
    "\n",
    "from preprocessing.utils import create_vectorstore, load_vectorstore\n",
    "import nltk\n",
    "from nltk.tokenize import word_tokenize\n",
    "\n",
    "nltk.download(\"punkt_tab\")\n",
    "db_vals = dotenv_values(\"/workspace/src/.env\")\n",
    "\n"
   ]
  },
  {
   "cell_type": "code",
   "execution_count": 3,
   "metadata": {},
   "outputs": [],
   "source": [
    "topics = pickle.load(open(\"/workspace/src/data/topics.pkl\", \"rb\"))\n",
    "query_variations = json.load(open(\"/workspace/src/data/query_variations.json\", \"r\"))"
   ]
  },
  {
   "cell_type": "code",
   "execution_count": 4,
   "metadata": {},
   "outputs": [],
   "source": [
    "#define retrieval variations for pooling\n",
    "retrieval_models = [\"cosine\", \"bm25\"]\n",
    "query_variation_keys = [\"original\", \"variant1\", \"variant2\", \"variant3\", \"variant4\", \"variant5\"]\n",
    "modalities = [\"table\", \"passage\"]\n",
    "\n",
    "rankings = {key: {} for key in [f\"{model}_{query_variation_key}_{modality}\" for model in retrieval_models for query_variation_key in query_variation_keys for modality in modalities]}"
   ]
  },
  {
   "cell_type": "code",
   "execution_count": 5,
   "metadata": {},
   "outputs": [
    {
     "data": {
      "text/plain": [
       "24"
      ]
     },
     "execution_count": 5,
     "metadata": {},
     "output_type": "execute_result"
    }
   ],
   "source": [
    "len(rankings)"
   ]
  },
  {
   "cell_type": "code",
   "execution_count": 6,
   "metadata": {},
   "outputs": [
    {
     "name": "stderr",
     "output_type": "stream",
     "text": [
      "/workspace/src/preprocessing/utils.py:87: LangChainDeprecationWarning: The class `OpenAIEmbeddings` was deprecated in LangChain 0.0.9 and will be removed in 1.0. An updated version of the class exists in the :class:`~langchain-openai package and should be used instead. To use it run `pip install -U :class:`~langchain-openai` and import as `from :class:`~langchain_openai import OpenAIEmbeddings``.\n",
      "  embedding = OpenAIEmbeddings(model=embedding_model)\n",
      "/workspace/src/preprocessing/utils.py:88: LangChainDeprecationWarning: The class `Chroma` was deprecated in LangChain 0.2.9 and will be removed in 1.0. An updated version of the class exists in the :class:`~langchain-chroma package and should be used instead. To use it run `pip install -U :class:`~langchain-chroma` and import as `from :class:`~langchain_chroma import Chroma``.\n",
      "  vectorstore = Chroma(\n"
     ]
    }
   ],
   "source": [
    "#loading vector store\n",
    "vectorstore = load_vectorstore(\"/workspace/src/preprocessing/vectorstores/chromadb_store\")\n",
    "\n",
    "retriever_bm25_passage = pickle.load(open(\"/workspace/src/preprocessing/vectorstores/bm25/retriever_bm25_passage.pkl\", \"rb\"))\n",
    "retriever_bm25_table = pickle.load(open(\"/workspace/src/preprocessing/vectorstores/bm25/retriever_bm25_table.pkl\", \"rb\"))"
   ]
  },
  {
   "cell_type": "code",
   "execution_count": 7,
   "metadata": {},
   "outputs": [],
   "source": [
    "rankings = pickle.load(open(\"/workspace/src/data/rankings_new.pkl\", \"rb\"))"
   ]
  },
  {
   "cell_type": "code",
   "execution_count": 20,
   "metadata": {},
   "outputs": [
    {
     "data": {
      "application/vnd.jupyter.widget-view+json": {
       "model_id": "fc2f44d5faea41c1a8459631d630c447",
       "version_major": 2,
       "version_minor": 0
      },
      "text/plain": [
       "Processing Queries:   0%|          | 0/50 [00:00<?, ?it/s]"
      ]
     },
     "metadata": {},
     "output_type": "display_data"
    },
    {
     "data": {
      "application/vnd.jupyter.widget-view+json": {
       "model_id": "276d0ed5a19446278ff339a449dd2d2c",
       "version_major": 2,
       "version_minor": 0
      },
      "text/plain": [
       "Query 1:   0%|          | 0/6 [00:00<?, ?it/s]"
      ]
     },
     "metadata": {},
     "output_type": "display_data"
    },
    {
     "data": {
      "application/vnd.jupyter.widget-view+json": {
       "model_id": "e266e91f530245a68d8201e64f80381c",
       "version_major": 2,
       "version_minor": 0
      },
      "text/plain": [
       "Query 2:   0%|          | 0/6 [00:00<?, ?it/s]"
      ]
     },
     "metadata": {},
     "output_type": "display_data"
    },
    {
     "data": {
      "application/vnd.jupyter.widget-view+json": {
       "model_id": "0020a6834cd7440c8ac0e7e431735430",
       "version_major": 2,
       "version_minor": 0
      },
      "text/plain": [
       "Query 3:   0%|          | 0/6 [00:00<?, ?it/s]"
      ]
     },
     "metadata": {},
     "output_type": "display_data"
    },
    {
     "data": {
      "application/vnd.jupyter.widget-view+json": {
       "model_id": "201919d5fa0347139359b8b53c6e1f4e",
       "version_major": 2,
       "version_minor": 0
      },
      "text/plain": [
       "Query 4:   0%|          | 0/6 [00:00<?, ?it/s]"
      ]
     },
     "metadata": {},
     "output_type": "display_data"
    },
    {
     "data": {
      "application/vnd.jupyter.widget-view+json": {
       "model_id": "f479cf1baa3c42a2b2194913160a9b41",
       "version_major": 2,
       "version_minor": 0
      },
      "text/plain": [
       "Query 5:   0%|          | 0/6 [00:00<?, ?it/s]"
      ]
     },
     "metadata": {},
     "output_type": "display_data"
    },
    {
     "data": {
      "application/vnd.jupyter.widget-view+json": {
       "model_id": "bb033111e5754bdf980e8eb315b292c6",
       "version_major": 2,
       "version_minor": 0
      },
      "text/plain": [
       "Query 6:   0%|          | 0/6 [00:00<?, ?it/s]"
      ]
     },
     "metadata": {},
     "output_type": "display_data"
    },
    {
     "data": {
      "application/vnd.jupyter.widget-view+json": {
       "model_id": "2d0b699d4c5e45ae9fc2875f45d136c0",
       "version_major": 2,
       "version_minor": 0
      },
      "text/plain": [
       "Query 7:   0%|          | 0/6 [00:00<?, ?it/s]"
      ]
     },
     "metadata": {},
     "output_type": "display_data"
    },
    {
     "data": {
      "application/vnd.jupyter.widget-view+json": {
       "model_id": "ff2cc0685bc84c269411373eb75b7333",
       "version_major": 2,
       "version_minor": 0
      },
      "text/plain": [
       "Query 8:   0%|          | 0/6 [00:00<?, ?it/s]"
      ]
     },
     "metadata": {},
     "output_type": "display_data"
    },
    {
     "data": {
      "application/vnd.jupyter.widget-view+json": {
       "model_id": "6c35fb6d94004283bd67973c0ce36f72",
       "version_major": 2,
       "version_minor": 0
      },
      "text/plain": [
       "Query 9:   0%|          | 0/6 [00:00<?, ?it/s]"
      ]
     },
     "metadata": {},
     "output_type": "display_data"
    },
    {
     "data": {
      "application/vnd.jupyter.widget-view+json": {
       "model_id": "947ff557b82a4620a06de5635870cb98",
       "version_major": 2,
       "version_minor": 0
      },
      "text/plain": [
       "Query 10:   0%|          | 0/6 [00:00<?, ?it/s]"
      ]
     },
     "metadata": {},
     "output_type": "display_data"
    },
    {
     "data": {
      "application/vnd.jupyter.widget-view+json": {
       "model_id": "f863c82e323b445d9d97768187a6690a",
       "version_major": 2,
       "version_minor": 0
      },
      "text/plain": [
       "Query 11:   0%|          | 0/6 [00:00<?, ?it/s]"
      ]
     },
     "metadata": {},
     "output_type": "display_data"
    },
    {
     "data": {
      "application/vnd.jupyter.widget-view+json": {
       "model_id": "2ecd4c6caec2416ba84563de021579dc",
       "version_major": 2,
       "version_minor": 0
      },
      "text/plain": [
       "Query 12:   0%|          | 0/6 [00:00<?, ?it/s]"
      ]
     },
     "metadata": {},
     "output_type": "display_data"
    },
    {
     "data": {
      "application/vnd.jupyter.widget-view+json": {
       "model_id": "a3e4fbe4284d4fa6a7a5e13cf42cd972",
       "version_major": 2,
       "version_minor": 0
      },
      "text/plain": [
       "Query 13:   0%|          | 0/6 [00:00<?, ?it/s]"
      ]
     },
     "metadata": {},
     "output_type": "display_data"
    },
    {
     "data": {
      "application/vnd.jupyter.widget-view+json": {
       "model_id": "1628fab7f0574db78f4fa4ca04b095d0",
       "version_major": 2,
       "version_minor": 0
      },
      "text/plain": [
       "Query 14:   0%|          | 0/6 [00:00<?, ?it/s]"
      ]
     },
     "metadata": {},
     "output_type": "display_data"
    },
    {
     "data": {
      "application/vnd.jupyter.widget-view+json": {
       "model_id": "2cb04c2c5cbf4727b66a8ca86e81b8c9",
       "version_major": 2,
       "version_minor": 0
      },
      "text/plain": [
       "Query 15:   0%|          | 0/6 [00:00<?, ?it/s]"
      ]
     },
     "metadata": {},
     "output_type": "display_data"
    },
    {
     "data": {
      "application/vnd.jupyter.widget-view+json": {
       "model_id": "80595e1cd1074873b50ed344b8659e8d",
       "version_major": 2,
       "version_minor": 0
      },
      "text/plain": [
       "Query 16:   0%|          | 0/6 [00:00<?, ?it/s]"
      ]
     },
     "metadata": {},
     "output_type": "display_data"
    },
    {
     "data": {
      "application/vnd.jupyter.widget-view+json": {
       "model_id": "d6e1217ae733486b8fdf592afc4bd5e1",
       "version_major": 2,
       "version_minor": 0
      },
      "text/plain": [
       "Query 17:   0%|          | 0/6 [00:00<?, ?it/s]"
      ]
     },
     "metadata": {},
     "output_type": "display_data"
    },
    {
     "data": {
      "application/vnd.jupyter.widget-view+json": {
       "model_id": "77190a4eb17748aca46ade3cdffc00f2",
       "version_major": 2,
       "version_minor": 0
      },
      "text/plain": [
       "Query 18:   0%|          | 0/6 [00:00<?, ?it/s]"
      ]
     },
     "metadata": {},
     "output_type": "display_data"
    },
    {
     "data": {
      "application/vnd.jupyter.widget-view+json": {
       "model_id": "9afb068060af42ca8b4beabb4698b15a",
       "version_major": 2,
       "version_minor": 0
      },
      "text/plain": [
       "Query 19:   0%|          | 0/6 [00:00<?, ?it/s]"
      ]
     },
     "metadata": {},
     "output_type": "display_data"
    },
    {
     "data": {
      "application/vnd.jupyter.widget-view+json": {
       "model_id": "5995e88b31f640909464d76b1969039d",
       "version_major": 2,
       "version_minor": 0
      },
      "text/plain": [
       "Query 20:   0%|          | 0/6 [00:00<?, ?it/s]"
      ]
     },
     "metadata": {},
     "output_type": "display_data"
    },
    {
     "data": {
      "application/vnd.jupyter.widget-view+json": {
       "model_id": "457772f33a844a63adac20272351b903",
       "version_major": 2,
       "version_minor": 0
      },
      "text/plain": [
       "Query 21:   0%|          | 0/6 [00:00<?, ?it/s]"
      ]
     },
     "metadata": {},
     "output_type": "display_data"
    },
    {
     "data": {
      "application/vnd.jupyter.widget-view+json": {
       "model_id": "e0520a074ca843c3901727dcd4f11d6c",
       "version_major": 2,
       "version_minor": 0
      },
      "text/plain": [
       "Query 22:   0%|          | 0/6 [00:00<?, ?it/s]"
      ]
     },
     "metadata": {},
     "output_type": "display_data"
    },
    {
     "data": {
      "application/vnd.jupyter.widget-view+json": {
       "model_id": "cabc0d5185ae4bcdbbacf91925fd136a",
       "version_major": 2,
       "version_minor": 0
      },
      "text/plain": [
       "Query 23:   0%|          | 0/6 [00:00<?, ?it/s]"
      ]
     },
     "metadata": {},
     "output_type": "display_data"
    },
    {
     "data": {
      "application/vnd.jupyter.widget-view+json": {
       "model_id": "d5506e37528544f3895e99cc37664694",
       "version_major": 2,
       "version_minor": 0
      },
      "text/plain": [
       "Query 24:   0%|          | 0/6 [00:00<?, ?it/s]"
      ]
     },
     "metadata": {},
     "output_type": "display_data"
    },
    {
     "data": {
      "application/vnd.jupyter.widget-view+json": {
       "model_id": "86c015d971e54536ba05f981568353fb",
       "version_major": 2,
       "version_minor": 0
      },
      "text/plain": [
       "Query 25:   0%|          | 0/6 [00:00<?, ?it/s]"
      ]
     },
     "metadata": {},
     "output_type": "display_data"
    },
    {
     "data": {
      "application/vnd.jupyter.widget-view+json": {
       "model_id": "4acf15d383554debb4855a4b5618a37c",
       "version_major": 2,
       "version_minor": 0
      },
      "text/plain": [
       "Query 26:   0%|          | 0/6 [00:00<?, ?it/s]"
      ]
     },
     "metadata": {},
     "output_type": "display_data"
    },
    {
     "data": {
      "application/vnd.jupyter.widget-view+json": {
       "model_id": "806b87ed6dca49ac8e1ec28332bfecd0",
       "version_major": 2,
       "version_minor": 0
      },
      "text/plain": [
       "Query 27:   0%|          | 0/6 [00:00<?, ?it/s]"
      ]
     },
     "metadata": {},
     "output_type": "display_data"
    },
    {
     "data": {
      "application/vnd.jupyter.widget-view+json": {
       "model_id": "ec1ebf0609b047e9bc68782d8bdcc7c8",
       "version_major": 2,
       "version_minor": 0
      },
      "text/plain": [
       "Query 28:   0%|          | 0/6 [00:00<?, ?it/s]"
      ]
     },
     "metadata": {},
     "output_type": "display_data"
    },
    {
     "data": {
      "application/vnd.jupyter.widget-view+json": {
       "model_id": "c81ce2149ab74fbb87a3fb2eab613020",
       "version_major": 2,
       "version_minor": 0
      },
      "text/plain": [
       "Query 29:   0%|          | 0/6 [00:00<?, ?it/s]"
      ]
     },
     "metadata": {},
     "output_type": "display_data"
    },
    {
     "data": {
      "application/vnd.jupyter.widget-view+json": {
       "model_id": "deaeb0456f51424aaf58f8c57eaf7c8d",
       "version_major": 2,
       "version_minor": 0
      },
      "text/plain": [
       "Query 30:   0%|          | 0/6 [00:00<?, ?it/s]"
      ]
     },
     "metadata": {},
     "output_type": "display_data"
    },
    {
     "data": {
      "application/vnd.jupyter.widget-view+json": {
       "model_id": "4fcf5b7c6cc240d9b0d1d2cb0221ce9a",
       "version_major": 2,
       "version_minor": 0
      },
      "text/plain": [
       "Query 31:   0%|          | 0/6 [00:00<?, ?it/s]"
      ]
     },
     "metadata": {},
     "output_type": "display_data"
    },
    {
     "data": {
      "application/vnd.jupyter.widget-view+json": {
       "model_id": "1983e92842834c06a3b194df32271237",
       "version_major": 2,
       "version_minor": 0
      },
      "text/plain": [
       "Query 32:   0%|          | 0/6 [00:00<?, ?it/s]"
      ]
     },
     "metadata": {},
     "output_type": "display_data"
    },
    {
     "data": {
      "application/vnd.jupyter.widget-view+json": {
       "model_id": "c7113a0b50ce4f0a985df4113c6a156c",
       "version_major": 2,
       "version_minor": 0
      },
      "text/plain": [
       "Query 33:   0%|          | 0/6 [00:00<?, ?it/s]"
      ]
     },
     "metadata": {},
     "output_type": "display_data"
    },
    {
     "data": {
      "application/vnd.jupyter.widget-view+json": {
       "model_id": "8b2f9e8228c94e55ba8d52b6db89f61d",
       "version_major": 2,
       "version_minor": 0
      },
      "text/plain": [
       "Query 34:   0%|          | 0/6 [00:00<?, ?it/s]"
      ]
     },
     "metadata": {},
     "output_type": "display_data"
    },
    {
     "data": {
      "application/vnd.jupyter.widget-view+json": {
       "model_id": "f03135253b4441c1adec5a1b49d87215",
       "version_major": 2,
       "version_minor": 0
      },
      "text/plain": [
       "Query 35:   0%|          | 0/6 [00:00<?, ?it/s]"
      ]
     },
     "metadata": {},
     "output_type": "display_data"
    },
    {
     "name": "stdout",
     "output_type": "stream",
     "text": [
      "Cannot return the results in a contigious 2D array. Probably ef or M is too small Error for query: Are there any new open-access datasets focused on COVID-19 research?\n"
     ]
    },
    {
     "data": {
      "application/vnd.jupyter.widget-view+json": {
       "model_id": "bd239e97803741b38f56e1d618a46e7b",
       "version_major": 2,
       "version_minor": 0
      },
      "text/plain": [
       "Query 36:   0%|          | 0/6 [00:00<?, ?it/s]"
      ]
     },
     "metadata": {},
     "output_type": "display_data"
    },
    {
     "data": {
      "application/vnd.jupyter.widget-view+json": {
       "model_id": "8e3fd51252344ce6a41c292990e3c6b7",
       "version_major": 2,
       "version_minor": 0
      },
      "text/plain": [
       "Query 37:   0%|          | 0/6 [00:00<?, ?it/s]"
      ]
     },
     "metadata": {},
     "output_type": "display_data"
    },
    {
     "data": {
      "application/vnd.jupyter.widget-view+json": {
       "model_id": "e0502347c37b48509e395ab68e0e6b4d",
       "version_major": 2,
       "version_minor": 0
      },
      "text/plain": [
       "Query 38:   0%|          | 0/6 [00:00<?, ?it/s]"
      ]
     },
     "metadata": {},
     "output_type": "display_data"
    },
    {
     "data": {
      "application/vnd.jupyter.widget-view+json": {
       "model_id": "8128ec6c2ddc4843a619b69dfd697f5c",
       "version_major": 2,
       "version_minor": 0
      },
      "text/plain": [
       "Query 39:   0%|          | 0/6 [00:00<?, ?it/s]"
      ]
     },
     "metadata": {},
     "output_type": "display_data"
    },
    {
     "data": {
      "application/vnd.jupyter.widget-view+json": {
       "model_id": "4e08a61a04ef47f886cb96b64f9285e9",
       "version_major": 2,
       "version_minor": 0
      },
      "text/plain": [
       "Query 40:   0%|          | 0/6 [00:00<?, ?it/s]"
      ]
     },
     "metadata": {},
     "output_type": "display_data"
    },
    {
     "data": {
      "application/vnd.jupyter.widget-view+json": {
       "model_id": "fd6731d7b5ab4894bbcca4c44bc3646f",
       "version_major": 2,
       "version_minor": 0
      },
      "text/plain": [
       "Query 41:   0%|          | 0/6 [00:00<?, ?it/s]"
      ]
     },
     "metadata": {},
     "output_type": "display_data"
    },
    {
     "data": {
      "application/vnd.jupyter.widget-view+json": {
       "model_id": "b45154dd994d4ed7a94ed884e7f0e0fd",
       "version_major": 2,
       "version_minor": 0
      },
      "text/plain": [
       "Query 42:   0%|          | 0/6 [00:00<?, ?it/s]"
      ]
     },
     "metadata": {},
     "output_type": "display_data"
    },
    {
     "data": {
      "application/vnd.jupyter.widget-view+json": {
       "model_id": "7c9fcbd14d8d4362a62720fda84db7f2",
       "version_major": 2,
       "version_minor": 0
      },
      "text/plain": [
       "Query 43:   0%|          | 0/6 [00:00<?, ?it/s]"
      ]
     },
     "metadata": {},
     "output_type": "display_data"
    },
    {
     "data": {
      "application/vnd.jupyter.widget-view+json": {
       "model_id": "de09096b7ec94eb5b45a25dea783930e",
       "version_major": 2,
       "version_minor": 0
      },
      "text/plain": [
       "Query 44:   0%|          | 0/6 [00:00<?, ?it/s]"
      ]
     },
     "metadata": {},
     "output_type": "display_data"
    },
    {
     "data": {
      "application/vnd.jupyter.widget-view+json": {
       "model_id": "9521604a9c3f462196d681df554d2542",
       "version_major": 2,
       "version_minor": 0
      },
      "text/plain": [
       "Query 45:   0%|          | 0/6 [00:00<?, ?it/s]"
      ]
     },
     "metadata": {},
     "output_type": "display_data"
    },
    {
     "data": {
      "application/vnd.jupyter.widget-view+json": {
       "model_id": "f88448e3d6884beab572d6ca255c6939",
       "version_major": 2,
       "version_minor": 0
      },
      "text/plain": [
       "Query 46:   0%|          | 0/6 [00:00<?, ?it/s]"
      ]
     },
     "metadata": {},
     "output_type": "display_data"
    },
    {
     "data": {
      "application/vnd.jupyter.widget-view+json": {
       "model_id": "07189990487b407996a10337d2357305",
       "version_major": 2,
       "version_minor": 0
      },
      "text/plain": [
       "Query 47:   0%|          | 0/6 [00:00<?, ?it/s]"
      ]
     },
     "metadata": {},
     "output_type": "display_data"
    },
    {
     "data": {
      "application/vnd.jupyter.widget-view+json": {
       "model_id": "6142d576cf604576ae63336889b72099",
       "version_major": 2,
       "version_minor": 0
      },
      "text/plain": [
       "Query 48:   0%|          | 0/6 [00:00<?, ?it/s]"
      ]
     },
     "metadata": {},
     "output_type": "display_data"
    },
    {
     "data": {
      "application/vnd.jupyter.widget-view+json": {
       "model_id": "1d361c4e6ddd4a91a1ab90e4d02ae4bb",
       "version_major": 2,
       "version_minor": 0
      },
      "text/plain": [
       "Query 49:   0%|          | 0/6 [00:00<?, ?it/s]"
      ]
     },
     "metadata": {},
     "output_type": "display_data"
    },
    {
     "data": {
      "application/vnd.jupyter.widget-view+json": {
       "model_id": "8b63ed3bce0b4b61959c3509a01dbf72",
       "version_major": 2,
       "version_minor": 0
      },
      "text/plain": [
       "Query 50:   0%|          | 0/6 [00:00<?, ?it/s]"
      ]
     },
     "metadata": {},
     "output_type": "display_data"
    }
   ],
   "source": [
    "outer_progress = tqdm(query_variations.keys(), desc=\"Processing Queries\", position=0, leave=True)\n",
    "\n",
    "for query_id in outer_progress:\n",
    "    \n",
    "    query_variation_keys = query_variations.get(query_id, {}).keys()\n",
    "    \n",
    "    # Inner progress bar (for variations of the current query)\n",
    "    inner_progress = tqdm(query_variation_keys, desc=f\"Query {query_id}\", position=1, leave=False)\n",
    "\n",
    "    for query_variation_key in inner_progress:\n",
    "        query_text = query_variations[query_id][query_variation_key]\n",
    "\n",
    "        #check if query variation key is in rankings\n",
    "        if query_id in rankings[f\"bm25_{query_variation_key}_passage\"].keys():\n",
    "            continue\n",
    "        \n",
    "        # Cosine search\n",
    "        try:    \n",
    "            results_table_cosine = vectorstore.similarity_search(query_text, k=100, filter={\"chunk_type\": \"RCTS_8192_1000\"})\n",
    "        except Exception as e:\n",
    "            print(e, f\"Error for query: {query_text}\")\n",
    "            results_table_cosine = []\n",
    "        \n",
    "        results_passage_cosine = vectorstore.similarity_search(query_text, k=100, filter={\"chunk_type\": \"RCTS_512_100\"})\n",
    "\n",
    "        # Bm25 search\n",
    "        results_table_bm25 = retriever_bm25_table.invoke(query_text, k=100)\n",
    "        results_passage_bm25 = retriever_bm25_passage.invoke(query_text, k=100)\n",
    "\n",
    "        # Ensure rankings structure exists\n",
    "\n",
    "        rankings[f\"cosine_{query_variation_key}_table\"][query_id] = results_table_cosine\n",
    "        rankings[f\"cosine_{query_variation_key}_passage\"][query_id] = results_passage_cosine\n",
    "\n",
    "        rankings[f\"bm25_{query_variation_key}_table\"][query_id] = results_table_bm25\n",
    "        rankings[f\"bm25_{query_variation_key}_passage\"][query_id] = results_passage_bm25\n",
    "\n",
    "    inner_progress.close()  # Explicitly close the inner progress bar to force updates\n"
   ]
  },
  {
   "cell_type": "code",
   "execution_count": 21,
   "metadata": {},
   "outputs": [],
   "source": [
    "pickle.dump(rankings, open(\"/workspace/src/data/rankings_new2.pkl\", \"wb\"))"
   ]
  },
  {
   "cell_type": "code",
   "execution_count": null,
   "metadata": {},
   "outputs": [],
   "source": [
    "query_variation_key"
   ]
  },
  {
   "cell_type": "code",
   "execution_count": 9,
   "metadata": {},
   "outputs": [],
   "source": [
    "search_query = query_variations['35']['variant2']"
   ]
  },
  {
   "cell_type": "code",
   "execution_count": 10,
   "metadata": {},
   "outputs": [
    {
     "data": {
      "text/plain": [
       "'Are there any new open-access datasets focused on COVID-19 research?'"
      ]
     },
     "execution_count": 10,
     "metadata": {},
     "output_type": "execute_result"
    }
   ],
   "source": [
    "search_query"
   ]
  },
  {
   "cell_type": "code",
   "execution_count": 19,
   "metadata": {},
   "outputs": [
    {
     "name": "stdout",
     "output_type": "stream",
     "text": [
      "Cannot return the results in a contigious 2D array. Probably ef or M is too small Error for query: Are there any new open-access datasets focused on COVID-19 research?\n"
     ]
    }
   ],
   "source": [
    "try:    \n",
    "    results_table_cosine = vectorstore.similarity_search(search_query, k=100, filter={\"chunk_type\": \"RCTS_8192_1000\"})\n",
    "except Exception as e:\n",
    "    print(e, f\"Error for query: {search_query}\")\n",
    "    results_table_cosine = []"
   ]
  },
  {
   "cell_type": "code",
   "execution_count": 17,
   "metadata": {},
   "outputs": [
    {
     "data": {
      "text/plain": [
       "[Document(metadata={'chunk_type': 'RCTS_8192_1000', 'doi': '10.1111/eci.13323#2', 'id': 8411576}, page_content=\"Table Name: TABLE 2 \\nHeader: ['0', '1'] \\nContent: [['Open data (shared datasets)', 'Fulfilled by 0.7% of the research items  (n = 1 out of 140)$^{a}$'], ['Patient data', 'Included in 22.9% of the research items  (n = 32 out of 140), with the remaining  being mainly opinion papers$^{c}$'], ['Expedited peer review policy', 'Fulfilled by all five b journals'], ['Elimination of embargo policy (open access  for COVID-19-related manuscripts)', 'Fulfilled by all five b journals (open access  to all items)'], ['Fit-for-purpose platforms to present COVID- 19 research', 'Fulfilled by all five b journals']] \\nCaption: TABLE 2 Degree of adherence to the WHO call for open data in PHEIC in five milestone Medical journals b \\nReferences: []\"),\n",
       " Document(metadata={'chunk_type': 'RCTS_8192_1000', 'doi': '10.7759/cureus.7422#0', 'id': 8342006}, page_content=\"Table Name: TABLE 1 \\nHeader: ['Items.Journal', 'COVID-19.Lancet', 'COVID-19.Lancet', 'COVID-19.JAMA', 'SARS.Lancet'] \\nContent: [['Cases', '41', '99', '138', '1425'], ['Published data', '24-01-2020', '2020/1/29', '07-02-2020', '24-03-2003'], ['Fever (%)', '98', '83', '98.6', '94'], ['Cough (%)', '76', '82', '82', '50.4'], ['Shortness of breath (%)', '55', '31', '31.2', '30.6'], ['Sputum production (%)', '28', 'NA', '26.8', '27.8'], ['Diarrhea (%)', '3', '2', '10.1', '27'], ['Death (%)', '15', '11', '4.3', '<60 years old: 13.2%'], ['Death (%)', '', '', '', '>60 years old: 43.3%']] \\nCaption: TABLE 1: COVID-19: Coronavirus Disease 2019 \\nReferences: []\")]"
      ]
     },
     "execution_count": 17,
     "metadata": {},
     "output_type": "execute_result"
    }
   ],
   "source": [
    "results_table_cosine"
   ]
  },
  {
   "cell_type": "code",
   "execution_count": null,
   "metadata": {},
   "outputs": [],
   "source": []
  }
 ],
 "metadata": {
  "kernelspec": {
   "display_name": "Python 3",
   "language": "python",
   "name": "python3"
  },
  "language_info": {
   "codemirror_mode": {
    "name": "ipython",
    "version": 3
   },
   "file_extension": ".py",
   "mimetype": "text/x-python",
   "name": "python",
   "nbconvert_exporter": "python",
   "pygments_lexer": "ipython3",
   "version": "3.10.12"
  }
 },
 "nbformat": 4,
 "nbformat_minor": 2
}
