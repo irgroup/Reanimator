{
 "cells": [
  {
   "cell_type": "code",
   "execution_count": 36,
   "metadata": {},
   "outputs": [],
   "source": [
    "import glob\n",
    "import json\n",
    "from pathlib import Path\n",
    "import pymupdf\n",
    "from papermage.magelib import Document\n",
    "from docling_core.types.doc import DoclingDocument\n",
    "\n",
    "from workspace.helpers import positions_from_box, get_cleaned_captions, get_caption_for_box, image_from_box"
   ]
  },
  {
   "cell_type": "code",
   "execution_count": 2,
   "metadata": {},
   "outputs": [],
   "source": [
    "import logging\n",
    "\n",
    "# Set the logging level to a value higher than CRITICAL to suppress all logs\n",
    "logging.disable(logging.FATAL + 1)"
   ]
  },
  {
   "cell_type": "code",
   "execution_count": 49,
   "metadata": {},
   "outputs": [
    {
     "data": {
      "text/plain": [
       "100"
      ]
     },
     "execution_count": 49,
     "metadata": {},
     "output_type": "execute_result"
    }
   ],
   "source": [
    "input_pdf_paths = glob.glob(\"/workspace/data/test_eval/pdfs_100/*.pdf\")\n",
    "len(input_pdf_paths)\n"
   ]
  },
  {
   "cell_type": "code",
   "execution_count": 50,
   "metadata": {},
   "outputs": [
    {
     "data": {
      "text/plain": [
       "97"
      ]
     },
     "execution_count": 50,
     "metadata": {},
     "output_type": "execute_result"
    }
   ],
   "source": [
    "papermage_paths = glob.glob(\"/workspace/data/test_eval/pm/*.json\")\n",
    "len(papermage_paths)"
   ]
  },
  {
   "cell_type": "code",
   "execution_count": 51,
   "metadata": {},
   "outputs": [
    {
     "data": {
      "text/plain": [
       "77"
      ]
     },
     "execution_count": 51,
     "metadata": {},
     "output_type": "execute_result"
    }
   ],
   "source": [
    "docling_fast_paths = glob.glob(\"/workspace/data/test_eval/docling/fast/*.json\")\n",
    "len(docling_fast_paths)"
   ]
  },
  {
   "cell_type": "code",
   "execution_count": 52,
   "metadata": {},
   "outputs": [
    {
     "data": {
      "text/plain": [
       "79"
      ]
     },
     "execution_count": 52,
     "metadata": {},
     "output_type": "execute_result"
    }
   ],
   "source": [
    "docling_accurate_paths = glob.glob(\"/workspace/data/test_eval/docling/accurate/*.json\")\n",
    "len(docling_accurate_paths)"
   ]
  },
  {
   "cell_type": "code",
   "execution_count": 7,
   "metadata": {},
   "outputs": [],
   "source": [
    "dois_100 = [path.split(\"/\")[-1].replace(\".pdf\", \"\") for path in input_pdf_paths]"
   ]
  },
  {
   "cell_type": "code",
   "execution_count": 8,
   "metadata": {},
   "outputs": [],
   "source": [
    "def check_doi_in_paths(doi, paths):\n",
    "    for path in paths:\n",
    "        if doi in path:\n",
    "            return path\n",
    "    return False\n"
   ]
  },
  {
   "cell_type": "code",
   "execution_count": 58,
   "metadata": {},
   "outputs": [
    {
     "name": "stdout",
     "output_type": "stream",
     "text": [
      "--------------------------------\n",
      "10.1002$jmv.20254\n",
      "--------------------------------\n",
      "papermage\n",
      "TABLE I. Results of Anti-SARS-CoV IgG Antibody Detected by ELISARS TM Kit Study\n",
      "\n",
      "docling fast\n",
      "\n",
      "docling accurate\n"
     ]
    }
   ],
   "source": [
    "for doi in dois_100:\n",
    "\n",
    "    if not doi == \"10.1002$jmv.20254\":\n",
    "        continue\n",
    "    print(\"--------------------------------\")\n",
    "    print(doi)\n",
    "    print(\"--------------------------------\")\n",
    "    print(\"papermage\")\n",
    "    pm_path = check_doi_in_paths(doi, papermage_paths)\n",
    "    if pm_path:\n",
    "        with open(pm_path, \"r\") as f:\n",
    "            pm_doc = Document.from_json(json.load(f))\n",
    "            cleaned_captions = get_cleaned_captions(pm_doc)\n",
    "            for t_id, table in enumerate(pm_doc.tables):\n",
    "                t_caption = get_caption_for_box(box=table.boxes[0], captions=pm_doc.captions, caption_ids=cleaned_captions[\"tables\"])\n",
    "                \n",
    "                pdf_path = path = [path for path in input_pdf_paths if doi in path][0]\n",
    "                file_name = Path(f\"{doi}_{table.boxes[0].page}_{t_id}\")\n",
    "                im_path = f\"/workspace/data/test_eval/pm_images/{file_name}.png\"\n",
    "                image_from_box(box=table.boxes[0], pdf_path=pdf_path, im_path=im_path, scale=pymupdf.Matrix(2, 2))\n",
    "                print(t_caption)\n",
    "    print()\n",
    "    print(\"docling fast\")\n",
    "    dl_fast_path = check_doi_in_paths(doi, docling_fast_paths)\n",
    "    if dl_fast_path:\n",
    "        with open(dl_fast_path, \"r\") as f:\n",
    "            doc_dict = json.loads(f.read())\n",
    "            doc = DoclingDocument.model_validate(doc_dict)\n",
    "\n",
    "            for t_id, table in enumerate(doc.tables):\n",
    "                caption = table.caption_text(doc)\n",
    "                print(caption)\n",
    "                print(table.export_to_dataframe().to_markdown())\n",
    "\n",
    "    print()\n",
    "    print(\"docling accurate\")\n",
    "    dl_acc_path = check_doi_in_paths(doi, docling_accurate_paths)\n",
    "    if dl_acc_path:\n",
    "        with open(dl_acc_path, \"r\") as f:\n",
    "            doc_dict = json.loads(f.read())\n",
    "            doc = DoclingDocument.model_validate(doc_dict)\n",
    "\n",
    "            for t_id, table in enumerate(doc.tables):\n",
    "                caption = table.caption_text(doc)\n",
    "                print(caption)\n",
    "                print(table.export_to_dataframe().to_markdown())"
   ]
  },
  {
   "cell_type": "code",
   "execution_count": 59,
   "metadata": {},
   "outputs": [
    {
     "name": "stderr",
     "output_type": "stream",
     "text": [
      "/usr/local/lib/python3.10/dist-packages/tqdm/auto.py:21: TqdmWarning: IProgress not found. Please update jupyter and ipywidgets. See https://ipywidgets.readthedocs.io/en/stable/user_install.html\n",
      "  from .autonotebook import tqdm as notebook_tqdm\n",
      "Fetching 9 files: 100%|██████████| 9/9 [00:00<00:00, 30102.66it/s]\n"
     ]
    },
    {
     "name": "stdout",
     "output_type": "stream",
     "text": [
      "## Evaluation of a Recombinant Nucleocapsid Protein-Based Assay for Anti-SARS-CoV IgG Detection\n",
      "\n",
      "Paul K.S. Chan,$^{1,2}$* Esther Y.M. Liu,$^{2}$Danny T.M. Leung,$^{3}$Jo L.K. Cheung,$^{2}$C.H. Ma, 3 Frankie C.H. Tam,$^{3}$Mamie Hui,$^{1,2}$John S. Tam,$^{1,2}$and Pak Leong Lim 3\n",
      "\n",
      "$^{1}$Centre for Emerging Infectious Diseases, The Chinese University of Hong Kong, Prince of Wales Hospital, Shatin, New Territories, Hong Kong SAR, China\n",
      "\n",
      "$^{2}$Department of Microbiology, The Chinese University of Hong Kong, Prince of Wales Hospital, Shatin,\n",
      "\n",
      "New Territories, Hong Kong SAR, China\n",
      "\n",
      "$^{3}$Clinical Immunology Unit, The Chinese University of Hong Kong, Prince of Wales Hospital, Shatin,\n",
      "\n",
      "New Territories, Hong Kong SAR, China\n",
      "\n",
      "A high throughput accurate assay for anti-SARSCoV IgG detection is needed for large-scale epidemiological studies. The evaluation of a commercial recombinant nucleocapsid proteinbased microtitre plate enzyme immunoassay, ELISARS TM is described. The results on 150 sera from SARS patients and 450 sera from non-SARS controls showed that this assay had a high level of sensitivity (96.2% for late serum samples) and specificity (97.8%). The performance and setup of this assay fulfills the requirement as a screening test for large-scale studies. A vast majority of SARS patients developed antibodies against the nucleocapsid protein. In some patients (10/45), a high level of anti-nucleocapsid antibody appeared very early in the course of the illness. In contrast, a minority (4 of 105 patients) never developed these antibodies. The implication of differences in antibody response to the nucleocapsid protein deserves further investigation. J. Med. Virol. 75:181-184, 2005.\n",
      "\n",
      "ß 2004 Wiley-Liss, Inc.\n",
      "\n",
      "KEYWORDS:\n",
      "\n",
      "coronavirus; diagnosis; enzyme immunoassay; SARS; serology\n",
      "\n",
      "## INTRODUCTION\n",
      "\n",
      "In March 2003, a global alert was raised by a newly recognized infectious disease, Severe Acute Respiratory Syndrome (SARS), which was later identified to be caused by the SARS-associated coronavirus (SARSCoV) not observed previously in humans [Drosten et al., 2003; Fouchier et al., 2003; Ksiazek et al., 2003; Kuiken et al., 2003; Peiris et al., 2003a]. This novel coronavirus has clinical and epidemiological characteristics distinct from the known human coronaviruses,\n",
      "\n",
      "HCoV-229E and HCoV-OC43 [Lee et al., 2003; Peiris et al., 2003b; Rainer, 2004]. Although research on SARSCoV has been progressing very rapidly, a substantial body of knowledge is still missing. To this end, high throughput assays for large-scale sero-epidemiological studies are needed. Recent studies have shown that the nucleocapsid protein reacted to a large proportion of sera collected from SARS patients, and with a sensitivity of upto 100% has been reported for enzyme immunoassays based on the nucleocapsid protein [Wang et al., 2003; Timani et al., 2004]. However, the specificity of nucleocapsid protein-based assays is still unknown. Here, we report on the evaluation of a commercially available assay, ELISARS$^{TM}$(IgGENE, Hong Kong) for the detection of anti-SARS CoV-immunoglobulin (Ig) G from human serum samples.\n",
      "\n",
      "## MATERIALS AND METHODS Anti-SARS-CoV IgG\n",
      "\n",
      "The enzyme immunoassay (EIA), ELISARS TM (IgGENE) is based on Escherichia coli BL21 expressed, bacterial glutathione S-transferase (GST)-fused recombinant nucleocapsid proteins of SARS-CoV. This recombinant protein was selected based on the observation of a previous study [Leung et al., 2004]. All assay procedures\n",
      "\n",
      "Accepted 15 October 2004 DOI 10.1002/jmv.20254 Published online in Wiley InterScience (www.interscience.wiley.com)\n",
      "\n",
      "were performed as instructed by the manufacturer's protocol. Briefly, serum samples were added to the antigen-coated wells of the microtitre plate, after an incubation step, the wells were washed, followed by the addition of anti-human IgG antibodies conjugated with horseradish peroxidase. After a second wash, 3,3 $^{0}$, 5,5$^{0}$tetramethylbenzidine (TMB) was added as a substrate for color development. The optical density (OD) was measured at 450 nm. Results were interpreted according to the manufacturer's criteria. Specimens with an OD reading = 0.5 were considered negative, whereas specimens with an OD reading > 0.5 were considered positive. The cut-off value of 0.5 was according to the manufacturer's recommendation.\n",
      "\n",
      "Serum samples were also tested by an ''in-house'' indirect immunofluorescence assay (IFA) as described previously [Chan et al., 2004a]. This assay is based on acetone-fixed Vero cells infected with SARS-CoV, strain CUHK-W1 (GenBank accession no. AY278554). This method was used as a reference for this study as it has been shown to be highly sensitive and specific [Chan et al., 2004a].\n",
      "\n",
      "## SARS Cases\n",
      "\n",
      "A total of 112 SARS patients aged 4-36 (mean: 19.3; SD: 7.5) years, with 66 females and 46 males were recruited in this study. All these patients fulfilled the modified criteria defined by the World Health Organization for a probable case of SARS [World Health Organization, 2003]. All these patients had either seroconversion or fourfold rise in antiSARS-CoV IgG antibody levels as detected by our in-house IFA. Three of these patients died, 12 required intensive care but eventually recovered, all the others developed a milder degree of pneumonia that did not required intubation or intensive care. A total of 105 serum samples were collected between day 21-36 (median: 24; interquartile range: 21-26) after the onset of fever. For the purpose of study analysis, these samples were referred as late samples. Another 45 samples were collected between day 4-15 (median: 10; interquartile range: 7-12) after the onset of fever. These samples were referred as early samples.\n",
      "\n",
      "## Non-SARS Controls\n",
      "\n",
      "A total of 450 control serum samples were included in this study, of which 200 were from medical students\n",
      "\n",
      "aged 19-31 (mean: 22.51; SD: 2.19) years, comprising of 110 females and 90 males. These samples had been collected in 2000 for a pre-varicella vaccination examination. Two hundred and fifty serum samples that had been collected from patients admitted to the Prince of Wales Hospital in 2000 for fever or pneumonia served as the non-SARS pneumonia controls. These comprised of 150 serum samples from adults aged 17-65 (mean: 42.81; SD: 2.75) years of which 69 were females and 81 were males; 50 from elderly aged 65-104 (mean: 77.69; SD: 10.77) years of which 20 were females and 30 were males; and 50 from pediatrics aged 1-16 (mean: 6.28;SD:4.5)years ofwhich 22werefemales and28 were males.\n",
      "\n",
      "## RESULTS\n",
      "\n",
      "## SARS Patients\n",
      "\n",
      "Of the 150 serum samples obtained from the SARS group, 111 (74.0%) were tested positive for anti-SARSCoV IgG by the ELISARS$^{TM}$kit (IgGENE) (Table I). All except one of these EIA-positive specimens were also tested positive by IFA. This IFA-negative specimen was collected on day 14 after the onset of fever. A later serum collected from this patient was positive by both EIA and IFA. Of the 39 EIA-negative specimens, 11 (28.2%) were tested positive by IFA. A majority (8/11) of these EIAnegative, IFA-positive samples had high IFA titres detected, ranging from 1:160 to 1:1,280. The correlation between OD readings and IFA titres of the 150 samples collected from SARS patients is shown in Figure 1. Overall, a positive association between EIA OD reading and IFA titre was observed ( P < 0.001 by KruskalWallis test). However, one IFA-negative ( < 1:40) sample had a high EIA OD reading ( > 2.5), and 4.9% (3/61) of samples with high IFA titre ( = 1:640) showed a low level of OD reading ( < 0.5).\n",
      "\n",
      "When correlated with the time of specimen collection, the ELISARS TM kit (IgGENE) showed a sensitivity of 96.2% (101/105) for late specimens ( GLYPH<C21> day 21), and 22.2% (10/45) for early specimens ( ≤ day 15), respectively (Table I). The corresponding sensitivity for IFA was 100% and 35.5%, respectively. The OD readings of SARS and non-SARS samples that were positive for antinucleocapsid protein IgG by EIA are shown in Figure 2. Majority (91.9%, 102/111) of the true-positive samples (those taken from SARS patients) had an OD\n",
      "\n",
      "TABLE I. Results of Anti-SARS-CoV IgG Antibody Detected by ELISARS TM Kit\n",
      "\n",
      "| Study group                        |   No. tested |   Anti-SARS-CoV IgG positive | Sensitivity (%)   | Specificity (%)   |\n",
      "|------------------------------------|--------------|------------------------------|-------------------|-------------------|\n",
      "| Non-SARS controls                  |          450 |                           10 | -                 | 97.8              |\n",
      "| Health adult                       |          200 |                            5 | -                 | 97.5              |\n",
      "| Pneumonia pediatrics               |           50 |                            0 | -                 | 100               |\n",
      "| Pneumonia adult                    |          150 |                            3 | -                 | 98.0              |\n",
      "| Pneumonia elderly                  |           50 |                            2 | -                 | 96.0              |\n",
      "| SARS patients                      |          150 |                          111 | 74.0              | -                 |\n",
      "| Convalescent ( GLYPH<C21> 21 days) |          105 |                          101 | 96.2              | -                 |\n",
      "| Early serum ( ≤ 15 days)           |           45 |                           10 | 22.2              | -                 |\n",
      "\n",
      "Immunofluorescence assay titer\n",
      "\n",
      "<!-- image -->\n",
      "\n",
      "Fig. 1. Correlation between enzyme immunoassay optical density (OD) reading and immunofluorescence assay titre for anti-SARS-CoV IgG antibody. The 150 sera collected from SARS patients are grouped according the antibody titre as detected by immunofluorescence assay (IFA). The horizontal broken line represents the cut-off OD for the nucleocapsid protein-based enzyme immunoassay (EIA) ELISARS$^{TM}$. A positive correlation between EIA OD readings and IFA titres was observed ( P < 0.001 by Kruskal-Wallis test).\n",
      "\n",
      "reading twice above the cut-off ( > 1.0), whereas all the false-positive samples (those taken from non-SARS groups) had low levels of OD reading between cut-off (0.5) and 1.0.\n",
      "\n",
      "## Non-SARS Controls\n",
      "\n",
      "Altogether 10 of the 450 samples from non-SARS control groups were positive for anti-SARS-CoV IgG by the ELISARS TM kit (Table I). All these samples were subsequently tested negative by the IFA, suggesting nonspecificity of the EIA. The OD readings of these 10 EIA false-positive specimens are shown in Figure 2.\n",
      "\n",
      "Fig. 2. OD readings of anti-SARS IgG-positive specimens. The 121 specimens tested positive by the nucleocapsid protein-based enzyme immunoassayaregroupedaccordingtotheSARSstatusandthetimeof collection. All false-positive specimens had OD below 1.0, whereas 102/ 111 true-positive specimens had OD readings above 1.0.\n",
      "\n",
      "<!-- image -->\n",
      "\n",
      "The overall specificity of the ELISARS TM kit (IgGENE) was 97.8% (range: 96.0%-100%), and without significant variation among different groups of controls ( P < 0.01 by Exact test).\n",
      "\n",
      "## DISCUSSION\n",
      "\n",
      "Seroprevalence studies play an important role in revealing the epidemiology of an infectious disease. A highly sensitive and specific assay with a high throughput capacity is required for this purpose. In this study, it was found that the recombinant nucleocapsid proteinbased microtitre plate EIA, ELISARS TM (IgGENE), provided a high degree of sensitivity (96.2% for late serum samples) and specificity (97.8%) for the detection of anti-SARS-CoV IgG antibody from human serum samples. Thus, ELISARS TM (IgGENE) fulfills the criteria to be a screening assay for large-scale studies. The good performance of ELISARS TM is in line with those reported for other nucleocapsid protein-based assays [Shi et al., 2003; Chang et al., 2004; Guan et al., 2004; Huang et al., 2004; Liu et al., 2004; Woo et al., 2004a,b], indicating the nucleocapsid protein is a promising target for the development of serological assays for SARS-CoV infection.\n",
      "\n",
      "It was found that a small fraction (0%-4%) of the nonSARS samples had false-positive results. Whether these were due to cross-reactivity with recent infections with other human coronaviruses such as 229E and OC43 requires further studies. All samples positive by ELISARS TM should be followed by a confirmatory assay.\n",
      "\n",
      "When compared to IFA, ELISARS TM (IgGENE) was less sensitive in early samples as 28.2% of the EIAnegative specimens were tested positive by IFA. However, it is worth noting that one of the IFA-negative specimens showed a high OD reading when tested by ELISARS TM (IgGENE), suggesting that the recombinant nucleocapsid proteins used in the ELISARS TM (IgGENE) were able to detect a fraction of anti-SARSCoV antibodies that were not revealed by the IFA. These antibodies might target epitopes that were not exposed in the acetone-fixed SARS-CoV-infected Vero cells that were used for IFA. Of the 61 samples with high IFA titres ( = 1:640), 3 were tested negative by the ELISARS TM (IgGENE). This observation is in line with the hypothesis that the recombinant nucleocapsid proteinbased assay is detecting a different spectrum of antibodies. Thus, the sensitivity may be increased by using a combination of assays in particular when applied to the early stage of infection. The majority (101/105, 96.2%) of SARS patients developed antibodies against the nucleocapsid protein after 3 weeks of onset of fever, and a small portion (10/45, 22.2%) had these antibodies developed within the first 2 weeks. On the other hand, a small fraction of patients (4/105, 3.8%) never developed these antibodies. Understanding the implication of differences in antibody response to the nucleocapsid protein is important for the development of nucleocapsid proteinor sequences-based vaccines which is in progress [Kim et al., 2004; Zhu et al., 2004].\n",
      "\n",
      "An attempt was made to investigate whether the ELISARS TM (IgGENE) assay can be applied for IgM antibody detection. Only 10.8% of early samples, and 61.5% of late samples were found positive for anti-SARSCoV IgM, indicating that the recombinant nucleocapsid proteins used were suboptimal for anti-SARS-CoV IgM detection.\n",
      "\n",
      "Another clinical application of serological assay is to confirm the infection status of suspected cases. This is important, as the currently available viral RNA and virus isolation system are not perfect in terms of sensitivity [Chan et al., 2004b; Chen et al., 2004]. In this regard, the IFA is still more superior as it provides an overall higher sensitivity and can detect anti-SARSCoV antibody at an earlier stage. However, the preparation of IFA requires handling of a high concentration of infectious viruses where high containment facilities are required. Further studies to develop a reliable IgM assay is urgently needed to improve the diagnostic accuracy for SARS-CoV infection.\n",
      "\n",
      "## REFERENCES\n",
      "\n",
      "Chan PKS, Ng KC, Chan RCW, Lam RKY, Chow VCY, Hui M, Wu A, Lee N, Yap HY, Cheng FW, Sung JJ, Tam JS. 2004a. Immunofluorescence assayforserologic diagnosis ofSARS. EmergInfectDis 10:530-532.\n",
      "\n",
      "Chan PKS, To WK, Ng KC, Lam RK, Ng TK, Chan RC, Wu A, Yu WC, Lee N, Hui DS, Lai ST, Hon EK, Li CK, Sung JJ, Tam JS. 2004b. Laboratorydiagnosis forsevere acute respiratory syndrome.Emerg Infect Dis 10:825-831.\n",
      "\n",
      "Chang MS, Lu YT, Ho ST, Wu CC, Wei TY, Chen CJ, Hsu YT, Chu PC, Chen CH, Chu JM, Jan YL, Hung CC, Fan CC, Yang YC. 2004. Antibody detection of SARS-CoV spike and nucleocapsid protein. Biochem Biophys Res Commun 314:931-936.\n",
      "\n",
      "Chen X, Zhou B, Li M, Liang X, Wang H, Yang G, Wang H, Le X. 2004. Serology of severe acute respiratory syndrome: Implications for surveillance and outcome. J Infect Dis 189:1158-1163.\n",
      "\n",
      "Drosten C, Gunther S, Preiser W, van der WS, Brodt HR, Becker S, Rabenau H, Panning M, Kolesnikova L, Fouchier RA, Berger A, Burguiere AM, Cinatl J, Eickmann M, Escriou N, Grywna K, Kramme S, Manuguerra JC, Muller S, Rickerts V, Sturmer M, Vieth S, Klenk HD, Osterhaus AD, Schmitz H, Doerr HW. 2003. Identification of a novel coronavirus in patients with severe acute respiratory syndrome. N Engl J Med 348:1967-1976.\n",
      "\n",
      "Fouchier RA, Kuiken T, Schutten M, van Amerongen G, van Doornum GJ, van den Hoogen BG, Peiris M, Lim W, Stohr K, Osterhaus AD. 2003. Aetiology: Koch's postulates fulfilled for SARS virus. Nature 423:240.\n",
      "\n",
      "Guan M, Chen HY, Foo SY, Tan YJ, Goh PY, Wee SH. 2004. Recombinant protein-based enzyme-linked immunosorbent assay andimmunochromatographictestsfordetectionofimmunoglobulin G antibody to severe acute respiratory syndrome (SARS) coronavirus in SARS patients. Clin Diagn Lab Immunol 11:287-291.\n",
      "\n",
      "Huang LR, Chiu CM, Yeh SH, Huang WH, Hsueh PR, Yang WZ, Yang JY, Su IJ, Chang SC, Chen PJ. 2004. Evaluation of antibody responses against SARS coronaviral nucleocapsid or spike proteins by immunoblotting or ELISA. J Med Virol 73:338-346.\n",
      "\n",
      "Kim TW, Lee JH, Hung CF, Peng S, Roden R, Wang MC, Viscidi R, Tsai YC, He L, Chen PJ, Boyd DA, Wu TC. 2004. Generation and characterization of DNA vaccines targeting the nucleocapsid protein of severe acute respiratory syndrome coronavirus. J Virol 78:4638-4645.\n",
      "\n",
      "Ksiazek TG, Erdman D, Goldsmith CS, Zaki SR, Peret T, Emery S, TongS, Urbani C,Comer JA,Lim W, RollinPE, Dowell SF,Ling AE, HumphreyCD,Shieh WJ,Guarner J,PaddockCD, RotaP,FieldsB, DeRisi J, Yang JY, Cox N, Hughes JM, LeDuc JW, Bellini WJ, Anderson LJ. 2003. A novel coronavirus associated with severe acute respiratory syndrome. N Engl J Med 348:1953-1966.\n",
      "\n",
      "Kuiken T, Fouchier RAM, Schutten M, Rimmelzwaan GF, van Amerongen G, van Riel D, Laman JD, de Jong T, van Doornum G, Lim W,Ling AE,Chan PKS,Tam JS,Zambon MC, GopalR,Drosten C, van der WS, Escriou N, Manuguerra JC, Stohr K, Peiris JSM, Osterhaus ADME. 2003. Newly discovered coronavirus as the primary cause of severe acute respiratory syndrome. Lancet 362: 263-270.\n",
      "\n",
      "Lee N,HuiD,WuA,ChanP,CameronP,Joynt GM,Ahuja A,Yung MY, Leung CB, To KF, Lui SF, Szeto CC, Chung S, Sung JJY. 2003. A major outbreak ofsevere acute respiratory syndromeinHong Kong. N Engl J Med 348:1986-1994.\n",
      "\n",
      "Leung DT, Tam FC, Ma CH, Chan PK, Cheung JL, Niu H, Tam JS, Lim PK. 2004. Antibody response of patients with severe acute respiratory syndrome (SARS) targets the viral nucleocapsid. J Infect Dis 190:379-386.\n",
      "\n",
      "Liu X, Shi Y, Li P, Li L, Yi Y, Ma Q, Cao C. 2004. Profile of antibodies to the nucleocapsid protein of the severe acute respiratory syndrome (SARS)-associated coronavirus in probable SARS patients. Clin Diagn Lab Immunol 11:227-228.\n",
      "\n",
      "Peiris JS, Lai ST, Poon LL, Guan Y, Yam LY, Lim W, Nicholls J, Yee WK, Yan WW, Cheung MT, Cheng VC, Chan KH, Tsang DN, Yung RW, Ng TK, Yuen KY. 2003a. Coronavirus as a possible cause of severe acute respiratory syndrome. Lancet 361:1319-1325.\n",
      "\n",
      "Peiris JS, Chu CM, Cheng VC, Chan KS, Hung IF, Poon LL, Law KI, TangBS,HonTY,Chan CS,ChanKH,NgJS,ZhengBJ,Ng WL,Lai RW, Guan Y, Yuen KY. 2003b. Clinical progression and viral load in a community outbreak of coronavirus-associated SARS pneumonia: A prospective study. Lancet 361:1767-1772.\n",
      "\n",
      "Rainer TH. 2004. Severe acute respiratory syndrome: Clinical features, diagnosis, and management. Curr Opin Pulm Med 10:159-165.\n",
      "\n",
      "Shi Y, Yi Y, Li P, Kuang T, Li L, Dong M, Ma Q, Cao C. 2003. Diagnosis of severe acute respiratory syndrome (SARS) by detection of SARS coronavirus nucleocapsid antibodies in an antigen-capturing enzyme-linked immunosorbent assay. J Clin Microbiol 41:57815782.\n",
      "\n",
      "Timani KA, Ye L, Ye L, Zhu Y, Wu Z, Gong Z. 2004. Cloning, sequencing, expression, and purification of SARS-associated coronavirus nucleocapsid protein for serodiagnosis of SARS. J Clin Virol 30:309-312.\n",
      "\n",
      "Wang J, Wen J, Li J, Yin J, Zhu Q, Wang H, Yang Y, Qin E, You B, Li W, Li X, Huang S, Yang R, Zhang X, Yang L, Zhang T, Yin Y, Cui X, Tang X, Wang L, He B, Ma L, Lei T, Zeng C, Fang J, Yu J, Wang J, Yang H, West MB, Bhatnagar A, Lu Y, XU N, Liu S. 2003. Assessment of immunoreactive synthetic peptides for the structural proteins of severe acute respiratory syndrome coronavirus. Clin Chem 49:1989-1996.\n",
      "\n",
      "Woo PC, Lau SK, Wong BH, Tsoi HW, Fung AM, Chan KH, Tam VK, Peiris JS, Yuen KY. 2004a. Detection of specific antibodies to severe acute respiratory syndrome (SARS) coronavirus nucleocapsid protein for serodiagnosis of SARS coronavirus pneumonia. J Clin Microbiol 42:2306-2309.\n",
      "\n",
      "Woo PC, Lau SK, Wong BH, Chan KH, Chu CM, Tsoi HW, Huang Y, Peiris JS, Yuen KY. 2004b. Longitudinal profile of immunoglobulin G (IgG), IgM, and IgA antibodies against the severe acute respiratory syndrome (SARS) coronavirus nucleocapsid protein in patients with pneumonia due to the SARS coronavirus. Clin Diagn Lab Immunol 11:665-668.\n",
      "\n",
      "World Health Organization. 2003. Case definitions for surveillance of severe acute respiratory syndrome (SARS). (Accessed on April 20, 2004), available from: URL: http://www.who.int/csr/sars/ casedefinition/en/\n",
      "\n",
      "Zhu MS, Pan Y, Chen HQ, Shen Y, Wang XC, Sun YJ, Tao KH. 2004. Induction of SARS-nucleoprotein-specific immune response by use of DNA vaccine. Immunol Lett 92:237-243.\n"
     ]
    }
   ],
   "source": [
    "from docling.document_converter import DocumentConverter\n",
    "\n",
    "source = \"/workspace/data/test_eval/pdfs_100/10.1002$jmv.20254.pdf\"  # PDF path or URL\n",
    "converter = DocumentConverter()\n",
    "result = converter.convert(source)\n",
    "print(result.document.export_to_markdown())"
   ]
  }
 ],
 "metadata": {
  "kernelspec": {
   "display_name": "Python 3",
   "language": "python",
   "name": "python3"
  },
  "language_info": {
   "codemirror_mode": {
    "name": "ipython",
    "version": 3
   },
   "file_extension": ".py",
   "mimetype": "text/x-python",
   "name": "python",
   "nbconvert_exporter": "python",
   "pygments_lexer": "ipython3",
   "version": "3.10.12"
  }
 },
 "nbformat": 4,
 "nbformat_minor": 2
}
