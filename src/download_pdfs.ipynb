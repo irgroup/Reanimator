{
 "cells": [
  {
   "cell_type": "code",
   "execution_count": 1,
   "metadata": {},
   "outputs": [],
   "source": [
    "import pyterrier as pt\n",
    "import pandas as pd\n",
    "\n",
    "import pickle\n",
    "import requests\n",
    "import os\n",
    "\n",
    "from tqdm import tqdm\n",
    "\n",
    "from concurrent.futures import ThreadPoolExecutor, as_completed"
   ]
  },
  {
   "cell_type": "code",
   "execution_count": 2,
   "metadata": {},
   "outputs": [],
   "source": [
    "def doi_2_path(doi, root_path=\"/workspace/pdfs\"):\n",
    "    help_doi = doi.replace(\"/\", \"$\")\n",
    "    return root_path + \"/\" + help_doi + \".pdf\"\n",
    "\n",
    "def download_mising_pdf(doi, url, path_to_save = \"/workspace/pdfs\"):\n",
    "    full_path = doi_2_path(doi, path_to_save)\n",
    "    try:\n",
    "        if not os.path.exists(full_path):\n",
    "            response = requests.get(url)\n",
    "            with open(full_path, \"wb\") as f:\n",
    "                f.write(response.content)\n",
    "        \n",
    "        return True\n",
    "    except:\n",
    "        print(f\"{doi} failed\")\n",
    "        return False"
   ]
  },
  {
   "cell_type": "code",
   "execution_count": null,
   "metadata": {},
   "outputs": [],
   "source": [
    "urls = pickle.load(open(\"/workspace/next_pdf_urls.pkl\", \"rb\"))\n",
    "len(urls)"
   ]
  },
  {
   "cell_type": "code",
   "execution_count": null,
   "metadata": {},
   "outputs": [],
   "source": [
    "max_workers = 15\n",
    "\n",
    "healthy_cnt = 0\n",
    "bad_cnt = 0\n",
    "\n",
    "with ThreadPoolExecutor(max_workers=max_workers) as executor:\n",
    "    # Create a dictionary to store the future object and the corresponding missing_id\n",
    "    future_to_id = {executor.submit(download_mising_pdf, doi, url): doi for doi, url in urls.items()}\n",
    "    \n",
    "    # Iterate over completed futures and update the progress bar\n",
    "    for future in tqdm(as_completed(future_to_id), total=len(urls)):\n",
    "        res = future.result()\n",
    "        if res:\n",
    "            healthy_cnt += 1\n",
    "        else:\n",
    "            bad_cnt += 1\n",
    "\n",
    "print(f\"healthy_cnt: {healthy_cnt}, bad_cnt: {bad_cnt}\")"
   ]
  },
  {
   "cell_type": "code",
   "execution_count": 5,
   "metadata": {},
   "outputs": [],
   "source": [
    "#copy random 100 pdfs to /workspace/pdfs_100\n",
    "import random\n",
    "import shutil\n",
    "random.seed(42)\n",
    "\n",
    "for i in range(100):\n",
    "    random_pdf = random.choice(os.listdir(\"/workspace/pdfs\"))\n",
    "    shutil.copy(f\"/workspace/pdfs/{random_pdf}\", \"/workspace/pdfs_100/\")"
   ]
  },
  {
   "cell_type": "code",
   "execution_count": null,
   "metadata": {},
   "outputs": [],
   "source": []
  }
 ],
 "metadata": {
  "kernelspec": {
   "display_name": "Python 3",
   "language": "python",
   "name": "python3"
  },
  "language_info": {
   "codemirror_mode": {
    "name": "ipython",
    "version": 3
   },
   "file_extension": ".py",
   "mimetype": "text/x-python",
   "name": "python",
   "nbconvert_exporter": "python",
   "pygments_lexer": "ipython3",
   "version": "3.10.12"
  }
 },
 "nbformat": 4,
 "nbformat_minor": 2
}
