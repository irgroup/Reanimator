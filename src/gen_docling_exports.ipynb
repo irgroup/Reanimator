{
 "cells": [
  {
   "cell_type": "code",
   "execution_count": 1,
   "metadata": {},
   "outputs": [],
   "source": [
    "!export OMP_NUM_THREADS=1"
   ]
  },
  {
   "cell_type": "code",
   "execution_count": 2,
   "metadata": {},
   "outputs": [],
   "source": [
    "import glob\n",
    "from docling.document_converter import DocumentConverter, PdfFormatOption\n",
    "from docling.datamodel.pipeline_options import PdfPipelineOptions, TableFormerMode\n",
    "from docling.datamodel.base_models import InputFormat"
   ]
  },
  {
   "cell_type": "code",
   "execution_count": 3,
   "metadata": {},
   "outputs": [],
   "source": [
    "#options\n",
    "pipeline_options = PdfPipelineOptions(do_table_structure=True)\n",
    "pipeline_options.table_structure_options.mode = TableFormerMode.FAST \n",
    "#pipeline_options.table_structure_options.mode = TableFormerMode.ACCURATE "
   ]
  },
  {
   "cell_type": "code",
   "execution_count": 4,
   "metadata": {},
   "outputs": [],
   "source": [
    "doc_converter = DocumentConverter(\n",
    "    format_options={\n",
    "        InputFormat.PDF: PdfFormatOption(pipeline_options=pipeline_options)\n",
    "  }\n",
    ")"
   ]
  },
  {
   "cell_type": "code",
   "execution_count": 11,
   "metadata": {},
   "outputs": [],
   "source": [
    "pdf_paths = sorted(glob.glob(\"/workspace/workspace/pdfs/*\"))[3:7]"
   ]
  },
  {
   "cell_type": "code",
   "execution_count": 14,
   "metadata": {},
   "outputs": [],
   "source": [
    "results = doc_converter.convert_all(pdf_paths)"
   ]
  },
  {
   "cell_type": "code",
   "execution_count": 15,
   "metadata": {},
   "outputs": [
    {
     "name": "stderr",
     "output_type": "stream",
     "text": [
      "/usr/local/lib/python3.10/dist-packages/tqdm/auto.py:21: TqdmWarning: IProgress not found. Please update jupyter and ipywidgets. See https://ipywidgets.readthedocs.io/en/stable/user_install.html\n",
      "  from .autonotebook import tqdm as notebook_tqdm\n",
      "Fetching 9 files:  56%|█████▌    | 5/9 [00:14<00:13,  3.36s/it]Error while downloading from https://cdn-lfs-us-1.hf.co/repos/84/16/8416a7eb6bc0964a8abb5bb890afca2b8384fdc1e010a788e6c411a97c4d2305/eb5ee88f5e411e2a7925837c05de5236bee1934569433b4ab58371ffba3f1da6?response-content-disposition=inline%3B+filename*%3DUTF-8%27%27otslp_all_standard_094_clean.check%3B+filename%3D%22otslp_all_standard_094_clean.check%22%3B&Expires=1733560469&Policy=eyJTdGF0ZW1lbnQiOlt7IkNvbmRpdGlvbiI6eyJEYXRlTGVzc1RoYW4iOnsiQVdTOkVwb2NoVGltZSI6MTczMzU2MDQ2OX19LCJSZXNvdXJjZSI6Imh0dHBzOi8vY2RuLWxmcy11cy0xLmhmLmNvL3JlcG9zLzg0LzE2Lzg0MTZhN2ViNmJjMDk2NGE4YWJiNWJiODkwYWZjYTJiODM4NGZkYzFlMDEwYTc4OGU2YzQxMWE5N2M0ZDIzMDUvZWI1ZWU4OGY1ZTQxMWUyYTc5MjU4MzdjMDVkZTUyMzZiZWUxOTM0NTY5NDMzYjRhYjU4MzcxZmZiYTNmMWRhNj9yZXNwb25zZS1jb250ZW50LWRpc3Bvc2l0aW9uPSoifV19&Signature=jpoP0lV8bxl4SxlXvrHNex-gfTgh1t-cnaXq%7EOMD8GCJRbh-MTEcniATOlX2rvE-olH09tOTmKNlnOvfn%7ERW9oyTqN3RPRdmDOrkMo4Bizs2A7orNVZIYzjSbMOxRqzDq0%7E84bABTbICFqxnoO3a9aQk9IWy1mbMlM7PtTh44NsBVJjAFeaOUoRrAp5tiPPlo5uvmOdSalOUXgH1EeqnUwRQ8lQqZ%7ENRCB6EAUI0iKVb%7EnA2kPVO1kyIilaX5mQ8c1j6tr3AxAnYEXOsCEn4y2S6Wr4H9btPa4QDTQr1oLgvwAEFIfS4TODXovbJHpuBvgNtF4zFIRY8mPuFkqKcqg__&Key-Pair-Id=K24J24Z295AEI9: HTTPSConnectionPool(host='cdn-lfs-us-1.hf.co', port=443): Read timed out.\n",
      "Trying to resume download...\n",
      "Fetching 9 files: 100%|██████████| 9/9 [00:24<00:00,  2.67s/it]\n",
      "Downloading detection model, please wait. This may take several minutes depending upon your network connection.\n"
     ]
    },
    {
     "name": "stdout",
     "output_type": "stream",
     "text": [
      "Progress: |██████████████████████████████████████████████████| 100.0% Complete"
     ]
    },
    {
     "name": "stderr",
     "output_type": "stream",
     "text": [
      "Downloading recognition model, please wait. This may take several minutes depending upon your network connection.\n"
     ]
    },
    {
     "name": "stdout",
     "output_type": "stream",
     "text": [
      "Progress: |██████████████████████████████████████████████████| 100.0% Complete10.1002$ptr.6776.pdf\n",
      "10.1007$978-1-4939-2438-7_22.pdf\n",
      "10.1007$978-3-030-03344-6_24.pdf\n",
      "10.1007$978-3-030-45442-5_51.pdf\n"
     ]
    }
   ],
   "source": [
    "for res in results:\n",
    "    print(res.input.file.name)"
   ]
  }
 ],
 "metadata": {
  "kernelspec": {
   "display_name": "Python 3",
   "language": "python",
   "name": "python3"
  },
  "language_info": {
   "codemirror_mode": {
    "name": "ipython",
    "version": 3
   },
   "file_extension": ".py",
   "mimetype": "text/x-python",
   "name": "python",
   "nbconvert_exporter": "python",
   "pygments_lexer": "ipython3",
   "version": "3.10.12"
  }
 },
 "nbformat": 4,
 "nbformat_minor": 2
}
